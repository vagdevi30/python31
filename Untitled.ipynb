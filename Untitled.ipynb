{
 "cells": [
  {
   "cell_type": "markdown",
   "id": "b47df43b-2746-4768-a11f-215e02679510",
   "metadata": {},
   "source": [
    "# Lists"
   ]
  },
  {
   "cell_type": "code",
   "execution_count": 1,
   "id": "ed2af6ad-9a01-462f-a922-8160ee2b8076",
   "metadata": {},
   "outputs": [
    {
     "data": {
      "text/plain": [
       "4"
      ]
     },
     "execution_count": 1,
     "metadata": {},
     "output_type": "execute_result"
    }
   ],
   "source": [
    "list1 = [1,2,3,4]\n",
    "list1[3]"
   ]
  },
  {
   "cell_type": "code",
   "execution_count": 34,
   "id": "075e9c9b-717b-4a6f-abc7-073ba5a2af37",
   "metadata": {},
   "outputs": [
    {
     "data": {
      "text/plain": [
       "[2, 3, 4, 5, 6]"
      ]
     },
     "execution_count": 34,
     "metadata": {},
     "output_type": "execute_result"
    }
   ],
   "source": [
    "list1 = [1,2,3,4,5,6,7,8,9,10]\n",
    "list1[1:6]"
   ]
  },
  {
   "cell_type": "code",
   "execution_count": 3,
   "id": "a84beadc-5a21-464a-9810-fe8d3d1acce7",
   "metadata": {},
   "outputs": [
    {
     "data": {
      "text/plain": [
       "[6, 7, 8, 9]"
      ]
     },
     "execution_count": 3,
     "metadata": {},
     "output_type": "execute_result"
    }
   ],
   "source": [
    "list1 = [1,2,3,4,5,6,7,8,9,10]\n",
    "list1[5:9]"
   ]
  },
  {
   "cell_type": "code",
   "execution_count": 4,
   "id": "b3b5a81c-0704-44fe-b663-b79aa73baa1c",
   "metadata": {},
   "outputs": [
    {
     "data": {
      "text/plain": [
       "[]"
      ]
     },
     "execution_count": 4,
     "metadata": {},
     "output_type": "execute_result"
    }
   ],
   "source": [
    "list1 = [1,2,3,4,5,6,7,8,9,10]\n",
    "list1[-6:-9]"
   ]
  },
  {
   "cell_type": "code",
   "execution_count": 5,
   "id": "e7c78f18-e330-4352-aa84-32942c48b0ad",
   "metadata": {},
   "outputs": [
    {
     "data": {
      "text/plain": [
       "[2, 3, 4]"
      ]
     },
     "execution_count": 5,
     "metadata": {},
     "output_type": "execute_result"
    }
   ],
   "source": [
    "list1[-9:-6]"
   ]
  },
  {
   "cell_type": "code",
   "execution_count": 6,
   "id": "be510834-73d6-49f3-b5dc-beb5b3525916",
   "metadata": {},
   "outputs": [
    {
     "data": {
      "text/plain": [
       "'cherry'"
      ]
     },
     "execution_count": 6,
     "metadata": {},
     "output_type": "execute_result"
    }
   ],
   "source": [
    "list1=[\"mango\",\"apple\",\"cherry\",\"banana\"]\n",
    "list1[2]"
   ]
  },
  {
   "cell_type": "code",
   "execution_count": 7,
   "id": "d18ad3ab-8f8a-4f5c-b201-d4e59d759841",
   "metadata": {},
   "outputs": [
    {
     "data": {
      "text/plain": [
       "['mango', 'apple']"
      ]
     },
     "execution_count": 7,
     "metadata": {},
     "output_type": "execute_result"
    }
   ],
   "source": [
    "list1[0:2]"
   ]
  },
  {
   "cell_type": "code",
   "execution_count": 8,
   "id": "f8136afc-1587-4459-b873-cebf3ec82073",
   "metadata": {},
   "outputs": [],
   "source": [
    "list1[2] = \"strawberry\""
   ]
  },
  {
   "cell_type": "code",
   "execution_count": 9,
   "id": "fa311c31-962b-4b47-8c14-cf4f4b1f6134",
   "metadata": {},
   "outputs": [
    {
     "data": {
      "text/plain": [
       "['mango', 'apple', 'strawberry', 'banana']"
      ]
     },
     "execution_count": 9,
     "metadata": {},
     "output_type": "execute_result"
    }
   ],
   "source": [
    "list1"
   ]
  },
  {
   "cell_type": "code",
   "execution_count": 10,
   "id": "03e5316e-bb64-4b1b-a6fa-ca046c51c86a",
   "metadata": {},
   "outputs": [
    {
     "data": {
      "text/plain": [
       "True"
      ]
     },
     "execution_count": 10,
     "metadata": {},
     "output_type": "execute_result"
    }
   ],
   "source": [
    "list2 = [\"mango\",1,2.5,True]\n",
    "list2[3]"
   ]
  },
  {
   "cell_type": "code",
   "execution_count": 12,
   "id": "a2d43d59-cb3e-415e-9cb6-7be0a5696424",
   "metadata": {},
   "outputs": [],
   "source": [
    "list1=[\"mango\",\"apple\",\"cherry\"]\n",
    "list1.append(\"banana\")"
   ]
  },
  {
   "cell_type": "code",
   "execution_count": 13,
   "id": "18d5ad74-64d6-4daf-9e10-5e2da675d135",
   "metadata": {},
   "outputs": [
    {
     "data": {
      "text/plain": [
       "['mango', 'apple', 'cherry', 'banana']"
      ]
     },
     "execution_count": 13,
     "metadata": {},
     "output_type": "execute_result"
    }
   ],
   "source": [
    "list1"
   ]
  },
  {
   "cell_type": "code",
   "execution_count": 15,
   "id": "44536f3e-8d87-4df7-aebf-3d211779c762",
   "metadata": {},
   "outputs": [],
   "source": [
    "list1.append(\"man\")"
   ]
  },
  {
   "cell_type": "code",
   "execution_count": 16,
   "id": "943d2bd3-0760-41b7-9dfb-f026a87ac57c",
   "metadata": {},
   "outputs": [],
   "source": [
    "list1.append(\"ran\")"
   ]
  },
  {
   "cell_type": "code",
   "execution_count": 17,
   "id": "bef0b85e-1cdd-41b7-aee2-9877cdcefed6",
   "metadata": {},
   "outputs": [],
   "source": [
    "list1.append(\"clan\")"
   ]
  },
  {
   "cell_type": "code",
   "execution_count": 18,
   "id": "b829164b-738f-4aec-8be1-e0f11d4d2e5a",
   "metadata": {},
   "outputs": [
    {
     "data": {
      "text/plain": [
       "['mango', 'apple', 'cherry', 'banana', 'man', 'ran', 'clan']"
      ]
     },
     "execution_count": 18,
     "metadata": {},
     "output_type": "execute_result"
    }
   ],
   "source": [
    "list1"
   ]
  },
  {
   "cell_type": "code",
   "execution_count": 19,
   "id": "aea746cc-1a79-480e-a398-700f1f82bd81",
   "metadata": {},
   "outputs": [],
   "source": [
    "list1.insert(1,\"grapes\")"
   ]
  },
  {
   "cell_type": "code",
   "execution_count": 20,
   "id": "e3c2c0b6-0c7e-4f01-9bc8-74f153c63e44",
   "metadata": {},
   "outputs": [
    {
     "data": {
      "text/plain": [
       "['mango', 'grapes', 'apple', 'cherry', 'banana', 'man', 'ran', 'clan']"
      ]
     },
     "execution_count": 20,
     "metadata": {},
     "output_type": "execute_result"
    }
   ],
   "source": [
    "list1"
   ]
  },
  {
   "cell_type": "code",
   "execution_count": 24,
   "id": "27970578-6088-452f-9eaa-94468b27e12f",
   "metadata": {},
   "outputs": [],
   "source": [
    "list3=[\"apple\",\"banana\",\"grapes\"]"
   ]
  },
  {
   "cell_type": "code",
   "execution_count": 25,
   "id": "deddcc9c-0859-4699-9a54-1d842d663901",
   "metadata": {},
   "outputs": [],
   "source": [
    "list3.remove(\"banana\")"
   ]
  },
  {
   "cell_type": "code",
   "execution_count": 26,
   "id": "48f79c03-a45e-4cf0-9742-4f742979083f",
   "metadata": {},
   "outputs": [
    {
     "data": {
      "text/plain": [
       "['apple', 'grapes']"
      ]
     },
     "execution_count": 26,
     "metadata": {},
     "output_type": "execute_result"
    }
   ],
   "source": [
    "list3"
   ]
  },
  {
   "cell_type": "code",
   "execution_count": 27,
   "id": "a059e3e4-5f02-452e-b4df-388c00bc617f",
   "metadata": {},
   "outputs": [],
   "source": [
    "del list3"
   ]
  },
  {
   "cell_type": "code",
   "execution_count": 28,
   "id": "604d50f6-077b-4ee1-865a-b4326af4cc74",
   "metadata": {},
   "outputs": [
    {
     "ename": "NameError",
     "evalue": "name 'list3' is not defined",
     "output_type": "error",
     "traceback": [
      "\u001b[1;31m---------------------------------------------------------------------------\u001b[0m",
      "\u001b[1;31mNameError\u001b[0m                                 Traceback (most recent call last)",
      "\u001b[1;32m<ipython-input-28-a8df83817861>\u001b[0m in \u001b[0;36m<module>\u001b[1;34m\u001b[0m\n\u001b[1;32m----> 1\u001b[1;33m \u001b[0mlist3\u001b[0m\u001b[1;33m\u001b[0m\u001b[1;33m\u001b[0m\u001b[0m\n\u001b[0m",
      "\u001b[1;31mNameError\u001b[0m: name 'list3' is not defined"
     ]
    }
   ],
   "source": [
    "list3"
   ]
  },
  {
   "cell_type": "code",
   "execution_count": 29,
   "id": "715901c2-91ba-404b-a567-7db1bf188b7c",
   "metadata": {},
   "outputs": [
    {
     "data": {
      "text/plain": [
       "['mango', 'grapes', 'apple', 'cherry', 'man', 'ran', 'clan']"
      ]
     },
     "execution_count": 29,
     "metadata": {},
     "output_type": "execute_result"
    }
   ],
   "source": [
    "list1"
   ]
  },
  {
   "cell_type": "code",
   "execution_count": 30,
   "id": "b3bf831f-997a-4cbc-a905-a06801a1aa9d",
   "metadata": {},
   "outputs": [
    {
     "data": {
      "text/plain": [
       "'clan'"
      ]
     },
     "execution_count": 30,
     "metadata": {},
     "output_type": "execute_result"
    }
   ],
   "source": [
    "list1.pop()"
   ]
  },
  {
   "cell_type": "code",
   "execution_count": 31,
   "id": "67089bde-0a8b-4f12-b4c7-dff7aaed3822",
   "metadata": {},
   "outputs": [
    {
     "data": {
      "text/plain": [
       "'man'"
      ]
     },
     "execution_count": 31,
     "metadata": {},
     "output_type": "execute_result"
    }
   ],
   "source": [
    "list1.pop(4)"
   ]
  },
  {
   "cell_type": "code",
   "execution_count": 32,
   "id": "0acf4917-9015-4ce2-b5fd-006c862dbe7c",
   "metadata": {},
   "outputs": [],
   "source": [
    "list1.sort()"
   ]
  },
  {
   "cell_type": "code",
   "execution_count": 33,
   "id": "7a117692-7784-4ea2-bf67-a5c84f408994",
   "metadata": {},
   "outputs": [
    {
     "data": {
      "text/plain": [
       "['apple', 'cherry', 'grapes', 'mango', 'ran']"
      ]
     },
     "execution_count": 33,
     "metadata": {},
     "output_type": "execute_result"
    }
   ],
   "source": [
    "list1"
   ]
  },
  {
   "cell_type": "code",
   "execution_count": 32,
   "id": "69c55425-2b15-416b-935d-8cf91667e0b0",
   "metadata": {},
   "outputs": [],
   "source": [
    "list1.sort(reverse = True)"
   ]
  },
  {
   "cell_type": "code",
   "execution_count": 36,
   "id": "ac8fe854-c9fc-464f-a8a0-ea2b096ef2b4",
   "metadata": {},
   "outputs": [
    {
     "data": {
      "text/plain": [
       "['ran', 'mango', 'grapes', 'cherry', 'apple']"
      ]
     },
     "execution_count": 36,
     "metadata": {},
     "output_type": "execute_result"
    }
   ],
   "source": [
    "list1"
   ]
  },
  {
   "cell_type": "code",
   "execution_count": 38,
   "id": "755da4c9-9a44-49e9-8e9c-4e4ef3473ba5",
   "metadata": {},
   "outputs": [],
   "source": [
    "del list1[2]"
   ]
  },
  {
   "cell_type": "code",
   "execution_count": 39,
   "id": "2abf12bf-b149-45d6-9a2c-811e82c7e1c6",
   "metadata": {},
   "outputs": [
    {
     "data": {
      "text/plain": [
       "['ran', 'mango', 'cherry', 'apple']"
      ]
     },
     "execution_count": 39,
     "metadata": {},
     "output_type": "execute_result"
    }
   ],
   "source": [
    "list1"
   ]
  },
  {
   "cell_type": "code",
   "execution_count": 40,
   "id": "a0b1b11c-9b6e-4b30-93ec-4c22fa653b38",
   "metadata": {},
   "outputs": [
    {
     "data": {
      "text/plain": [
       "['apple', 'cherry', 'mango', 'ran']"
      ]
     },
     "execution_count": 40,
     "metadata": {},
     "output_type": "execute_result"
    }
   ],
   "source": [
    "list1[::-1]"
   ]
  },
  {
   "cell_type": "markdown",
   "id": "6bd4ee3e-5c18-45e2-94fa-6f6cce959f2e",
   "metadata": {},
   "source": [
    "# print formats"
   ]
  },
  {
   "cell_type": "code",
   "execution_count": 41,
   "id": "242d66d4-5f2a-4380-a08a-2211469e1617",
   "metadata": {},
   "outputs": [
    {
     "name": "stdout",
     "output_type": "stream",
     "text": [
      "ram and lakshman are old 1200 bc\n"
     ]
    }
   ],
   "source": [
    "a = \"ram\"\n",
    "b=\"lakshman\"\n",
    "c=1200\n",
    "print('{} and {} are old {} bc'.format(a,b,c))"
   ]
  },
  {
   "cell_type": "code",
   "execution_count": 44,
   "id": "eac5478d-55a6-42ae-8a29-fbfd3755e2ec",
   "metadata": {},
   "outputs": [
    {
     "name": "stdout",
     "output_type": "stream",
     "text": [
      "ram and lakshman are old 1200 bc\n"
     ]
    }
   ],
   "source": [
    "a = \"ram\"\n",
    "b=\"lakshman\"\n",
    "c=1200\n",
    "print('{0} and {1} are old {2} bc'.format(a,b,c))"
   ]
  },
  {
   "cell_type": "code",
   "execution_count": 46,
   "id": "e8bb548b-bcf9-4e09-aee2-383ca45ac6d8",
   "metadata": {},
   "outputs": [
    {
     "name": "stdout",
     "output_type": "stream",
     "text": [
      "ram and lakshman are old 1200 bc\n"
     ]
    }
   ],
   "source": [
    "a = \"ram\"\n",
    "b=\"lakshman\"\n",
    "c=1200\n",
    "print('%s and %s are old %s bc'%(a,b,c))"
   ]
  },
  {
   "cell_type": "code",
   "execution_count": 47,
   "id": "5b8abf0e-34ed-4edf-886c-cd1ee9d50e7e",
   "metadata": {},
   "outputs": [
    {
     "name": "stdout",
     "output_type": "stream",
     "text": [
      "ram and lakshman are old 1200\n"
     ]
    }
   ],
   "source": [
    "a = \"ram\"\n",
    "b=\"lakshman\"\n",
    "c=1200\n",
    "print(f'{a} and {b} are old {c}')"
   ]
  },
  {
   "cell_type": "markdown",
   "id": "41b69c84-7258-4c7b-9e10-62b9b861aae7",
   "metadata": {},
   "source": [
    "# Add in to the list"
   ]
  },
  {
   "cell_type": "code",
   "execution_count": 29,
   "id": "bf7d38c0-7fd7-4541-8f63-3136851bdb70",
   "metadata": {},
   "outputs": [],
   "source": [
    "list1 = [1,2,3,4,5]\n",
    "list1[0:3] = 7,8,9"
   ]
  },
  {
   "cell_type": "code",
   "execution_count": 30,
   "id": "700e7590-b7f4-48a6-98f2-0ec90c245a2d",
   "metadata": {},
   "outputs": [
    {
     "data": {
      "text/plain": [
       "[7, 8, 9, 4, 5]"
      ]
     },
     "execution_count": 30,
     "metadata": {},
     "output_type": "execute_result"
    }
   ],
   "source": [
    "list1"
   ]
  },
  {
   "cell_type": "code",
   "execution_count": 49,
   "id": "dfc170e8-630a-45b2-b143-8558c9652725",
   "metadata": {},
   "outputs": [
    {
     "data": {
      "text/plain": [
       "4"
      ]
     },
     "execution_count": 49,
     "metadata": {},
     "output_type": "execute_result"
    }
   ],
   "source": [
    "len(list1)"
   ]
  },
  {
   "cell_type": "code",
   "execution_count": 50,
   "id": "25069fd5-ab65-49e4-990b-70dd0124b31a",
   "metadata": {},
   "outputs": [
    {
     "data": {
      "text/plain": [
       "list"
      ]
     },
     "execution_count": 50,
     "metadata": {},
     "output_type": "execute_result"
    }
   ],
   "source": [
    "type(list1)"
   ]
  },
  {
   "cell_type": "code",
   "execution_count": 52,
   "id": "969474f8-c6fc-4c19-b5cf-921d0843399e",
   "metadata": {},
   "outputs": [],
   "source": [
    "list1.append(1)"
   ]
  },
  {
   "cell_type": "code",
   "execution_count": 53,
   "id": "47d02614-52d0-43ea-897d-d58fafb01045",
   "metadata": {},
   "outputs": [
    {
     "data": {
      "text/plain": [
       "['ran', 'mango', 'cherry', 'apple', 1]"
      ]
     },
     "execution_count": 53,
     "metadata": {},
     "output_type": "execute_result"
    }
   ],
   "source": [
    "list1"
   ]
  },
  {
   "cell_type": "code",
   "execution_count": 54,
   "id": "c6e6289b-6eff-4bfe-89db-a7f35e7dc8b7",
   "metadata": {},
   "outputs": [
    {
     "data": {
      "text/plain": [
       "['ran', 'mango']"
      ]
     },
     "execution_count": 54,
     "metadata": {},
     "output_type": "execute_result"
    }
   ],
   "source": [
    "list1[:2]"
   ]
  },
  {
   "cell_type": "code",
   "execution_count": 55,
   "id": "32c43074-3da8-44fb-8bc7-0db6cc18728b",
   "metadata": {},
   "outputs": [
    {
     "data": {
      "text/plain": [
       "['apple', 1]"
      ]
     },
     "execution_count": 55,
     "metadata": {},
     "output_type": "execute_result"
    }
   ],
   "source": [
    "list1[3:]"
   ]
  },
  {
   "cell_type": "code",
   "execution_count": 59,
   "id": "5adaff85-1d9e-483b-829f-ea0680512eb3",
   "metadata": {},
   "outputs": [],
   "source": [
    "list1.insert(1,\"mango\")"
   ]
  },
  {
   "cell_type": "code",
   "execution_count": 60,
   "id": "a512dd03-cfa7-4e46-b1da-50b28499714f",
   "metadata": {},
   "outputs": [
    {
     "data": {
      "text/plain": [
       "['ran', 'mango', 'mango', 'cherry', 'apple', 1]"
      ]
     },
     "execution_count": 60,
     "metadata": {},
     "output_type": "execute_result"
    }
   ],
   "source": [
    "list1"
   ]
  },
  {
   "cell_type": "code",
   "execution_count": 62,
   "id": "74792c21-2647-4269-83ed-f78eadd1708f",
   "metadata": {},
   "outputs": [],
   "source": [
    "list1.append(\"banana\")"
   ]
  },
  {
   "cell_type": "markdown",
   "id": "1f0c5a57-85f6-4267-a594-fd3e67328230",
   "metadata": {},
   "source": [
    "list1"
   ]
  },
  {
   "cell_type": "code",
   "execution_count": 63,
   "id": "3c724a97-3362-4014-b985-26e0f102c20f",
   "metadata": {},
   "outputs": [
    {
     "data": {
      "text/plain": [
       "['ran', 'mango', 'mango', 'cherry', 'apple', 1, 'banana']"
      ]
     },
     "execution_count": 63,
     "metadata": {},
     "output_type": "execute_result"
    }
   ],
   "source": [
    "list1"
   ]
  },
  {
   "cell_type": "code",
   "execution_count": 71,
   "id": "b1059cac-5f23-4444-befb-98253506516e",
   "metadata": {},
   "outputs": [],
   "source": [
    "list1.remove('mango')"
   ]
  },
  {
   "cell_type": "markdown",
   "id": "a0c08240-51e4-48d3-8c42-4c5f5eec00c5",
   "metadata": {},
   "source": [
    "list1"
   ]
  },
  {
   "cell_type": "code",
   "execution_count": 72,
   "id": "633974f0-8933-4b4f-b2af-1c7d5f6d6c29",
   "metadata": {},
   "outputs": [
    {
     "data": {
      "text/plain": [
       "['ran', 'mango', 'cherry', 'apple', 'banana']"
      ]
     },
     "execution_count": 72,
     "metadata": {},
     "output_type": "execute_result"
    }
   ],
   "source": [
    "list1"
   ]
  },
  {
   "cell_type": "code",
   "execution_count": 76,
   "id": "e82c8e7c-c1a9-43da-8c7f-5de572a7d16e",
   "metadata": {},
   "outputs": [],
   "source": [
    "list3=[\"sit\",\"sail\",\"snake\"]"
   ]
  },
  {
   "cell_type": "code",
   "execution_count": 77,
   "id": "f0794f22-ab8a-4ddf-8591-585a21a3d828",
   "metadata": {},
   "outputs": [
    {
     "data": {
      "text/plain": [
       "['sit', 'sail', 'snake']"
      ]
     },
     "execution_count": 77,
     "metadata": {},
     "output_type": "execute_result"
    }
   ],
   "source": [
    "list3"
   ]
  },
  {
   "cell_type": "code",
   "execution_count": 79,
   "id": "7191ed6c-9ecf-427e-b3d3-e4e55ee0fa2a",
   "metadata": {},
   "outputs": [],
   "source": [
    "list3.clear()"
   ]
  },
  {
   "cell_type": "code",
   "execution_count": 80,
   "id": "15f3a719-e72e-4618-abf6-ffa52f3550a9",
   "metadata": {},
   "outputs": [
    {
     "data": {
      "text/plain": [
       "[]"
      ]
     },
     "execution_count": 80,
     "metadata": {},
     "output_type": "execute_result"
    }
   ],
   "source": [
    "list3"
   ]
  },
  {
   "cell_type": "code",
   "execution_count": 81,
   "id": "d48adfe2-3491-41f1-9a57-73862152e998",
   "metadata": {},
   "outputs": [
    {
     "data": {
      "text/plain": [
       "[]"
      ]
     },
     "execution_count": 81,
     "metadata": {},
     "output_type": "execute_result"
    }
   ],
   "source": [
    "list1"
   ]
  },
  {
   "cell_type": "code",
   "execution_count": 36,
   "id": "55f04ff2-cead-4a53-bb6f-29d3c48688ca",
   "metadata": {},
   "outputs": [
    {
     "name": "stdout",
     "output_type": "stream",
     "text": [
      "p\n",
      "pr\n",
      "pro\n",
      "prob\n",
      "probl\n",
      "proble\n",
      "problem\n"
     ]
    }
   ],
   "source": [
    "mylist = list('problem')\n",
    "mystr = ''\n",
    "for i in mylist:\n",
    "    mystr = mystr+i\n",
    "    print(mystr)\n",
    "    "
   ]
  },
  {
   "cell_type": "code",
   "execution_count": 17,
   "id": "7f6dbd01-9e1a-40db-b766-8141f580c7ec",
   "metadata": {},
   "outputs": [],
   "source": [
    "list1 = ['apple','mango','grapes','banana']"
   ]
  },
  {
   "cell_type": "code",
   "execution_count": 83,
   "id": "e18b0612-593a-4c6a-b84c-4156ff7288f9",
   "metadata": {},
   "outputs": [
    {
     "data": {
      "text/plain": [
       "['apple', 'mango', 'grapes', 'banana']"
      ]
     },
     "execution_count": 83,
     "metadata": {},
     "output_type": "execute_result"
    }
   ],
   "source": [
    "list1"
   ]
  },
  {
   "cell_type": "code",
   "execution_count": 84,
   "id": "9c9fe364-b5f4-447b-9e27-005d56346ec2",
   "metadata": {},
   "outputs": [],
   "source": [
    "list2 = list1.copy()"
   ]
  },
  {
   "cell_type": "code",
   "execution_count": 85,
   "id": "1cb18563-88ac-4bac-9678-bb66aa01c96d",
   "metadata": {},
   "outputs": [
    {
     "data": {
      "text/plain": [
       "['apple', 'mango', 'grapes', 'banana']"
      ]
     },
     "execution_count": 85,
     "metadata": {},
     "output_type": "execute_result"
    }
   ],
   "source": [
    "list2"
   ]
  },
  {
   "cell_type": "code",
   "execution_count": 86,
   "id": "51cc3973-ff75-4eb4-aa39-64ac58d6de21",
   "metadata": {},
   "outputs": [],
   "source": [
    "list2 = list(list1)"
   ]
  },
  {
   "cell_type": "code",
   "execution_count": 87,
   "id": "78547e2f-6891-499b-97ce-38f122574b1f",
   "metadata": {},
   "outputs": [
    {
     "data": {
      "text/plain": [
       "['apple', 'mango', 'grapes', 'banana']"
      ]
     },
     "execution_count": 87,
     "metadata": {},
     "output_type": "execute_result"
    }
   ],
   "source": [
    "list2"
   ]
  },
  {
   "cell_type": "code",
   "execution_count": 88,
   "id": "2f5be8e4-9fb0-4ae6-b214-ee7bd970422b",
   "metadata": {},
   "outputs": [
    {
     "data": {
      "text/plain": [
       "['mango', 'grapes']"
      ]
     },
     "execution_count": 88,
     "metadata": {},
     "output_type": "execute_result"
    }
   ],
   "source": [
    "list2[1:3]"
   ]
  },
  {
   "cell_type": "code",
   "execution_count": 95,
   "id": "72651381-ec12-4a1d-9731-ddbab8be0753",
   "metadata": {},
   "outputs": [
    {
     "data": {
      "text/plain": [
       "['grapes', 'banana']"
      ]
     },
     "execution_count": 95,
     "metadata": {},
     "output_type": "execute_result"
    }
   ],
   "source": [
    "list2[2:]\n"
   ]
  },
  {
   "cell_type": "code",
   "execution_count": 93,
   "id": "d2a24537-e502-44a4-b994-eda566c6d962",
   "metadata": {},
   "outputs": [
    {
     "data": {
      "text/plain": [
       "['apple', 'mango']"
      ]
     },
     "execution_count": 93,
     "metadata": {},
     "output_type": "execute_result"
    }
   ],
   "source": [
    "list2[:2]"
   ]
  },
  {
   "cell_type": "code",
   "execution_count": 1,
   "id": "5db5e7b1-5072-45b6-8922-073c8a6c5427",
   "metadata": {},
   "outputs": [
    {
     "ename": "NameError",
     "evalue": "name 'list1' is not defined",
     "output_type": "error",
     "traceback": [
      "\u001b[1;31m---------------------------------------------------------------------------\u001b[0m",
      "\u001b[1;31mNameError\u001b[0m                                 Traceback (most recent call last)",
      "\u001b[1;32m<ipython-input-1-32e3a55f6bef>\u001b[0m in \u001b[0;36m<module>\u001b[1;34m\u001b[0m\n\u001b[1;32m----> 1\u001b[1;33m \u001b[0mlist1\u001b[0m\u001b[1;33m\u001b[0m\u001b[1;33m\u001b[0m\u001b[0m\n\u001b[0m",
      "\u001b[1;31mNameError\u001b[0m: name 'list1' is not defined"
     ]
    }
   ],
   "source": [
    "list1"
   ]
  },
  {
   "cell_type": "code",
   "execution_count": 2,
   "id": "29d6905c-61a1-4b42-9ec6-923c0384b82a",
   "metadata": {},
   "outputs": [],
   "source": [
    "list1 = [\"apple\",\"mango\",\"cherry\",1,2.5]"
   ]
  },
  {
   "cell_type": "code",
   "execution_count": 3,
   "id": "1e58d06d-b489-4464-a530-f334a9dfda6b",
   "metadata": {},
   "outputs": [
    {
     "data": {
      "text/plain": [
       "['apple', 'mango', 'cherry', 1, 2.5]"
      ]
     },
     "execution_count": 3,
     "metadata": {},
     "output_type": "execute_result"
    }
   ],
   "source": [
    "list1"
   ]
  },
  {
   "cell_type": "code",
   "execution_count": 4,
   "id": "1e162a8d-067a-4890-a21d-d6935ee78d36",
   "metadata": {},
   "outputs": [],
   "source": [
    "list1.append(\"banana\")"
   ]
  },
  {
   "cell_type": "code",
   "execution_count": 5,
   "id": "abdba2eb-51e6-4de0-a09d-f9d100a89599",
   "metadata": {},
   "outputs": [
    {
     "data": {
      "text/plain": [
       "['apple', 'mango', 'cherry', 1, 2.5, 'banana']"
      ]
     },
     "execution_count": 5,
     "metadata": {},
     "output_type": "execute_result"
    }
   ],
   "source": [
    "list1"
   ]
  },
  {
   "cell_type": "code",
   "execution_count": 7,
   "id": "aca0ae95-c304-4efb-a4b6-c435d87eeeab",
   "metadata": {},
   "outputs": [],
   "source": [
    "list1.insert(1,\"strawberry\")"
   ]
  },
  {
   "cell_type": "code",
   "execution_count": 8,
   "id": "341dcc2a-a2a0-408d-8cf6-ad1b892a0dd4",
   "metadata": {},
   "outputs": [
    {
     "data": {
      "text/plain": [
       "['apple', 'strawberry', 'mango', 'cherry', 1, 2.5, 'banana']"
      ]
     },
     "execution_count": 8,
     "metadata": {},
     "output_type": "execute_result"
    }
   ],
   "source": [
    "list1"
   ]
  },
  {
   "cell_type": "code",
   "execution_count": 9,
   "id": "7d884cec-5f7c-43f3-86fa-c6fbdd8bf744",
   "metadata": {},
   "outputs": [
    {
     "data": {
      "text/plain": [
       "'banana'"
      ]
     },
     "execution_count": 9,
     "metadata": {},
     "output_type": "execute_result"
    }
   ],
   "source": [
    "list1.pop()"
   ]
  },
  {
   "cell_type": "code",
   "execution_count": 11,
   "id": "8ca472ee-cd2d-4308-908d-970abc7c8330",
   "metadata": {},
   "outputs": [
    {
     "data": {
      "text/plain": [
       "2.5"
      ]
     },
     "execution_count": 11,
     "metadata": {},
     "output_type": "execute_result"
    }
   ],
   "source": [
    "list1.pop(5)"
   ]
  },
  {
   "cell_type": "code",
   "execution_count": 13,
   "id": "6acab357-69df-4412-bbec-9c8b40c82e1d",
   "metadata": {},
   "outputs": [
    {
     "data": {
      "text/plain": [
       "['apple', 'cherry', 'mango']"
      ]
     },
     "execution_count": 13,
     "metadata": {},
     "output_type": "execute_result"
    }
   ],
   "source": [
    "list1[0:3]"
   ]
  },
  {
   "cell_type": "markdown",
   "id": "b64c9047-4b5e-41d1-9c43-1370acda3abd",
   "metadata": {},
   "source": [
    "list1[-3:-1]"
   ]
  },
  {
   "cell_type": "code",
   "execution_count": 14,
   "id": "a9d1f576-a0df-4f4b-a05d-c98c32af2b4c",
   "metadata": {},
   "outputs": [
    {
     "data": {
      "text/plain": [
       "['mango', 'strawberry']"
      ]
     },
     "execution_count": 14,
     "metadata": {},
     "output_type": "execute_result"
    }
   ],
   "source": [
    "list1[-3:-1]"
   ]
  },
  {
   "cell_type": "code",
   "execution_count": 15,
   "id": "a032914f-0c37-459e-9a79-f32ce8688bbe",
   "metadata": {},
   "outputs": [],
   "source": [
    "list2 = [\"ran\",\"sit\",\"stand\",\"sail\"]"
   ]
  },
  {
   "cell_type": "code",
   "execution_count": 16,
   "id": "6dc72ee7-1c47-4cbf-9cdc-0c6421b3af5a",
   "metadata": {},
   "outputs": [],
   "source": [
    "del list1[2]"
   ]
  },
  {
   "cell_type": "code",
   "execution_count": 17,
   "id": "8591b5bf-a548-4bb6-9528-db56bc18fc39",
   "metadata": {},
   "outputs": [
    {
     "data": {
      "text/plain": [
       "['ran', 'sit', 'stand', 'sail']"
      ]
     },
     "execution_count": 17,
     "metadata": {},
     "output_type": "execute_result"
    }
   ],
   "source": [
    "list2"
   ]
  },
  {
   "cell_type": "code",
   "execution_count": 18,
   "id": "2bc9a291-860d-4aa7-8c31-f6dcdc3debd7",
   "metadata": {},
   "outputs": [],
   "source": [
    "del list2[2]"
   ]
  },
  {
   "cell_type": "code",
   "execution_count": 19,
   "id": "6075c8bd-ebd4-4db4-bc8a-7246ab3fe63e",
   "metadata": {},
   "outputs": [
    {
     "data": {
      "text/plain": [
       "['ran', 'sit', 'sail']"
      ]
     },
     "execution_count": 19,
     "metadata": {},
     "output_type": "execute_result"
    }
   ],
   "source": [
    "list2"
   ]
  },
  {
   "cell_type": "markdown",
   "id": "c29e559b-e853-43d9-9278-148ef1a4bda1",
   "metadata": {},
   "source": [
    "# Slice the lists in python"
   ]
  },
  {
   "cell_type": "code",
   "execution_count": 18,
   "id": "fc8075e9-9aed-4fe8-ba16-45a633d73127",
   "metadata": {},
   "outputs": [
    {
     "data": {
      "text/plain": [
       "11"
      ]
     },
     "execution_count": 18,
     "metadata": {},
     "output_type": "execute_result"
    }
   ],
   "source": [
    "mylist = list('programming')\n",
    "len(mylist)"
   ]
  },
  {
   "cell_type": "code",
   "execution_count": 19,
   "id": "4b8890f5-c6bc-497d-997c-abe7beaa1031",
   "metadata": {},
   "outputs": [
    {
     "data": {
      "text/plain": [
       "10"
      ]
     },
     "execution_count": 19,
     "metadata": {},
     "output_type": "execute_result"
    }
   ],
   "source": [
    "mylist = list('programming')\n",
    "len(mylist)-1"
   ]
  },
  {
   "cell_type": "code",
   "execution_count": 20,
   "id": "19f24ddf-c994-401d-b0cb-5f70fb96c5be",
   "metadata": {},
   "outputs": [
    {
     "data": {
      "text/plain": [
       "['p', 'r', 'o', 'g', 'r', 'a', 'm', 'm', 'i', 'n', 'g']"
      ]
     },
     "execution_count": 20,
     "metadata": {},
     "output_type": "execute_result"
    }
   ],
   "source": [
    "mylist = list('programming')\n",
    "mylist"
   ]
  },
  {
   "cell_type": "code",
   "execution_count": 22,
   "id": "8264c6c2-fdee-4dcd-ad35-548f5b9b2a01",
   "metadata": {},
   "outputs": [
    {
     "data": {
      "text/plain": [
       "['o', 'g', 'r']"
      ]
     },
     "execution_count": 22,
     "metadata": {},
     "output_type": "execute_result"
    }
   ],
   "source": [
    "mylist = list('programming')\n",
    "mylist[2:5]"
   ]
  },
  {
   "cell_type": "code",
   "execution_count": 23,
   "id": "f138a970-f42b-4337-84f5-fb2b3cf13998",
   "metadata": {},
   "outputs": [
    {
     "data": {
      "text/plain": [
       "['p', 'r', 'o', 'g', 'r']"
      ]
     },
     "execution_count": 23,
     "metadata": {},
     "output_type": "execute_result"
    }
   ],
   "source": [
    "mylist = list('programming')\n",
    "mylist[:5]"
   ]
  },
  {
   "cell_type": "code",
   "execution_count": 24,
   "id": "5bec2600-34e7-4868-b57c-0439c52c7257",
   "metadata": {},
   "outputs": [
    {
     "data": {
      "text/plain": [
       "['p', 'r']"
      ]
     },
     "execution_count": 24,
     "metadata": {},
     "output_type": "execute_result"
    }
   ],
   "source": [
    "mylist = list('programming')\n",
    "mylist[0:5:4]"
   ]
  },
  {
   "cell_type": "markdown",
   "id": "2b2c459b-f1b8-44ae-878c-c2142ebe50e6",
   "metadata": {},
   "source": [
    "# Reverse the list items"
   ]
  },
  {
   "cell_type": "code",
   "execution_count": 26,
   "id": "bace90b9-c401-4e1f-8034-2621e738843e",
   "metadata": {},
   "outputs": [
    {
     "data": {
      "text/plain": [
       "['g', 'n', 'i', 'm', 'm', 'a', 'r', 'g', 'o', 'r', 'p']"
      ]
     },
     "execution_count": 26,
     "metadata": {},
     "output_type": "execute_result"
    }
   ],
   "source": [
    "mylist = list('programming')\n",
    "mylist[::-1]"
   ]
  },
  {
   "cell_type": "code",
   "execution_count": 20,
   "id": "1ac6899b-77b2-464b-86b5-46171b728f19",
   "metadata": {},
   "outputs": [],
   "source": [
    "list3 = [\"a\",\"v\",\"t\",\"e\"]"
   ]
  },
  {
   "cell_type": "code",
   "execution_count": 21,
   "id": "087a400a-8e83-4e7a-b2c8-0534f9f6c8f7",
   "metadata": {},
   "outputs": [],
   "source": [
    "list3.sort()"
   ]
  },
  {
   "cell_type": "code",
   "execution_count": 22,
   "id": "54341c71-5976-49a0-bb03-ce706a448bdd",
   "metadata": {},
   "outputs": [
    {
     "data": {
      "text/plain": [
       "['a', 'e', 't', 'v']"
      ]
     },
     "execution_count": 22,
     "metadata": {},
     "output_type": "execute_result"
    }
   ],
   "source": [
    "list3"
   ]
  },
  {
   "cell_type": "code",
   "execution_count": 23,
   "id": "6ae2b927-46b5-4264-b263-8bb47a6e875a",
   "metadata": {},
   "outputs": [
    {
     "data": {
      "text/plain": [
       "['a', 'e', 't', 'v']"
      ]
     },
     "execution_count": 23,
     "metadata": {},
     "output_type": "execute_result"
    }
   ],
   "source": [
    "list3"
   ]
  },
  {
   "cell_type": "code",
   "execution_count": 25,
   "id": "651e4b07-bde8-49eb-8988-ac71bdda44b1",
   "metadata": {},
   "outputs": [],
   "source": [
    "list3.sort(reverse=True)"
   ]
  },
  {
   "cell_type": "code",
   "execution_count": 26,
   "id": "815f3f81-08c0-4570-b38f-6b15bdbb4ab1",
   "metadata": {},
   "outputs": [
    {
     "data": {
      "text/plain": [
       "['v', 't', 'e', 'a']"
      ]
     },
     "execution_count": 26,
     "metadata": {},
     "output_type": "execute_result"
    }
   ],
   "source": [
    "list3"
   ]
  },
  {
   "cell_type": "code",
   "execution_count": 27,
   "id": "83c9ec62-1fa7-4fee-9beb-e2e61d6f0c76",
   "metadata": {},
   "outputs": [],
   "source": [
    "list4 = list1+list2"
   ]
  },
  {
   "cell_type": "code",
   "execution_count": 28,
   "id": "7ba33db8-bf42-4fef-a094-f6fe04c7a0c6",
   "metadata": {},
   "outputs": [
    {
     "data": {
      "text/plain": [
       "['apple', 'cherry', 'strawberry', 1, 'ran', 'sit', 'sail']"
      ]
     },
     "execution_count": 28,
     "metadata": {},
     "output_type": "execute_result"
    }
   ],
   "source": [
    "list4"
   ]
  },
  {
   "cell_type": "markdown",
   "id": "01de2a9e-3c1e-4225-bd44-75bbe38b2648",
   "metadata": {},
   "source": [
    "# Nested List"
   ]
  },
  {
   "cell_type": "code",
   "execution_count": 14,
   "id": "f821c057-25a6-4a2f-8338-ff6e7fb2af83",
   "metadata": {},
   "outputs": [
    {
     "data": {
      "text/plain": [
       "['mopuse', [8, 4, 6], ['a']]"
      ]
     },
     "execution_count": 14,
     "metadata": {},
     "output_type": "execute_result"
    }
   ],
   "source": [
    "list1 = [\"mopuse\",[8,4,6],['a']]\n",
    "list1"
   ]
  },
  {
   "cell_type": "markdown",
   "id": "614de651-f86e-4d9e-847d-9440e25470e0",
   "metadata": {},
   "source": [
    "# Datatype Conversions"
   ]
  },
  {
   "cell_type": "code",
   "execution_count": 30,
   "id": "da68291e-4de9-4605-ab5d-2bb61599f63f",
   "metadata": {},
   "outputs": [],
   "source": [
    "a = 12\n",
    "b = float(12)"
   ]
  },
  {
   "cell_type": "code",
   "execution_count": 31,
   "id": "be2eaf7d-e930-41f1-b680-2a53b38c1b19",
   "metadata": {},
   "outputs": [
    {
     "data": {
      "text/plain": [
       "12.0"
      ]
     },
     "execution_count": 31,
     "metadata": {},
     "output_type": "execute_result"
    }
   ],
   "source": [
    "b"
   ]
  },
  {
   "cell_type": "code",
   "execution_count": 32,
   "id": "6042a45d-7761-409b-b9c9-a869e524df66",
   "metadata": {},
   "outputs": [],
   "source": [
    "a = 12\n",
    "b = str(12)"
   ]
  },
  {
   "cell_type": "code",
   "execution_count": 33,
   "id": "0373cc9b-203b-4f8f-9b7a-7b2e4357f719",
   "metadata": {},
   "outputs": [
    {
     "data": {
      "text/plain": [
       "'12'"
      ]
     },
     "execution_count": 33,
     "metadata": {},
     "output_type": "execute_result"
    }
   ],
   "source": [
    "b"
   ]
  },
  {
   "cell_type": "code",
   "execution_count": 34,
   "id": "98df8fe6-cbc4-4907-b4fb-c6d9ba01e7cf",
   "metadata": {},
   "outputs": [],
   "source": [
    "a = \"12\"\n",
    "b = int(12)"
   ]
  },
  {
   "cell_type": "code",
   "execution_count": 35,
   "id": "9d8a9469-a531-4acf-94b8-1d2316fcdece",
   "metadata": {},
   "outputs": [
    {
     "data": {
      "text/plain": [
       "12"
      ]
     },
     "execution_count": 35,
     "metadata": {},
     "output_type": "execute_result"
    }
   ],
   "source": [
    "b"
   ]
  },
  {
   "cell_type": "code",
   "execution_count": 36,
   "id": "366ed959-70b6-4dd1-8291-17017a08cee7",
   "metadata": {},
   "outputs": [],
   "source": [
    "a = 12.0\n",
    "b = int(12.0)"
   ]
  },
  {
   "cell_type": "code",
   "execution_count": 37,
   "id": "3cf72c3b-8012-4c21-afe2-b6654adecffe",
   "metadata": {},
   "outputs": [
    {
     "data": {
      "text/plain": [
       "12"
      ]
     },
     "execution_count": 37,
     "metadata": {},
     "output_type": "execute_result"
    }
   ],
   "source": [
    "b"
   ]
  },
  {
   "cell_type": "code",
   "execution_count": 40,
   "id": "78b75a13-3402-43c3-bc28-387075fd9ed3",
   "metadata": {},
   "outputs": [],
   "source": [
    "a = \"10\"\n",
    "b = \"13\"\n",
    "c = str(a+b)"
   ]
  },
  {
   "cell_type": "code",
   "execution_count": 41,
   "id": "0141b8f5-9e93-413a-aff8-1c4f10816fd7",
   "metadata": {},
   "outputs": [
    {
     "data": {
      "text/plain": [
       "'1013'"
      ]
     },
     "execution_count": 41,
     "metadata": {},
     "output_type": "execute_result"
    }
   ],
   "source": [
    "c"
   ]
  },
  {
   "cell_type": "markdown",
   "id": "2f6188f5-f4c5-478c-8e1c-d6170487b84c",
   "metadata": {},
   "source": [
    "# Conditional statements"
   ]
  },
  {
   "cell_type": "code",
   "execution_count": 50,
   "id": "794d0b85-503c-4352-8b80-3ce60c6bb778",
   "metadata": {},
   "outputs": [
    {
     "name": "stdout",
     "output_type": "stream",
     "text": [
      "a is not greater than b\n"
     ]
    }
   ],
   "source": [
    "a = 12\n",
    "b = 15\n",
    "c = 20\n",
    "if(a>b):\n",
    "    print(\"a is greater than b\")\n",
    "else:\n",
    "    print(\"a is not greater than b\")            "
   ]
  },
  {
   "cell_type": "code",
   "execution_count": 57,
   "id": "dd68babc-2168-4800-b6d9-7f03e3505b4e",
   "metadata": {},
   "outputs": [
    {
     "name": "stdin",
     "output_type": "stream",
     "text": [
      "enter the number 0\n"
     ]
    },
    {
     "name": "stdout",
     "output_type": "stream",
     "text": [
      "Zero\n"
     ]
    }
   ],
   "source": [
    "num = int(input(\"enter the number\"))\n",
    "if(num >= 0):\n",
    "    if(num == 0):\n",
    "        print(\"Zero\")\n",
    "    else:\n",
    "        print(\"positve\")\n",
    "else:\n",
    "    print(\"negative\")"
   ]
  },
  {
   "cell_type": "code",
   "execution_count": 2,
   "id": "63075e75-148a-409d-a4bb-f4d3a267446e",
   "metadata": {},
   "outputs": [
    {
     "name": "stdin",
     "output_type": "stream",
     "text": [
      "enter the number 0\n"
     ]
    },
    {
     "name": "stdout",
     "output_type": "stream",
     "text": [
      "zero\n"
     ]
    }
   ],
   "source": [
    "num = int(input(\"enter the number\"))\n",
    "if(num >= 0):\n",
    "    if(num == 0):\n",
    "        print(\"zero\")\n",
    "    else:\n",
    "        print(\"positive\")\n",
    "else:\n",
    "    print(\"negative\")"
   ]
  },
  {
   "cell_type": "code",
   "execution_count": 72,
   "id": "259eccd0-544d-4543-bd12-0b176c6a4d6c",
   "metadata": {},
   "outputs": [
    {
     "name": "stdout",
     "output_type": "stream",
     "text": [
      "a is not greater and  not equal to b\n"
     ]
    }
   ],
   "source": [
    "a = 10\n",
    "b = 12\n",
    "c = 12\n",
    "if(a == b and b == c):\n",
    "    print(\"a is equal to b and b is equal to c\")\n",
    "elif(a > b):\n",
    "    print(\"a is greater than b\")\n",
    "else:\n",
    "    print(\"a is not greater and  not equal to b\")"
   ]
  },
  {
   "cell_type": "code",
   "execution_count": 74,
   "id": "911990e0-2734-4915-8cfe-45a92edb0b55",
   "metadata": {},
   "outputs": [
    {
     "name": "stdout",
     "output_type": "stream",
     "text": [
      "a is equal to b or b is equal to c\n"
     ]
    }
   ],
   "source": [
    "a = 10\n",
    "b = 12\n",
    "c = 12\n",
    "if(a == b or b == c):\n",
    "    print(\"a is equal to b or b is equal to c\")\n",
    "elif(a > b):\n",
    "    print(\"a is greater than b\")\n",
    "else:\n",
    "    print(\"a is not greater and  not equal to b\")\n",
    "\n"
   ]
  },
  {
   "cell_type": "code",
   "execution_count": 97,
   "id": "67148fa7-3d0b-4cb4-8e8c-c36ead96b2d3",
   "metadata": {},
   "outputs": [
    {
     "name": "stdout",
     "output_type": "stream",
     "text": [
      "c is not equal to d\n"
     ]
    }
   ],
   "source": [
    "a = 10\n",
    "b = 11\n",
    "c = 13\n",
    "d = 14\n",
    "if(a > b):\n",
    "    print(\"a is greater than b\")\n",
    "elif(b < c and c != d):\n",
    "    print(\"c is not equal to d\")\n",
    "else:\n",
    "    print(\"c is equal to b\")"
   ]
  },
  {
   "cell_type": "code",
   "execution_count": 116,
   "id": "2f7671a6-0be3-408c-82f6-a1ddbeef2119",
   "metadata": {},
   "outputs": [
    {
     "name": "stdout",
     "output_type": "stream",
     "text": [
      "you got first class\n"
     ]
    }
   ],
   "source": [
    "marks = 60\n",
    "if(marks >= 70):\n",
    "    print(\"you got distinction\")\n",
    "elif(marks >= 60 and marks <= 70):\n",
    "    print(\"you got first class\")\n",
    "elif(marks >50 and marks < 60):\n",
    "    print(\"you got second class\")\n",
    "elif(marks == 50):\n",
    "    print(\"just pass\")\n",
    "else:\n",
    "    print(\"fail\")"
   ]
  },
  {
   "cell_type": "markdown",
   "id": "f65e4ad0-668b-49d9-b4fb-bff9dd27b79f",
   "metadata": {},
   "source": [
    "marks = int(input(\"enter the number\"))\n",
    "if(marks >= 70):\n",
    "    print(\"you got distinction\")\n",
    "elif(marks >= 60 and marks <= 70):\n",
    "    print(\"you got first class\")\n",
    "elif(marks >50 and marks < 60):\n",
    "    print(\"you got second class\")\n",
    "elif(marks == 50):\n",
    "    print(\"just pass\")\n",
    "else:\n",
    "    print(\"fail\")"
   ]
  },
  {
   "cell_type": "code",
   "execution_count": 11,
   "id": "4025ba53-fbe5-4c8b-866c-2fdca871d8cb",
   "metadata": {
    "tags": []
   },
   "outputs": [
    {
     "name": "stdin",
     "output_type": "stream",
     "text": [
      "enter the number 110\n"
     ]
    },
    {
     "name": "stdout",
     "output_type": "stream",
     "text": [
      "marks should be less than or equal to 100\n"
     ]
    }
   ],
   "source": [
    "marks = int(input(\"enter the number\"))\n",
    "if(marks >= 70 and marks <= 100):\n",
    "    print(\"you got distinction\")\n",
    "elif(marks >= 60 and marks <= 70):\n",
    "    print(\"you got first class\")\n",
    "elif(marks >50 and marks < 60):\n",
    "    print(\"you got second class\")\n",
    "elif(marks == 50):\n",
    "    print(\"just pass\")\n",
    "elif(marks > 100):\n",
    "    print(\"marks should be less than or equal to 100\")\n",
    "else:\n",
    "    print(\"fail\")\n"
   ]
  },
  {
   "cell_type": "code",
   "execution_count": 43,
   "id": "2697caa5-0102-43f6-adbd-4bbaf204073d",
   "metadata": {
    "collapsed": true,
    "jupyter": {
     "outputs_hidden": true,
     "source_hidden": true
    },
    "tags": []
   },
   "outputs": [
    {
     "name": "stdin",
     "output_type": "stream",
     "text": [
      "enter the name gopiraj\n"
     ]
    },
    {
     "name": "stdout",
     "output_type": "stream",
     "text": [
      "enter the name in the list\n"
     ]
    }
   ],
   "source": [
    "studentname = [\"vagdevi\",\"gopi\",\"bharadwaj\"]\n",
    "name = str(input(\"enter the name\"))\n",
    "if(studentname[0]==name):\n",
    "    print(\"vagdevi marks are 10 12 and 13 in eng,maths,science\")\n",
    "elif(studentname[1]==name):\n",
    "    print(\"gopi marks are 16 19 20 in eng,maths,science\")\n",
    "elif(studentname[2]==name):\n",
    "    print(\"bharadwaj marks are 25 30 40 in eng,maths,science \")\n",
    "else:\n",
    "    print(\"enter the name in the list\")"
   ]
  },
  {
   "cell_type": "markdown",
   "id": "6d666ac8-29f5-4d3d-985a-84321ad634b2",
   "metadata": {},
   "source": [
    "# Lists using conditinal statements"
   ]
  },
  {
   "cell_type": "code",
   "execution_count": 13,
   "id": "5c092352-ea74-4ed7-ad7c-e8ff783a0686",
   "metadata": {},
   "outputs": [],
   "source": [
    "list1 = [1,2,3,4,5]\n",
    "list2 = []\n",
    "for i in list1:\n",
    "    if((i%2==0) and (i%4==0)):\n",
    "        list2.append(i)\n",
    "    else:\n",
    "        pass"
   ]
  },
  {
   "cell_type": "code",
   "execution_count": 14,
   "id": "b70f1190-ac9c-45dc-b210-d4d8bdb70de6",
   "metadata": {},
   "outputs": [
    {
     "data": {
      "text/plain": [
       "[4]"
      ]
     },
     "execution_count": 14,
     "metadata": {},
     "output_type": "execute_result"
    }
   ],
   "source": [
    "list2"
   ]
  },
  {
   "cell_type": "code",
   "execution_count": 15,
   "id": "8cc5faa4-ed1c-439d-a1c9-ef9ebd34a1ba",
   "metadata": {},
   "outputs": [],
   "source": [
    "list1 = [1,2,15,19,22,16,36,30,12,20]\n",
    "list2 = []\n",
    "for i in list1:\n",
    "    if(i%2==0):\n",
    "        list2.append(i)\n",
    "    else:\n",
    "        pass"
   ]
  },
  {
   "cell_type": "code",
   "execution_count": 16,
   "id": "e732445d-e0c9-4933-89d4-d4f773be8563",
   "metadata": {},
   "outputs": [
    {
     "data": {
      "text/plain": [
       "[2, 22, 16, 36, 30, 12, 20]"
      ]
     },
     "execution_count": 16,
     "metadata": {},
     "output_type": "execute_result"
    }
   ],
   "source": [
    "list2"
   ]
  },
  {
   "cell_type": "code",
   "execution_count": 17,
   "id": "68af5d02-62fe-49ff-81cc-a15abd428380",
   "metadata": {},
   "outputs": [],
   "source": [
    "list1 = [1,2,15,19,22,16,36,30,12,20]\n",
    "list2 = []\n",
    "for i in list1:\n",
    "    if((i%2==0) and (i%4==0) and (i%6==0)):\n",
    "        list2.append(i)\n",
    "    else:\n",
    "        pass"
   ]
  },
  {
   "cell_type": "code",
   "execution_count": 18,
   "id": "81b7e26b-bd12-4ff8-b0e2-7f5d3d921805",
   "metadata": {},
   "outputs": [
    {
     "data": {
      "text/plain": [
       "[36, 12]"
      ]
     },
     "execution_count": 18,
     "metadata": {},
     "output_type": "execute_result"
    }
   ],
   "source": [
    "list2"
   ]
  },
  {
   "cell_type": "code",
   "execution_count": 29,
   "id": "773d86f4-12bb-4bd2-903c-91bcd94cefb8",
   "metadata": {},
   "outputs": [],
   "source": [
    "list1 = [1,2,15,19,22,16,36,30,12,20]\n",
    "list2 = []\n",
    "for i in list1:\n",
    "    if((i%2==0) and (i%4==0) or(i%6==0)):\n",
    "        list2.append(i)\n",
    "    else:\n",
    "        pass"
   ]
  },
  {
   "cell_type": "code",
   "execution_count": 30,
   "id": "0c243baa-fdbb-4758-be17-e31a0c1478a7",
   "metadata": {},
   "outputs": [
    {
     "data": {
      "text/plain": [
       "[16, 36, 30, 12, 20]"
      ]
     },
     "execution_count": 30,
     "metadata": {},
     "output_type": "execute_result"
    }
   ],
   "source": [
    "list2"
   ]
  },
  {
   "cell_type": "code",
   "execution_count": 22,
   "id": "5006a2df-5371-49bb-a6e6-eca421533cb6",
   "metadata": {},
   "outputs": [],
   "source": [
    "list1 = [1,2,15,19,22,16,36,30,12,20]\n",
    "list2 = []\n",
    "for i in list1:\n",
    "    if(i%2==0):\n",
    "        list2.append(i)\n",
    "    else:\n",
    "        pass"
   ]
  },
  {
   "cell_type": "code",
   "execution_count": 23,
   "id": "0853a5af-c375-4d5a-87d9-c7538ffe6bea",
   "metadata": {},
   "outputs": [
    {
     "data": {
      "text/plain": [
       "[2, 22, 16, 36, 30, 12, 20]"
      ]
     },
     "execution_count": 23,
     "metadata": {},
     "output_type": "execute_result"
    }
   ],
   "source": [
    "list2"
   ]
  },
  {
   "cell_type": "code",
   "execution_count": 31,
   "id": "a10f1469-f378-449d-ad90-32f82ce1f589",
   "metadata": {},
   "outputs": [],
   "source": [
    "list1 = [1,2,15,19,22,16,36,30,12,20]\n",
    "list2 = []\n",
    "for i in list1:\n",
    "    if(i%2==1):\n",
    "        list2.append(i)\n",
    "    else:\n",
    "        pass"
   ]
  },
  {
   "cell_type": "code",
   "execution_count": 25,
   "id": "b4137893-5046-403b-8b73-2dd0fc62e885",
   "metadata": {},
   "outputs": [
    {
     "data": {
      "text/plain": [
       "[1, 15, 19]"
      ]
     },
     "execution_count": 25,
     "metadata": {},
     "output_type": "execute_result"
    }
   ],
   "source": [
    "list2"
   ]
  },
  {
   "cell_type": "code",
   "execution_count": 33,
   "id": "c774b83b-a925-4fdb-9f5d-dbfc1ff7756b",
   "metadata": {},
   "outputs": [
    {
     "name": "stdout",
     "output_type": "stream",
     "text": [
      "b\n",
      "a\n",
      "n\n",
      "a\n",
      "n\n",
      "a\n"
     ]
    }
   ],
   "source": [
    "for x in \"banana\":\n",
    "    print(x)"
   ]
  },
  {
   "cell_type": "code",
   "execution_count": 36,
   "id": "274ea421-896f-4fb5-b0d7-110051cae4fc",
   "metadata": {},
   "outputs": [
    {
     "name": "stdout",
     "output_type": "stream",
     "text": [
      "apple\n",
      "banana\n"
     ]
    }
   ],
   "source": [
    "fruits = [\"apple\",\"banana\",\"cherry\"]\n",
    "for i in fruits:\n",
    "    print(i)\n",
    "    if(i==\"banana\"):\n",
    "        break"
   ]
  },
  {
   "cell_type": "code",
   "execution_count": 37,
   "id": "e949c287-0962-4a9b-a226-40e25102b2ae",
   "metadata": {},
   "outputs": [
    {
     "name": "stdout",
     "output_type": "stream",
     "text": [
      "banana\n"
     ]
    }
   ],
   "source": [
    "fruits = [\"apple\",\"banana\",\"cherry\"]\n",
    "for i in fruits:\n",
    "    if(i==\"banana\"):\n",
    "        break\n",
    "print(i)        "
   ]
  },
  {
   "cell_type": "code",
   "execution_count": 38,
   "id": "647d4a63-cecc-4bc4-8c81-3a55df43169c",
   "metadata": {},
   "outputs": [
    {
     "name": "stdout",
     "output_type": "stream",
     "text": [
      "cherry\n"
     ]
    }
   ],
   "source": [
    "fruits = [\"apple\",\"banana\",\"cherry\"]\n",
    "for i in fruits:\n",
    "    if(i==\"banana\"):\n",
    "        continue\n",
    "print(i)        "
   ]
  },
  {
   "cell_type": "code",
   "execution_count": 43,
   "id": "6655ed49-d016-4e07-b685-d9c553c78b0d",
   "metadata": {},
   "outputs": [
    {
     "name": "stdout",
     "output_type": "stream",
     "text": [
      "apple\n",
      "cherry\n"
     ]
    }
   ],
   "source": [
    "fruits = [\"apple\", \"banana\", \"cherry\"]\n",
    "for x in fruits:\n",
    "    if(x == \"banana\"):\n",
    "        continue\n",
    "    print(x) "
   ]
  },
  {
   "cell_type": "code",
   "execution_count": 44,
   "id": "3bcc1e97-97b1-4e40-a648-ef1b1ce17e18",
   "metadata": {},
   "outputs": [
    {
     "name": "stdout",
     "output_type": "stream",
     "text": [
      "0\n",
      "1\n",
      "2\n",
      "3\n",
      "4\n",
      "5\n"
     ]
    }
   ],
   "source": [
    "for i in range(6):\n",
    "    print(i)"
   ]
  },
  {
   "cell_type": "code",
   "execution_count": 46,
   "id": "e646cd5c-1bb5-4577-9606-2df87ad377a4",
   "metadata": {},
   "outputs": [
    {
     "name": "stdout",
     "output_type": "stream",
     "text": [
      "2\n",
      "3\n",
      "4\n",
      "5\n"
     ]
    }
   ],
   "source": [
    "for i in range(2,6):\n",
    "    print(i)"
   ]
  },
  {
   "cell_type": "code",
   "execution_count": 49,
   "id": "1ef63fe1-5547-428d-a0ad-24d4976246ee",
   "metadata": {},
   "outputs": [
    {
     "name": "stdout",
     "output_type": "stream",
     "text": [
      "2\n",
      "6\n",
      "10\n",
      "14\n",
      "18\n",
      "22\n",
      "26\n"
     ]
    }
   ],
   "source": [
    "for i in range(2,30,4):\n",
    "    print(i)"
   ]
  },
  {
   "cell_type": "code",
   "execution_count": 51,
   "id": "f59f21e6-0cc3-4f16-8632-2e0b558cddce",
   "metadata": {},
   "outputs": [
    {
     "name": "stdout",
     "output_type": "stream",
     "text": [
      "0\n",
      "1\n",
      "2\n",
      "3\n",
      "4\n",
      "5\n",
      "finally finished\n"
     ]
    }
   ],
   "source": [
    "for i in range(6):\n",
    "    print(i)\n",
    "else:\n",
    "    print(\"finally finished\")"
   ]
  },
  {
   "cell_type": "code",
   "execution_count": 54,
   "id": "673d0f06-48a8-40fb-9901-e48fa7d1dcb6",
   "metadata": {},
   "outputs": [
    {
     "name": "stdout",
     "output_type": "stream",
     "text": [
      "0\n",
      "1\n",
      "2\n"
     ]
    }
   ],
   "source": [
    "for i in range(6):\n",
    "    if(i==3):break\n",
    "    print(i)\n",
    "else:\n",
    "        print(\"finally finished\")\n"
   ]
  },
  {
   "cell_type": "code",
   "execution_count": 55,
   "id": "4a5320c9-ad24-4804-b235-6f1b538ab85a",
   "metadata": {},
   "outputs": [
    {
     "name": "stdout",
     "output_type": "stream",
     "text": [
      "apple red\n",
      "apple yellow\n",
      "apple green\n",
      "banana red\n",
      "banana yellow\n",
      "banana green\n",
      "grapes red\n",
      "grapes yellow\n",
      "grapes green\n"
     ]
    }
   ],
   "source": [
    "fruits = [\"apple\",\"banana\",\"grapes\"]\n",
    "colours = [\"red\",\"yellow\",\"green\"]\n",
    "for i in fruits:\n",
    "    for j in colours:\n",
    "        print(i,j)"
   ]
  },
  {
   "cell_type": "code",
   "execution_count": 58,
   "id": "4a89a803-121c-41de-8d29-0ac2403afc96",
   "metadata": {},
   "outputs": [],
   "source": [
    "for x in [1,2,3]:\n",
    "    pass"
   ]
  },
  {
   "cell_type": "code",
   "execution_count": 59,
   "id": "5f5f5cfd-0b14-44f0-aa52-ee74909783d3",
   "metadata": {},
   "outputs": [
    {
     "data": {
      "text/plain": [
       "3"
      ]
     },
     "execution_count": 59,
     "metadata": {},
     "output_type": "execute_result"
    }
   ],
   "source": [
    "x"
   ]
  },
  {
   "cell_type": "code",
   "execution_count": 64,
   "id": "b81c22c1-e524-4f16-878b-233f760bb1eb",
   "metadata": {},
   "outputs": [],
   "source": [
    "fruits = [\"apple\",\"banana\",\"grapes\"]\n",
    "for i in fruits:\n",
    "    if i==\"banana\":\n",
    "        continue\n",
    "        print(i)"
   ]
  },
  {
   "cell_type": "code",
   "execution_count": 62,
   "id": "2d5528c5-e3b5-4335-bf5d-3a6e9d702184",
   "metadata": {},
   "outputs": [
    {
     "data": {
      "text/plain": [
       "'grapes'"
      ]
     },
     "execution_count": 62,
     "metadata": {},
     "output_type": "execute_result"
    }
   ],
   "source": [
    "i"
   ]
  },
  {
   "cell_type": "code",
   "execution_count": 65,
   "id": "8cbd80d4-e6ba-4d10-8dcf-9db818dce501",
   "metadata": {},
   "outputs": [],
   "source": [
    "def add(a,b):\n",
    "    c = a+b\n",
    "    return c\n"
   ]
  },
  {
   "cell_type": "code",
   "execution_count": 66,
   "id": "36fe6ee5-94e8-4c56-888b-5107eb8a3c01",
   "metadata": {},
   "outputs": [
    {
     "data": {
      "text/plain": [
       "5"
      ]
     },
     "execution_count": 66,
     "metadata": {},
     "output_type": "execute_result"
    }
   ],
   "source": [
    "add(2,3)"
   ]
  },
  {
   "cell_type": "code",
   "execution_count": 85,
   "id": "ba72a07e-5ffb-4a02-b998-a0b7b8f1d780",
   "metadata": {},
   "outputs": [],
   "source": [
    "my_string = '''My name is vagdevi and\\n \n",
    "I am from avanigadda\\n\n",
    "I am learning python'''"
   ]
  },
  {
   "cell_type": "code",
   "execution_count": 80,
   "id": "72138c4c-c756-484e-93e5-bed5d9d41905",
   "metadata": {},
   "outputs": [
    {
     "data": {
      "text/plain": [
       "'My name is vagdevi and \\ni am from avanigadda\\nI am learning python'"
      ]
     },
     "execution_count": 80,
     "metadata": {},
     "output_type": "execute_result"
    }
   ],
   "source": [
    "my_string"
   ]
  },
  {
   "cell_type": "code",
   "execution_count": 86,
   "id": "6f2ce5e8-3e15-4142-8a4a-591d4a2dffc0",
   "metadata": {},
   "outputs": [],
   "source": [
    "my_string = '''My name is vagdevi and\n",
    "I am from avanigadda\n",
    "I am learning python'''\n"
   ]
  },
  {
   "cell_type": "code",
   "execution_count": 91,
   "id": "d07c96ff-07c7-4227-8285-0abe6fe63b57",
   "metadata": {},
   "outputs": [
    {
     "name": "stdout",
     "output_type": "stream",
     "text": [
      "My name is vagdevi and \n",
      "I am from avanigadda\n",
      "I am learning python\n"
     ]
    }
   ],
   "source": [
    " print(my_string)"
   ]
  },
  {
   "cell_type": "code",
   "execution_count": 88,
   "id": "d693ed2f-f233-4420-8102-c1586abcd982",
   "metadata": {},
   "outputs": [],
   "source": [
    "my_string =\"\"\"My name is vagdevi and \n",
    "I am from avanigadda\n",
    "I am learning python\"\"\""
   ]
  },
  {
   "cell_type": "code",
   "execution_count": 90,
   "id": "81177cf6-36b1-4984-930e-33f139a56189",
   "metadata": {},
   "outputs": [
    {
     "name": "stdout",
     "output_type": "stream",
     "text": [
      "My name is vagdevi and \n",
      "I am from avanigadda\n",
      "I am learning python\n"
     ]
    }
   ],
   "source": [
    " print(my_string)"
   ]
  },
  {
   "cell_type": "code",
   "execution_count": 92,
   "id": "b63b3c64-90e6-4b46-b485-8329213ff70f",
   "metadata": {},
   "outputs": [],
   "source": [
    "my_string =\"My name is vagdevi and\\\n",
    "I am from avanigadda\\\n",
    "I am learning python\"\n"
   ]
  },
  {
   "cell_type": "code",
   "execution_count": 93,
   "id": "ae59994d-ea61-4933-aee9-ca95f9d4415b",
   "metadata": {},
   "outputs": [
    {
     "name": "stdout",
     "output_type": "stream",
     "text": [
      "My name is vagdevi andI am from avanigaddaI am learning python\n"
     ]
    }
   ],
   "source": [
    "print(my_string)"
   ]
  },
  {
   "cell_type": "code",
   "execution_count": 94,
   "id": "a40b04e1-2619-46de-a4a1-cbf5c7fe20e5",
   "metadata": {},
   "outputs": [],
   "source": [
    "my_string =\"My name is vagdevi and\\\n",
    "I am from avanigadda\\\n",
    "I am learning python\""
   ]
  },
  {
   "cell_type": "code",
   "execution_count": 95,
   "id": "d79d86e5-d169-409e-94af-18a791bd3d8a",
   "metadata": {},
   "outputs": [
    {
     "name": "stdout",
     "output_type": "stream",
     "text": [
      "My name is vagdevi andI am from avanigaddaI am learning python\n"
     ]
    }
   ],
   "source": [
    "print(my_string)"
   ]
  },
  {
   "cell_type": "markdown",
   "id": "d7baafb7-8ec6-4374-90a4-b79bd766b18b",
   "metadata": {},
   "source": [
    "# range"
   ]
  },
  {
   "cell_type": "code",
   "execution_count": 1,
   "id": "e9a561b3-422a-4ef1-b9a3-00e8907dc2a9",
   "metadata": {},
   "outputs": [
    {
     "name": "stdout",
     "output_type": "stream",
     "text": [
      "175\n",
      "210\n",
      "245\n",
      "280\n",
      "315\n",
      "350\n",
      "385\n"
     ]
    }
   ],
   "source": [
    "for i in range(150,400):\n",
    "    if((i % 5 == 0) and(i % 7 == 0)):\n",
    "        print(i)\n",
    "    "
   ]
  },
  {
   "cell_type": "code",
   "execution_count": 2,
   "id": "16f3ed49-d7a4-4080-a4fa-ecb560791aef",
   "metadata": {},
   "outputs": [
    {
     "name": "stdout",
     "output_type": "stream",
     "text": [
      "150\n",
      "153\n",
      "160\n",
      "162\n",
      "170\n",
      "171\n",
      "180\n",
      "189\n",
      "190\n",
      "198\n",
      "200\n",
      "207\n",
      "210\n",
      "216\n",
      "220\n",
      "225\n",
      "230\n",
      "234\n",
      "240\n",
      "243\n",
      "250\n",
      "252\n",
      "260\n",
      "261\n",
      "270\n",
      "279\n",
      "280\n",
      "288\n",
      "290\n",
      "297\n",
      "300\n",
      "306\n",
      "310\n",
      "315\n",
      "320\n",
      "324\n",
      "330\n",
      "333\n",
      "340\n",
      "342\n",
      "350\n",
      "351\n",
      "360\n",
      "369\n",
      "370\n",
      "378\n",
      "380\n",
      "387\n",
      "390\n",
      "396\n"
     ]
    }
   ],
   "source": [
    "for i in range(150,400):\n",
    "    if((i % 9 == 0) or (i % 10 == 0 )):\n",
    "        print(i)"
   ]
  },
  {
   "cell_type": "code",
   "execution_count": 3,
   "id": "f47593a6-9086-487f-b318-0442276cf8f7",
   "metadata": {},
   "outputs": [
    {
     "name": "stdout",
     "output_type": "stream",
     "text": [
      "156\n",
      "168\n",
      "180\n",
      "189\n",
      "192\n",
      "204\n",
      "210\n",
      "216\n",
      "228\n",
      "231\n",
      "240\n",
      "252\n",
      "264\n",
      "273\n",
      "276\n",
      "288\n",
      "294\n",
      "300\n",
      "312\n",
      "315\n",
      "324\n",
      "336\n",
      "348\n",
      "357\n",
      "360\n",
      "372\n",
      "378\n",
      "384\n",
      "396\n",
      "399\n"
     ]
    }
   ],
   "source": [
    "for i in range(150,400):\n",
    "    if((i % 3 == 0) and (i % 7 == 0) or (i % 12 == 0)):\n",
    "        print(i)\n"
   ]
  },
  {
   "cell_type": "markdown",
   "id": "ea540daf-6e22-47e2-8157-70e6850f5b46",
   "metadata": {},
   "source": [
    "# Tuple"
   ]
  },
  {
   "cell_type": "code",
   "execution_count": 6,
   "id": "29fcacd5-2d57-4eaa-b430-4316b0219e1a",
   "metadata": {},
   "outputs": [
    {
     "data": {
      "text/plain": [
       "3"
      ]
     },
     "execution_count": 6,
     "metadata": {},
     "output_type": "execute_result"
    }
   ],
   "source": [
    "tu1 = (1,2,3,4)\n",
    "tu1[2]"
   ]
  },
  {
   "cell_type": "code",
   "execution_count": 16,
   "id": "09745603-dcd6-4bd8-b96d-506f32929fe1",
   "metadata": {},
   "outputs": [
    {
     "data": {
      "text/plain": [
       "('cherry', 'walnuts')"
      ]
     },
     "execution_count": 16,
     "metadata": {},
     "output_type": "execute_result"
    }
   ],
   "source": [
    "str1 = (\"apple\",\"cherry\",\"banana\",\"walnuts\",\"grapes\")\n",
    "str1[1:4:2]"
   ]
  },
  {
   "cell_type": "code",
   "execution_count": 10,
   "id": "d0abac80-cece-424c-bec9-1f3cf220e3e8",
   "metadata": {},
   "outputs": [
    {
     "data": {
      "text/plain": [
       "('cherry', 'banana', 'walnuts')"
      ]
     },
     "execution_count": 10,
     "metadata": {},
     "output_type": "execute_result"
    }
   ],
   "source": [
    "str1 = (\"apple\",\"cherry\",\"banana\",\"walnuts\",\"grapes\")\n",
    "str1[-4:-1]"
   ]
  },
  {
   "cell_type": "code",
   "execution_count": 18,
   "id": "e43c5c22-2896-4242-bc11-dc22001ebb90",
   "metadata": {},
   "outputs": [
    {
     "data": {
      "text/plain": [
       "(1, 3)"
      ]
     },
     "execution_count": 18,
     "metadata": {},
     "output_type": "execute_result"
    }
   ],
   "source": [
    "str2 = (1,2,3,4,5)\n",
    "str2[0:3:2]"
   ]
  },
  {
   "cell_type": "code",
   "execution_count": 19,
   "id": "de701fbc-f88f-4fb1-9dff-0cd204c7a6e7",
   "metadata": {},
   "outputs": [
    {
     "data": {
      "text/plain": [
       "(1, 4)"
      ]
     },
     "execution_count": 19,
     "metadata": {},
     "output_type": "execute_result"
    }
   ],
   "source": [
    "str2 = (1,2,3,4,5)\n",
    "str2[0:4:3]"
   ]
  },
  {
   "cell_type": "code",
   "execution_count": 20,
   "id": "3e6a555d-5d72-429b-ae94-12680fdd5fec",
   "metadata": {},
   "outputs": [
    {
     "data": {
      "text/plain": [
       "(2, 4)"
      ]
     },
     "execution_count": 20,
     "metadata": {},
     "output_type": "execute_result"
    }
   ],
   "source": [
    "str2 = (1,2,3,4,5)\n",
    "str2[1:4:2]"
   ]
  },
  {
   "cell_type": "markdown",
   "id": "003eb57f-bcfd-45e4-9a60-b4d34163e016",
   "metadata": {},
   "source": [
    "# Tuple add"
   ]
  },
  {
   "cell_type": "code",
   "execution_count": 22,
   "id": "548825e2-e737-4b2f-9b35-d07fd6fa91d9",
   "metadata": {},
   "outputs": [],
   "source": [
    "str2 = (1,2,3,4,5)\n",
    "str = list(str2)\n",
    "str.append(7)\n",
    "str2 = tuple(str)"
   ]
  },
  {
   "cell_type": "code",
   "execution_count": 23,
   "id": "d2c95491-141d-4a2f-ae09-cf83370b3e65",
   "metadata": {},
   "outputs": [
    {
     "data": {
      "text/plain": [
       "(1, 2, 3, 4, 5, 7)"
      ]
     },
     "execution_count": 23,
     "metadata": {},
     "output_type": "execute_result"
    }
   ],
   "source": [
    "str2"
   ]
  },
  {
   "cell_type": "code",
   "execution_count": 24,
   "id": "6cf83d4c-38fd-4439-8f2e-acf3f9da7555",
   "metadata": {},
   "outputs": [
    {
     "data": {
      "text/plain": [
       "5"
      ]
     },
     "execution_count": 24,
     "metadata": {},
     "output_type": "execute_result"
    }
   ],
   "source": [
    "str2 = (1,2,3,4,5)\n",
    "len(str2)"
   ]
  },
  {
   "cell_type": "code",
   "execution_count": 25,
   "id": "55732363-5fa5-4576-8e75-807ae5794179",
   "metadata": {},
   "outputs": [
    {
     "ename": "TypeError",
     "evalue": "count() takes exactly one argument (0 given)",
     "output_type": "error",
     "traceback": [
      "\u001b[1;31m---------------------------------------------------------------------------\u001b[0m",
      "\u001b[1;31mTypeError\u001b[0m                                 Traceback (most recent call last)",
      "\u001b[1;32m<ipython-input-25-5274045f610b>\u001b[0m in \u001b[0;36m<module>\u001b[1;34m\u001b[0m\n\u001b[0;32m      1\u001b[0m \u001b[0mstr2\u001b[0m \u001b[1;33m=\u001b[0m \u001b[1;33m(\u001b[0m\u001b[1;36m1\u001b[0m\u001b[1;33m,\u001b[0m\u001b[1;36m2\u001b[0m\u001b[1;33m,\u001b[0m\u001b[1;36m3\u001b[0m\u001b[1;33m,\u001b[0m\u001b[1;36m4\u001b[0m\u001b[1;33m,\u001b[0m\u001b[1;36m5\u001b[0m\u001b[1;33m)\u001b[0m\u001b[1;33m\u001b[0m\u001b[1;33m\u001b[0m\u001b[0m\n\u001b[1;32m----> 2\u001b[1;33m \u001b[0mstr2\u001b[0m\u001b[1;33m.\u001b[0m\u001b[0mcount\u001b[0m\u001b[1;33m(\u001b[0m\u001b[1;33m)\u001b[0m\u001b[1;33m\u001b[0m\u001b[1;33m\u001b[0m\u001b[0m\n\u001b[0m",
      "\u001b[1;31mTypeError\u001b[0m: count() takes exactly one argument (0 given)"
     ]
    }
   ],
   "source": [
    "str2 = (1,2,3,4,5)\n",
    "str2.count()"
   ]
  },
  {
   "cell_type": "markdown",
   "id": "48938f40-ef02-42f1-9ee9-58987e531471",
   "metadata": {},
   "source": [
    "# Tuple Indexing"
   ]
  },
  {
   "cell_type": "code",
   "execution_count": 29,
   "id": "1e66311d-1b69-4859-aabf-518b562de6da",
   "metadata": {},
   "outputs": [
    {
     "data": {
      "text/plain": [
       "(1, 3, 5, 7, 9)"
      ]
     },
     "execution_count": 29,
     "metadata": {},
     "output_type": "execute_result"
    }
   ],
   "source": [
    "str2 = (1,2,3,4,5,6,7,8,9,10)\n",
    "str2[0:10:2]"
   ]
  },
  {
   "cell_type": "code",
   "execution_count": 37,
   "id": "64dbfb5b-135c-460b-9b82-b66a74dcb000",
   "metadata": {},
   "outputs": [
    {
     "data": {
      "text/plain": [
       "(1, 3, 5, 7, 9)"
      ]
     },
     "execution_count": 37,
     "metadata": {},
     "output_type": "execute_result"
    }
   ],
   "source": [
    "str2 = (1,2,3,4,5,6,7,8,9,10)\n",
    "str2[-10:-1:2]"
   ]
  },
  {
   "cell_type": "markdown",
   "id": "bef59ae3-7668-482c-8e3f-ef77c8d5b83f",
   "metadata": {},
   "source": [
    "# Tupple using operators"
   ]
  },
  {
   "cell_type": "code",
   "execution_count": 41,
   "id": "a17c21cc-8b8f-4abe-b87e-ead5a9d5469d",
   "metadata": {},
   "outputs": [],
   "source": [
    "x = (1,2,3,4)\n",
    "y = (6,7,8,9)\n",
    "z = x+y"
   ]
  },
  {
   "cell_type": "code",
   "execution_count": 43,
   "id": "b76fa59e-c59a-474d-8db8-85b0889b4daa",
   "metadata": {},
   "outputs": [
    {
     "data": {
      "text/plain": [
       "(1, 2, 3, 4, 6, 7, 8, 9)"
      ]
     },
     "execution_count": 43,
     "metadata": {},
     "output_type": "execute_result"
    }
   ],
   "source": [
    "z"
   ]
  },
  {
   "cell_type": "code",
   "execution_count": 63,
   "id": "622347a2-6fea-4871-9091-49b22d3059e1",
   "metadata": {},
   "outputs": [],
   "source": [
    "x = (1,2,3,4)\n",
    "y = x*2"
   ]
  },
  {
   "cell_type": "code",
   "execution_count": 64,
   "id": "1abeb34e-9c17-4020-b60d-f9ab6a2d08ad",
   "metadata": {},
   "outputs": [
    {
     "data": {
      "text/plain": [
       "(1, 2, 3, 4, 1, 2, 3, 4)"
      ]
     },
     "execution_count": 64,
     "metadata": {},
     "output_type": "execute_result"
    }
   ],
   "source": [
    "y"
   ]
  },
  {
   "cell_type": "markdown",
   "id": "94983273-6ed2-47e8-8eb1-33cf5890fc21",
   "metadata": {},
   "source": [
    "# adding tuple to a tuple"
   ]
  },
  {
   "cell_type": "code",
   "execution_count": 67,
   "id": "4022c481-ac1f-4b77-bafa-f7b66938665b",
   "metadata": {},
   "outputs": [],
   "source": [
    "x = (\"apple\",\"banana\",\"grapes\",\"strawberry\")\n",
    "y = (\"cherry\",)\n",
    "x += y"
   ]
  },
  {
   "cell_type": "code",
   "execution_count": 68,
   "id": "387cbe86-42ff-4f11-a0a3-4ac044ba18bb",
   "metadata": {},
   "outputs": [
    {
     "data": {
      "text/plain": [
       "('apple', 'banana', 'grapes', 'strawberry', 'cherry')"
      ]
     },
     "execution_count": 68,
     "metadata": {},
     "output_type": "execute_result"
    }
   ],
   "source": [
    "x"
   ]
  },
  {
   "cell_type": "code",
   "execution_count": 72,
   "id": "eeb6c9ab-709b-467a-9cb3-900061873342",
   "metadata": {},
   "outputs": [],
   "source": [
    "C"
   ]
  },
  {
   "cell_type": "code",
   "execution_count": 73,
   "id": "48ef5926-3093-41f6-8586-5150d90eb1c8",
   "metadata": {},
   "outputs": [
    {
     "data": {
      "text/plain": [
       "('apple', 'grapes', 'strawberry')"
      ]
     },
     "execution_count": 73,
     "metadata": {},
     "output_type": "execute_result"
    }
   ],
   "source": [
    "x"
   ]
  },
  {
   "cell_type": "code",
   "execution_count": 78,
   "id": "096e4d35-3b52-433e-9f07-174238fed316",
   "metadata": {},
   "outputs": [
    {
     "ename": "NameError",
     "evalue": "name 'fruits' is not defined",
     "output_type": "error",
     "traceback": [
      "\u001b[1;31m---------------------------------------------------------------------------\u001b[0m",
      "\u001b[1;31mNameError\u001b[0m                                 Traceback (most recent call last)",
      "\u001b[1;32m<ipython-input-78-5d72f9f0877b>\u001b[0m in \u001b[0;36m<module>\u001b[1;34m\u001b[0m\n\u001b[0;32m      1\u001b[0m \u001b[0mfruits\u001b[0m\u001b[1;33m=\u001b[0m \u001b[1;33m(\u001b[0m\u001b[1;34m\"apple\"\u001b[0m\u001b[1;33m,\u001b[0m\u001b[1;34m\"banana\"\u001b[0m\u001b[1;33m,\u001b[0m\u001b[1;34m\"grapes\"\u001b[0m\u001b[1;33m,\u001b[0m\u001b[1;34m\"strawberry\"\u001b[0m\u001b[1;33m)\u001b[0m\u001b[1;33m\u001b[0m\u001b[1;33m\u001b[0m\u001b[0m\n\u001b[0;32m      2\u001b[0m \u001b[1;32mdel\u001b[0m \u001b[0mfruits\u001b[0m\u001b[1;33m\u001b[0m\u001b[1;33m\u001b[0m\u001b[0m\n\u001b[1;32m----> 3\u001b[1;33m \u001b[0mprint\u001b[0m\u001b[1;33m(\u001b[0m\u001b[0mfruits\u001b[0m\u001b[1;33m)\u001b[0m\u001b[1;33m\u001b[0m\u001b[1;33m\u001b[0m\u001b[0m\n\u001b[0m",
      "\u001b[1;31mNameError\u001b[0m: name 'fruits' is not defined"
     ]
    }
   ],
   "source": [
    "fruits= (\"apple\",\"banana\",\"grapes\",\"strawberry\")\n",
    "del fruits\n",
    "print(fruits)"
   ]
  },
  {
   "cell_type": "code",
   "execution_count": 75,
   "id": "fb83334d-0b60-4712-be20-5fa25bfc574f",
   "metadata": {},
   "outputs": [
    {
     "ename": "NameError",
     "evalue": "name 'x1' is not defined",
     "output_type": "error",
     "traceback": [
      "\u001b[1;31m---------------------------------------------------------------------------\u001b[0m",
      "\u001b[1;31mNameError\u001b[0m                                 Traceback (most recent call last)",
      "\u001b[1;32m<ipython-input-75-04358ba4b61b>\u001b[0m in \u001b[0;36m<module>\u001b[1;34m\u001b[0m\n\u001b[1;32m----> 1\u001b[1;33m \u001b[0mx1\u001b[0m\u001b[1;33m\u001b[0m\u001b[1;33m\u001b[0m\u001b[0m\n\u001b[0m",
      "\u001b[1;31mNameError\u001b[0m: name 'x1' is not defined"
     ]
    }
   ],
   "source": [
    "x1"
   ]
  },
  {
   "cell_type": "markdown",
   "id": "af02b53f-54ca-4daa-9b88-b4bac43219c4",
   "metadata": {},
   "source": [
    "# unpacking in tuples"
   ]
  },
  {
   "cell_type": "code",
   "execution_count": 85,
   "id": "06dbefe2-b78c-4a2d-8721-f9ab8335bb0d",
   "metadata": {},
   "outputs": [
    {
     "name": "stdout",
     "output_type": "stream",
     "text": [
      "apple grapes strawberry cherry mango\n"
     ]
    }
   ],
   "source": [
    "fruits = (\"apple\",\"grapes\",\"strawberry\",\"cherry\",\"mango\")\n",
    "(a,b,c,d,e) = fruits\n",
    "print(a,b,c,d,e)"
   ]
  },
  {
   "cell_type": "markdown",
   "id": "857840df-1a77-4da4-a42e-0961bb75404e",
   "metadata": {},
   "source": [
    "# unpacking-asterisk"
   ]
  },
  {
   "cell_type": "code",
   "execution_count": 90,
   "id": "f3cf1eb7-5b4f-4b6d-87b0-ba558b470d5f",
   "metadata": {},
   "outputs": [
    {
     "name": "stdout",
     "output_type": "stream",
     "text": [
      "apple\n",
      "grapes\n",
      "['strawberry', 'cherry', 'mango']\n"
     ]
    }
   ],
   "source": [
    "fruits = (\"apple\",\"grapes\",\"strawberry\",\"cherry\",\"mango\")\n",
    "(red,green,*pink) = fruits\n",
    "print(red)\n",
    "print(green)\n",
    "print(pink)"
   ]
  },
  {
   "cell_type": "code",
   "execution_count": 91,
   "id": "53db40e0-549b-4379-ae44-087fb92f76af",
   "metadata": {},
   "outputs": [
    {
     "name": "stdout",
     "output_type": "stream",
     "text": [
      "apple\n",
      "['grapes', 'strawberry', 'cherry']\n",
      "mango\n"
     ]
    }
   ],
   "source": [
    "fruits = (\"apple\",\"grapes\",\"strawberry\",\"cherry\",\"mango\")\n",
    "(red,*green,pink) = fruits\n",
    "print(red)\n",
    "print(green)\n",
    "print(pink)"
   ]
  },
  {
   "cell_type": "code",
   "execution_count": 92,
   "id": "628a0824-b1d5-443e-a0c1-21b6c81e5096",
   "metadata": {},
   "outputs": [
    {
     "name": "stdout",
     "output_type": "stream",
     "text": [
      "['apple', 'grapes', 'strawberry']\n",
      "cherry\n",
      "mango\n"
     ]
    }
   ],
   "source": [
    "fruits = (\"apple\",\"grapes\",\"strawberry\",\"cherry\",\"mango\")\n",
    "(*red,green,pink) = fruits\n",
    "print(red)\n",
    "print(green)\n",
    "print(pink)"
   ]
  },
  {
   "cell_type": "markdown",
   "id": "c69c853a-a440-4834-9ebc-374fecb07f61",
   "metadata": {},
   "source": [
    "# Loop through a tuple"
   ]
  },
  {
   "cell_type": "code",
   "execution_count": 93,
   "id": "d3cf34d8-e4aa-4e36-9193-41a387487e1c",
   "metadata": {},
   "outputs": [
    {
     "name": "stdout",
     "output_type": "stream",
     "text": [
      "apple\n",
      "grapes\n",
      "mango\n"
     ]
    }
   ],
   "source": [
    "fruits = (\"apple\",\"grapes\",\"mango\")\n",
    "for x in fruits:\n",
    "    print(x)"
   ]
  },
  {
   "cell_type": "markdown",
   "id": "34d5ff38-c903-4694-87fc-26fd678409c7",
   "metadata": {},
   "source": [
    "# Loop through index numbers"
   ]
  },
  {
   "cell_type": "code",
   "execution_count": 95,
   "id": "49e7b487-7151-496f-8cd2-1584115c117e",
   "metadata": {},
   "outputs": [
    {
     "name": "stdout",
     "output_type": "stream",
     "text": [
      "0\n",
      "1\n",
      "2\n"
     ]
    }
   ],
   "source": [
    "fruits = (\"apple\",\"grapes\",\"mango\")\n",
    "for x in range(len(fruits)):\n",
    "    print(x)"
   ]
  },
  {
   "cell_type": "markdown",
   "id": "3b302c37-476c-40ca-b031-cf6c1be5b884",
   "metadata": {},
   "source": [
    "# Using a while loop"
   ]
  },
  {
   "cell_type": "code",
   "execution_count": 96,
   "id": "7ea97e46-81d7-419c-8113-df8df860c721",
   "metadata": {},
   "outputs": [
    {
     "name": "stdout",
     "output_type": "stream",
     "text": [
      "apple\n",
      "banana\n",
      "cherry\n"
     ]
    }
   ],
   "source": [
    "fruits = (\"apple\",\"banana\",\"cherry\")\n",
    "i=0\n",
    "while i<len(fruits):\n",
    "    print(fruits[i])\n",
    "    i=i+1"
   ]
  },
  {
   "cell_type": "markdown",
   "id": "28733a1a-8c00-4107-86a0-c075e2b65011",
   "metadata": {},
   "source": [
    "# Tuple Methods"
   ]
  },
  {
   "cell_type": "code",
   "execution_count": 2,
   "id": "52d97b60-5702-4d95-9119-a7cb43aa0f4b",
   "metadata": {},
   "outputs": [
    {
     "name": "stdout",
     "output_type": "stream",
     "text": [
      "3\n"
     ]
    }
   ],
   "source": [
    "tup1 = (1,2,3,4,3,5,3,8,7,6,9)\n",
    "x = tup1.count(3)\n",
    "print(x)"
   ]
  },
  {
   "cell_type": "code",
   "execution_count": 7,
   "id": "7a8523f6-f82e-4dd8-9d17-7ff019ce4eb2",
   "metadata": {},
   "outputs": [
    {
     "name": "stdout",
     "output_type": "stream",
     "text": [
      "3\n"
     ]
    }
   ],
   "source": [
    "tup1 = (1,2,3,4,3,5,3,8,7,6,9)\n",
    "x = tup1.index(4)\n",
    "print(x)"
   ]
  },
  {
   "cell_type": "markdown",
   "id": "c3c10ef6-a513-4ac7-b5ae-5229b8f510f2",
   "metadata": {},
   "source": [
    "# Multiply Tuples"
   ]
  },
  {
   "cell_type": "code",
   "execution_count": 10,
   "id": "468ff5fa-b479-4f87-a61f-c3a0d8af33bf",
   "metadata": {},
   "outputs": [
    {
     "name": "stdout",
     "output_type": "stream",
     "text": [
      "('apple', 'banana', 'grapes', 'cherry', 'apple', 'banana', 'grapes', 'cherry', 'apple', 'banana', 'grapes', 'cherry')\n"
     ]
    }
   ],
   "source": [
    "fruits = (\"apple\",\"banana\",\"grapes\",\"cherry\")\n",
    "mytup = fruits * 3\n",
    "print(mytup)"
   ]
  },
  {
   "cell_type": "code",
   "execution_count": 13,
   "id": "65d90234-043a-435f-adb9-4a9fc0835aa4",
   "metadata": {},
   "outputs": [
    {
     "name": "stdout",
     "output_type": "stream",
     "text": [
      "('apple', 'banana', 'grapes', 'cherry', 'apple', 'banana', 'grapes', 'cherry', 'apple', 'banana', 'grapes', 'cherry')\n"
     ]
    }
   ],
   "source": [
    "fruits = (\"apple\",\"banana\",\"grapes\",\"cherry\")\n",
    "mytup = fruits * 3\n",
    "print(mytup)"
   ]
  },
  {
   "cell_type": "markdown",
   "id": "08d8ba04-b99d-47a4-b7c9-691d4a272195",
   "metadata": {},
   "source": [
    "# Join two tuples"
   ]
  },
  {
   "cell_type": "code",
   "execution_count": 11,
   "id": "863f9392-a44d-4fe9-ac28-3b24b99bd907",
   "metadata": {},
   "outputs": [
    {
     "name": "stdout",
     "output_type": "stream",
     "text": [
      "(1, 2, 3, 4, 5, 'a', 'b', 'c', 'd', 'e')\n"
     ]
    }
   ],
   "source": [
    "tup1 = (1,2,3,4,5)\n",
    "tup2 = (\"a\",\"b\",\"c\",\"d\",\"e\")\n",
    "tup3 = tup1 + tup2\n",
    "print(tup3)"
   ]
  },
  {
   "cell_type": "markdown",
   "id": "03111ff3-46f0-4ea4-b2d9-8d09bf2f33dd",
   "metadata": {},
   "source": [
    "# Sets"
   ]
  },
  {
   "cell_type": "markdown",
   "id": "3a8ba67c-9d91-4762-9bb3-4237759747f2",
   "metadata": {},
   "source": [
    "# accessing elements in sets"
   ]
  },
  {
   "cell_type": "code",
   "execution_count": 3,
   "id": "f908e615-8afc-4745-940b-c3564120f446",
   "metadata": {},
   "outputs": [
    {
     "name": "stdout",
     "output_type": "stream",
     "text": [
      "1\n",
      "2\n",
      "3\n",
      "4\n",
      "5\n"
     ]
    }
   ],
   "source": [
    "set1 = {1,2,3,4,5}\n",
    "for x in set1:\n",
    "    print(x)"
   ]
  },
  {
   "cell_type": "code",
   "execution_count": 38,
   "id": "5185af76-6c1d-4f00-a1ef-994b11b0e857",
   "metadata": {},
   "outputs": [
    {
     "name": "stdout",
     "output_type": "stream",
     "text": [
      "True\n"
     ]
    }
   ],
   "source": [
    "thisset = {\"apple\", \"banana\", \"cherry\"}\n",
    "\n",
    "print(\"banana\" in thisset)\n"
   ]
  },
  {
   "cell_type": "markdown",
   "id": "886b700c-9c03-4e9c-ae87-6d02c482a505",
   "metadata": {},
   "source": [
    "# Sets -add"
   ]
  },
  {
   "cell_type": "code",
   "execution_count": 5,
   "id": "9929c2f9-6b43-4448-9fdf-1d4689601891",
   "metadata": {},
   "outputs": [
    {
     "data": {
      "text/plain": [
       "{1, 2, 3, 4, 5, 6}"
      ]
     },
     "execution_count": 5,
     "metadata": {},
     "output_type": "execute_result"
    }
   ],
   "source": [
    "set1 = {1,2,3,4,5}\n",
    "set1.add(6)\n",
    "set1"
   ]
  },
  {
   "cell_type": "code",
   "execution_count": 12,
   "id": "44f07e95-89c6-4101-a894-5068bfd1da4c",
   "metadata": {},
   "outputs": [],
   "source": [
    "set1 = {\"apple\",\"banana\",\"grapes\"}\n",
    "set2 = {\"strawberry,cherry,orange\"}\n",
    "set1. update(set2)"
   ]
  },
  {
   "cell_type": "code",
   "execution_count": 13,
   "id": "0fe87f7a-bec6-4869-ba27-406273e8db44",
   "metadata": {},
   "outputs": [
    {
     "data": {
      "text/plain": [
       "{'apple', 'banana', 'grapes', 'strawberry,cherry,orange'}"
      ]
     },
     "execution_count": 13,
     "metadata": {},
     "output_type": "execute_result"
    }
   ],
   "source": [
    "set1"
   ]
  },
  {
   "cell_type": "code",
   "execution_count": 20,
   "id": "b76184ee-27f4-4946-9950-d0b2a0fb28d6",
   "metadata": {},
   "outputs": [
    {
     "name": "stdout",
     "output_type": "stream",
     "text": [
      "{1, 2, 3, 4, 5, '6'}\n"
     ]
    }
   ],
   "source": [
    "set1 = {1,2,3,4,5}\n",
    "set1.update(\"6\")\n",
    "print(set1)"
   ]
  },
  {
   "cell_type": "markdown",
   "id": "4be94181-cb86-4ade-bf04-1cd00ab604db",
   "metadata": {},
   "source": [
    "# Convert List to Set"
   ]
  },
  {
   "cell_type": "code",
   "execution_count": 15,
   "id": "86ddd42c-95e6-4fb8-b2f3-26003f717252",
   "metadata": {},
   "outputs": [
    {
     "name": "stdout",
     "output_type": "stream",
     "text": [
      "{1, 2, 3, 4}\n"
     ]
    }
   ],
   "source": [
    "list1 = [1,2,3,4]\n",
    "x = set((list1))\n",
    "print(x)"
   ]
  },
  {
   "cell_type": "code",
   "execution_count": 41,
   "id": "1e9aa860-d68d-4129-be18-b2ed9af00acc",
   "metadata": {},
   "outputs": [
    {
     "name": "stdout",
     "output_type": "stream",
     "text": [
      "[1, 2, 3, 4]\n"
     ]
    }
   ],
   "source": [
    "set1 = {1,2,3,4}\n",
    "x = list(set1)\n",
    "print(x)"
   ]
  },
  {
   "cell_type": "markdown",
   "id": "4b96ee42-21fd-48c4-aaac-b0ec8cae99dd",
   "metadata": {},
   "source": [
    "# Remove(), Pop(), Discard()"
   ]
  },
  {
   "cell_type": "code",
   "execution_count": 24,
   "id": "b39e913f-2e29-4101-b353-1b005b9f86d0",
   "metadata": {},
   "outputs": [
    {
     "name": "stdout",
     "output_type": "stream",
     "text": [
      "{1, 2, 3, 4, 5}\n"
     ]
    }
   ],
   "source": [
    "set1 = {1,2,3,4,5,6}\n",
    "set1.remove(6)\n",
    "print(set1)"
   ]
  },
  {
   "cell_type": "code",
   "execution_count": 28,
   "id": "7402a5af-73e6-4d5d-85cd-d6e86996ba67",
   "metadata": {},
   "outputs": [
    {
     "name": "stdout",
     "output_type": "stream",
     "text": [
      "{2, 3, 4, 5, 6}\n"
     ]
    }
   ],
   "source": [
    "set1 = {1,2,3,4,5,6}\n",
    "set1.pop()\n",
    "print(set1)"
   ]
  },
  {
   "cell_type": "code",
   "execution_count": 29,
   "id": "70b170e3-1fad-4561-aa2a-54de9dba2c9f",
   "metadata": {},
   "outputs": [
    {
     "name": "stdout",
     "output_type": "stream",
     "text": [
      "{1, 2, 4, 5, 6}\n"
     ]
    }
   ],
   "source": [
    "set1 = {1,2,3,4,5,6}\n",
    "set1.discard(3)\n",
    "print(set1)"
   ]
  },
  {
   "cell_type": "markdown",
   "id": "64ac0235-7b88-47c0-a5a3-5bf82f1346d2",
   "metadata": {},
   "source": [
    "# Union"
   ]
  },
  {
   "cell_type": "code",
   "execution_count": 32,
   "id": "70ce3c37-5c29-406c-bb0b-877841a8dc73",
   "metadata": {},
   "outputs": [
    {
     "data": {
      "text/plain": [
       "{1, 2, 3, 4, 5, 6, 7, 8, 9, 10}"
      ]
     },
     "execution_count": 32,
     "metadata": {},
     "output_type": "execute_result"
    }
   ],
   "source": [
    "set1 = {1,2,3,4,5,6}\n",
    "set2 = {1,2,7,8,9,10}\n",
    "set1.union(set2)"
   ]
  },
  {
   "cell_type": "markdown",
   "id": "2d4aab77-24b6-45c8-a834-1c03755cec1d",
   "metadata": {},
   "source": [
    "# Intersection"
   ]
  },
  {
   "cell_type": "code",
   "execution_count": 33,
   "id": "bd394f82-62c7-4f17-8d8f-814d3c376a08",
   "metadata": {},
   "outputs": [
    {
     "data": {
      "text/plain": [
       "{1, 2, 4}"
      ]
     },
     "execution_count": 33,
     "metadata": {},
     "output_type": "execute_result"
    }
   ],
   "source": [
    "set1 = {1,2,3,4,5}\n",
    "set2 = {1,2,4,6,7}\n",
    "set1.intersection(set2)"
   ]
  },
  {
   "cell_type": "markdown",
   "id": "b333d066-c482-4851-b03e-e3767ae8348d",
   "metadata": {},
   "source": [
    "# Frozensets"
   ]
  },
  {
   "cell_type": "code",
   "execution_count": 36,
   "id": "d43ac634-9eb7-48a3-9425-35b88aeb3405",
   "metadata": {},
   "outputs": [
    {
     "name": "stdout",
     "output_type": "stream",
     "text": [
      "frozenset({1, 2, 3, 4, 5})\n"
     ]
    }
   ],
   "source": [
    "set1 = {1,2,3,4,5}\n",
    "x = frozenset(set1)\n",
    "print(x)"
   ]
  },
  {
   "cell_type": "code",
   "execution_count": 47,
   "id": "58162e85-6dbb-4697-8183-6d17950837dc",
   "metadata": {},
   "outputs": [
    {
     "data": {
      "text/plain": [
       "frozenset({1, 2})"
      ]
     },
     "execution_count": 47,
     "metadata": {},
     "output_type": "execute_result"
    }
   ],
   "source": [
    "set1 = {1,2,3,4,5}\n",
    "set2 = {6,7,8,9,1,2}\n",
    "y = frozenset(set2)\n",
    "x = frozenset(set1)\n",
    "x.intersection(set2)"
   ]
  },
  {
   "cell_type": "markdown",
   "id": "040e8468-66ce-4879-ab65-087a2db6c93f",
   "metadata": {},
   "source": [
    "# Intersection_Update()"
   ]
  },
  {
   "cell_type": "code",
   "execution_count": 39,
   "id": "c531ed55-2646-44d6-a948-1469507dc466",
   "metadata": {},
   "outputs": [
    {
     "name": "stdout",
     "output_type": "stream",
     "text": [
      "{'apple'}\n"
     ]
    }
   ],
   "source": [
    "x = {\"apple\",\"banana\",\"cherry\"}\n",
    "y = {\"google\",\"microsoft\",\"apple\"}\n",
    "x.intersection_update(y)\n",
    "print(x)"
   ]
  },
  {
   "cell_type": "markdown",
   "id": "b4faf418-66dc-418f-8108-263e10abf41c",
   "metadata": {},
   "source": [
    "# Symmetric_difference_update()"
   ]
  },
  {
   "cell_type": "code",
   "execution_count": 48,
   "id": "bc5b65d6-fea4-4a67-908d-7bdba053cd1d",
   "metadata": {},
   "outputs": [
    {
     "name": "stdout",
     "output_type": "stream",
     "text": [
      "{'cherry', 'google', 'banana', 'microsoft'}\n"
     ]
    }
   ],
   "source": [
    "x = {\"apple\",\"banana\",\"cherry\"}\n",
    "y = {\"google\",\"microsoft\",\"apple\"}\n",
    "x.symmetric_difference_update(y)\n",
    "print(x)"
   ]
  },
  {
   "cell_type": "markdown",
   "id": "69288bb0-bae2-4e61-aeb2-ac4286ba27c5",
   "metadata": {},
   "source": [
    "# Symmetric difference()"
   ]
  },
  {
   "cell_type": "code",
   "execution_count": 49,
   "id": "5e9d4570-dcc3-4f04-a99b-225c6866e05a",
   "metadata": {},
   "outputs": [
    {
     "name": "stdout",
     "output_type": "stream",
     "text": [
      "{'cherry', 'google', 'banana', 'microsoft'}\n"
     ]
    }
   ],
   "source": [
    "x = {\"apple\",\"banana\",\"cherry\"}\n",
    "y = {\"google\",\"microsoft\",\"apple\"}\n",
    "z = x.symmetric_difference(y)\n",
    "print(z)"
   ]
  },
  {
   "cell_type": "markdown",
   "id": "8248d97d-986c-4163-b8c5-3da7bd4d864e",
   "metadata": {},
   "source": [
    "# Difference()"
   ]
  },
  {
   "cell_type": "code",
   "execution_count": 50,
   "id": "c4269a79-58ae-4061-afad-9bc6546204c9",
   "metadata": {},
   "outputs": [
    {
     "name": "stdout",
     "output_type": "stream",
     "text": [
      "{'banana', 'cherry'}\n"
     ]
    }
   ],
   "source": [
    "x = {\"apple\",\"banana\",\"cherry\"}\n",
    "y = {\"google\",\"microsoft\",\"apple\"}\n",
    "z = x.difference(y)\n",
    "print(z)"
   ]
  },
  {
   "cell_type": "markdown",
   "id": "26a50db9-91c2-46ec-b4d7-49d429307176",
   "metadata": {},
   "source": [
    "# Difference_update()"
   ]
  },
  {
   "cell_type": "code",
   "execution_count": 52,
   "id": "3fa904a6-f12d-4304-ba60-7839224475aa",
   "metadata": {},
   "outputs": [
    {
     "name": "stdout",
     "output_type": "stream",
     "text": [
      "{'banana', 'cherry'}\n"
     ]
    }
   ],
   "source": [
    "x = {\"apple\",\"banana\",\"cherry\"}\n",
    "y = {\"google\",\"microsoft\",\"apple\"}\n",
    "x.difference_update(y)\n",
    "print(x)"
   ]
  },
  {
   "cell_type": "markdown",
   "id": "ae64b820-941d-4057-aff5-f5e5d1ae445e",
   "metadata": {},
   "source": [
    "# isdisjoint()"
   ]
  },
  {
   "cell_type": "code",
   "execution_count": 53,
   "id": "750ebbdc-8381-4bd0-8b34-8956aa8095d6",
   "metadata": {},
   "outputs": [
    {
     "name": "stdout",
     "output_type": "stream",
     "text": [
      "False\n"
     ]
    }
   ],
   "source": [
    "x = {\"apple\",\"banana\",\"cherry\"}\n",
    "y = {\"google\",\"microsoft\",\"apple\"}\n",
    "z = x.isdisjoint(y)\n",
    "print(z)"
   ]
  },
  {
   "cell_type": "code",
   "execution_count": 54,
   "id": "7415ab18-a670-4ad1-9c49-cbf18dbaa9d5",
   "metadata": {},
   "outputs": [
    {
     "name": "stdout",
     "output_type": "stream",
     "text": [
      "True\n"
     ]
    }
   ],
   "source": [
    "x = {\"apple\",\"banana\",\"cherry\"}\n",
    "y = {\"google\",\"microsoft\",\"facebook\"}\n",
    "z = x.isdisjoint(y)\n",
    "print(z)"
   ]
  },
  {
   "cell_type": "code",
   "execution_count": 55,
   "id": "8e24c54d-bb19-42b2-bae3-b0e75f0f9d0a",
   "metadata": {},
   "outputs": [
    {
     "name": "stdout",
     "output_type": "stream",
     "text": [
      "False\n"
     ]
    }
   ],
   "source": [
    "x = {\"apple\",\"banana\",\"apple\"}\n",
    "y = {\"google\",\"microsoft\",\"apple\"}\n",
    "z = x.isdisjoint(x)\n",
    "print(z)"
   ]
  },
  {
   "cell_type": "code",
   "execution_count": 57,
   "id": "d8d143cc-82c4-41b8-8fca-403ef1af99a7",
   "metadata": {},
   "outputs": [
    {
     "name": "stdout",
     "output_type": "stream",
     "text": [
      "False\n"
     ]
    }
   ],
   "source": [
    "x = {\"apple\",\"banana\",\"cherry\"}\n",
    "y = {\"google\",\"microsoft\",\"google\"}\n",
    "z = y.isdisjoint(y)\n",
    "print(z)"
   ]
  },
  {
   "cell_type": "markdown",
   "id": "0352a564-1297-4715-b80f-afac1f39eec9",
   "metadata": {},
   "source": [
    "# issubset()"
   ]
  },
  {
   "cell_type": "code",
   "execution_count": 58,
   "id": "3b38d8ce-53cf-483f-92de-d68f9d8a9734",
   "metadata": {},
   "outputs": [
    {
     "name": "stdout",
     "output_type": "stream",
     "text": [
      "True\n"
     ]
    }
   ],
   "source": [
    "x = {\"a\", \"b\", \"c\"}\n",
    "y = {\"f\", \"e\", \"d\", \"c\", \"b\", \"a\"}\n",
    "\n",
    "z = x.issubset(y) \n",
    "\n",
    "print(z)\n"
   ]
  },
  {
   "cell_type": "code",
   "execution_count": 59,
   "id": "f23004d6-cace-439f-aefc-6e5d169d94e7",
   "metadata": {},
   "outputs": [
    {
     "name": "stdout",
     "output_type": "stream",
     "text": [
      "False\n"
     ]
    }
   ],
   "source": [
    "x = {\"a\", \"b\", \"c\"}\n",
    "y = {\"f\", \"e\", \"g\", \"h\", \"i\", \"j\"}\n",
    "\n",
    "z = x.issubset(y) \n",
    "\n",
    "print(z)\n"
   ]
  },
  {
   "cell_type": "code",
   "execution_count": 3,
   "id": "7ce40ca2-6ee6-4b33-a85e-d0006b53c5e3",
   "metadata": {},
   "outputs": [
    {
     "name": "stderr",
     "output_type": "stream",
     "text": [
      "<>:2: SyntaxWarning: str indices must be integers or slices, not tuple; perhaps you missed a comma?\n",
      "<>:2: SyntaxWarning: str indices must be integers or slices, not tuple; perhaps you missed a comma?\n",
      "<ipython-input-3-fd48457a546f>:2: SyntaxWarning: str indices must be integers or slices, not tuple; perhaps you missed a comma?\n",
      "  array1 = array('i'[1,3,5,7,9])\n"
     ]
    },
    {
     "ename": "TypeError",
     "evalue": "string indices must be integers",
     "output_type": "error",
     "traceback": [
      "\u001b[1;31m---------------------------------------------------------------------------\u001b[0m",
      "\u001b[1;31mTypeError\u001b[0m                                 Traceback (most recent call last)",
      "\u001b[1;32m<ipython-input-3-fd48457a546f>\u001b[0m in \u001b[0;36m<module>\u001b[1;34m\u001b[0m\n\u001b[0;32m      1\u001b[0m \u001b[1;32mfrom\u001b[0m \u001b[0marray\u001b[0m \u001b[1;32mimport\u001b[0m\u001b[1;33m*\u001b[0m\u001b[1;33m\u001b[0m\u001b[1;33m\u001b[0m\u001b[0m\n\u001b[1;32m----> 2\u001b[1;33m \u001b[0marray1\u001b[0m \u001b[1;33m=\u001b[0m \u001b[0marray\u001b[0m\u001b[1;33m(\u001b[0m\u001b[1;34m'i'\u001b[0m\u001b[1;33m[\u001b[0m\u001b[1;36m1\u001b[0m\u001b[1;33m,\u001b[0m\u001b[1;36m3\u001b[0m\u001b[1;33m,\u001b[0m\u001b[1;36m5\u001b[0m\u001b[1;33m,\u001b[0m\u001b[1;36m7\u001b[0m\u001b[1;33m,\u001b[0m\u001b[1;36m9\u001b[0m\u001b[1;33m]\u001b[0m\u001b[1;33m)\u001b[0m\u001b[1;33m\u001b[0m\u001b[1;33m\u001b[0m\u001b[0m\n\u001b[0m\u001b[0;32m      3\u001b[0m \u001b[1;32mfor\u001b[0m \u001b[0mi\u001b[0m \u001b[1;32min\u001b[0m \u001b[0marray1\u001b[0m\u001b[1;33m:\u001b[0m\u001b[1;33m\u001b[0m\u001b[1;33m\u001b[0m\u001b[0m\n\u001b[0;32m      4\u001b[0m     \u001b[0mprint\u001b[0m\u001b[1;33m(\u001b[0m\u001b[0mi\u001b[0m\u001b[1;33m)\u001b[0m\u001b[1;33m\u001b[0m\u001b[1;33m\u001b[0m\u001b[0m\n\u001b[0;32m      5\u001b[0m \u001b[0mprint\u001b[0m\u001b[1;33m(\u001b[0m\u001b[0marray1\u001b[0m\u001b[1;33m[\u001b[0m\u001b[1;36m0\u001b[0m\u001b[1;33m]\u001b[0m\u001b[1;33m)\u001b[0m\u001b[1;33m\u001b[0m\u001b[1;33m\u001b[0m\u001b[0m\n",
      "\u001b[1;31mTypeError\u001b[0m: string indices must be integers"
     ]
    }
   ],
   "source": [
    "from array import*\n",
    "array1 = array('i'[1,3,5,7,9])\n",
    "for i in array1:\n",
    "    print(i)\n",
    "print(array1[0])\n",
    "print(array1[1])\n",
    "print(array1[2])"
   ]
  },
  {
   "cell_type": "code",
   "execution_count": 6,
   "id": "24347d62-9ac6-49ac-833c-f710a71a40da",
   "metadata": {},
   "outputs": [],
   "source": [
    "check1 = ['Learn', 'Quiz', 'Practice', 'Contribute'] \n",
    "check2 = check1[:] "
   ]
  },
  {
   "cell_type": "code",
   "execution_count": 5,
   "id": "f67b0a88-e5b8-4711-87d6-b01202e28a96",
   "metadata": {},
   "outputs": [
    {
     "data": {
      "text/plain": [
       "['Learn', 'Quiz', 'Practice', 'Contribute']"
      ]
     },
     "execution_count": 5,
     "metadata": {},
     "output_type": "execute_result"
    }
   ],
   "source": [
    "check1"
   ]
  },
  {
   "cell_type": "code",
   "execution_count": 13,
   "id": "96f0ba09-4188-4266-a793-f0fb3eb2f64c",
   "metadata": {},
   "outputs": [
    {
     "name": "stdout",
     "output_type": "stream",
     "text": [
      "[1, 9, 25, 49, 81]\n"
     ]
    }
   ],
   "source": [
    "list1 = [1,3,5,7,9]\n",
    "list2 = [x*x for x in list1]\n",
    "print(list2)"
   ]
  },
  {
   "cell_type": "code",
   "execution_count": 20,
   "id": "578e6848-80af-461b-8128-da18b6bcafb7",
   "metadata": {},
   "outputs": [
    {
     "name": "stdout",
     "output_type": "stream",
     "text": [
      "1\n",
      "9\n",
      "25\n",
      "49\n",
      "81\n"
     ]
    }
   ],
   "source": [
    "list1 = [1,3,5,7,9]\n",
    "for x in list1:\n",
    "    list2 = x*x\n",
    "    print(list2)"
   ]
  },
  {
   "cell_type": "code",
   "execution_count": 23,
   "id": "e7957746-a9dd-4e74-83e4-20eaa1e986f6",
   "metadata": {},
   "outputs": [
    {
     "data": {
      "text/plain": [
       "['Learn', 'Quiz', 'Practice', 'Contribute']"
      ]
     },
     "execution_count": 23,
     "metadata": {},
     "output_type": "execute_result"
    }
   ],
   "source": [
    "check1 = ['Learn', 'Quiz', 'Practice', 'Contribute'] \n",
    "check1[:]"
   ]
  },
  {
   "cell_type": "code",
   "execution_count": 31,
   "id": "9ce0a48c-65b2-4f58-9058-74496257c049",
   "metadata": {},
   "outputs": [
    {
     "ename": "TypeError",
     "evalue": "unsupported operand type(s) for -: 'list' and 'list'",
     "output_type": "error",
     "traceback": [
      "\u001b[1;31m---------------------------------------------------------------------------\u001b[0m",
      "\u001b[1;31mTypeError\u001b[0m                                 Traceback (most recent call last)",
      "\u001b[1;32m<ipython-input-31-3c17b4a6393c>\u001b[0m in \u001b[0;36m<module>\u001b[1;34m\u001b[0m\n\u001b[0;32m      1\u001b[0m \u001b[0md1\u001b[0m \u001b[1;33m=\u001b[0m \u001b[1;33m[\u001b[0m\u001b[1;36m10\u001b[0m\u001b[1;33m,\u001b[0m \u001b[1;36m20\u001b[0m\u001b[1;33m,\u001b[0m \u001b[1;36m30\u001b[0m\u001b[1;33m,\u001b[0m \u001b[1;36m40\u001b[0m\u001b[1;33m,\u001b[0m \u001b[1;36m50\u001b[0m\u001b[1;33m]\u001b[0m\u001b[1;33m\u001b[0m\u001b[1;33m\u001b[0m\u001b[0m\n\u001b[0;32m      2\u001b[0m \u001b[0md2\u001b[0m \u001b[1;33m=\u001b[0m \u001b[1;33m[\u001b[0m\u001b[1;36m1\u001b[0m\u001b[1;33m,\u001b[0m \u001b[1;36m2\u001b[0m\u001b[1;33m,\u001b[0m \u001b[1;36m3\u001b[0m\u001b[1;33m,\u001b[0m \u001b[1;36m4\u001b[0m\u001b[1;33m,\u001b[0m \u001b[1;36m5\u001b[0m\u001b[1;33m]\u001b[0m\u001b[1;33m\u001b[0m\u001b[1;33m\u001b[0m\u001b[0m\n\u001b[1;32m----> 3\u001b[1;33m \u001b[0mprint\u001b[0m\u001b[1;33m(\u001b[0m \u001b[0md1\u001b[0m \u001b[1;33m-\u001b[0m \u001b[0md2\u001b[0m \u001b[1;33m)\u001b[0m\u001b[1;33m\u001b[0m\u001b[1;33m\u001b[0m\u001b[0m\n\u001b[0m",
      "\u001b[1;31mTypeError\u001b[0m: unsupported operand type(s) for -: 'list' and 'list'"
     ]
    }
   ],
   "source": [
    "d1 = [10, 20, 30, 40, 50] \n",
    "d2 = [1, 2, 3, 4, 5] \n",
    "print( d1 - d2 )"
   ]
  },
  {
   "cell_type": "markdown",
   "id": "c44f0f90-a60f-4421-a836-a3d2e6b256a5",
   "metadata": {},
   "source": [
    "## Dictionaries"
   ]
  },
  {
   "cell_type": "code",
   "execution_count": 10,
   "id": "a7c3e8bc-3838-4226-ae37-cc83cf5bac2b",
   "metadata": {},
   "outputs": [
    {
     "name": "stdout",
     "output_type": "stream",
     "text": [
      "{'name': 'vagdevi', 'age': 22, 'place': 'avanigadda'}\n"
     ]
    }
   ],
   "source": [
    "dict1 = {'name':'vagdevi','age':22,'place':'avanigadda'}\n",
    "print(dict1)"
   ]
  },
  {
   "cell_type": "code",
   "execution_count": 9,
   "id": "f6f5dd16-33f9-4c60-98f5-9114ffc95c3a",
   "metadata": {},
   "outputs": [
    {
     "name": "stdout",
     "output_type": "stream",
     "text": [
      "vagdevi\n"
     ]
    }
   ],
   "source": [
    "dict1 = {'name':'vagdevi','age':22,'place':'avanigadda'}\n",
    "print(dict1['name'])"
   ]
  },
  {
   "cell_type": "markdown",
   "id": "24131a43-7cd3-48cc-ad00-35ff71fe100d",
   "metadata": {},
   "source": [
    "## Length"
   ]
  },
  {
   "cell_type": "code",
   "execution_count": 8,
   "id": "482566a5-ab18-4a86-81e7-b5351bad43b6",
   "metadata": {},
   "outputs": [
    {
     "name": "stdout",
     "output_type": "stream",
     "text": [
      "3\n"
     ]
    }
   ],
   "source": [
    "dict1 = {'name':'vagdevi','age':22,'place':'avanigadda'}\n",
    "print (len(dict1))"
   ]
  },
  {
   "cell_type": "markdown",
   "id": "6502cb51-025b-4a64-85b2-8efa20b6e042",
   "metadata": {},
   "source": [
    "## Type"
   ]
  },
  {
   "cell_type": "code",
   "execution_count": 12,
   "id": "b6642490-579f-4742-9d8e-52d02bd6ee6f",
   "metadata": {},
   "outputs": [
    {
     "name": "stdout",
     "output_type": "stream",
     "text": [
      "<class 'dict'>\n"
     ]
    }
   ],
   "source": [
    "dict1 = {'name':'vagdevi','age':22,'place':'avanigadda'}\n",
    "print (type(dict1))"
   ]
  },
  {
   "cell_type": "markdown",
   "id": "e9b052d6-a7d9-433e-b7f1-8ca6c045479a",
   "metadata": {},
   "source": [
    "## Access Items"
   ]
  },
  {
   "cell_type": "code",
   "execution_count": 17,
   "id": "9ed2c57c-13cc-4c32-a281-02494c05a3f4",
   "metadata": {},
   "outputs": [
    {
     "name": "stdout",
     "output_type": "stream",
     "text": [
      "22\n"
     ]
    }
   ],
   "source": [
    "dict1 = {'name':'vagdevi','age':22,'place':'avanigadda'}\n",
    "x = dict1['age']\n",
    "print (x)"
   ]
  },
  {
   "cell_type": "markdown",
   "id": "a8066f5a-185e-43d3-a94d-168b7aaefb5a",
   "metadata": {},
   "source": [
    "# Get method"
   ]
  },
  {
   "cell_type": "code",
   "execution_count": 20,
   "id": "a93a1f3d-beb2-4d81-b9ee-43a6795f5838",
   "metadata": {},
   "outputs": [
    {
     "name": "stdout",
     "output_type": "stream",
     "text": [
      "avanigadda\n"
     ]
    }
   ],
   "source": [
    "dict1 = {'name':'vagdevi','age':22,'place':'avanigadda'}\n",
    "x = dict1.get('place')\n",
    "print (x)"
   ]
  },
  {
   "cell_type": "markdown",
   "id": "06756079-8618-4704-b481-744650f63f44",
   "metadata": {},
   "source": [
    "# Accessing keys"
   ]
  },
  {
   "cell_type": "code",
   "execution_count": 21,
   "id": "e11aba30-ac45-4d54-b02b-2af0864a0527",
   "metadata": {},
   "outputs": [
    {
     "name": "stdout",
     "output_type": "stream",
     "text": [
      "dict_keys(['name', 'age', 'place'])\n"
     ]
    }
   ],
   "source": [
    "dict1 = {'name':'vagdevi','age':22,'place':'avanigadda'}\n",
    "x = dict1.keys()\n",
    "print (x)"
   ]
  },
  {
   "cell_type": "markdown",
   "id": "2dc22ca1-a50f-4496-952d-01256769cb1a",
   "metadata": {},
   "source": [
    "# Adding "
   ]
  },
  {
   "cell_type": "code",
   "execution_count": 36,
   "id": "ef35c298-6029-4323-8030-5fb45b863914",
   "metadata": {},
   "outputs": [
    {
     "name": "stdout",
     "output_type": "stream",
     "text": [
      "dict_keys(['name', 'age', 'place'])\n",
      "dict_keys(['name', 'age', 'place', 'colour', 'gender'])\n"
     ]
    }
   ],
   "source": [
    "dict1 = {'name':'vagdevi','age':22,'place':'avanigadda'}\n",
    "x = dict1.keys()\n",
    "print (x)\n",
    "dict1[\"colour\"]=\"black\"\n",
    "dict1[\"gender\"]=\"Female\"\n",
    "print (x)"
   ]
  },
  {
   "cell_type": "markdown",
   "id": "6e7bdc62-d307-45b5-87ab-6a0793baf2a0",
   "metadata": {},
   "source": [
    "# Conditional Statement"
   ]
  },
  {
   "cell_type": "code",
   "execution_count": 41,
   "id": "3a85791f-d888-4309-8085-3a7f047abd3b",
   "metadata": {},
   "outputs": [
    {
     "name": "stdout",
     "output_type": "stream",
     "text": [
      "This key doesnot exist\n"
     ]
    }
   ],
   "source": [
    "dict1 = {'name':'vagdevi','age':22,'place':'avanigadda'}\n",
    "if \"place\" in dict1:\n",
    "    print('yes place exists in dict1')\n",
    "else:\n",
    "    print('This key doesnot exist')"
   ]
  },
  {
   "cell_type": "markdown",
   "id": "a1f74f2b-95e7-41c7-8699-37a58196c497",
   "metadata": {},
   "source": [
    "# Update"
   ]
  },
  {
   "cell_type": "code",
   "execution_count": 58,
   "id": "53837ba7-5f29-405e-8d09-4b8ab1c77c90",
   "metadata": {},
   "outputs": [
    {
     "name": "stdout",
     "output_type": "stream",
     "text": [
      "{'name': 'vagdevi', 'age': 21, 'place': 'avanigadda'}\n"
     ]
    }
   ],
   "source": [
    "dict1 = {'name':'vagdevi','age':22,'place':'avanigadda'}\n",
    "dict1.update({\"age\":21})\n",
    "print(dict1)"
   ]
  },
  {
   "cell_type": "code",
   "execution_count": 56,
   "id": "a2eae54d-d3b4-4c9b-a266-6f7b52e65668",
   "metadata": {},
   "outputs": [
    {
     "name": "stdout",
     "output_type": "stream",
     "text": [
      "{'name': 'vagdevi', 'age': 21, 'place': 'avanigadda'}\n"
     ]
    }
   ],
   "source": [
    "dict1 = {'name':'vagdevi','age':22,'place':'avanigadda'}\n",
    "dict1[\"age\"]=21\n",
    "print(dict1)"
   ]
  },
  {
   "cell_type": "code",
   "execution_count": 62,
   "id": "8c24faad-c4fb-4a7c-a4cf-1161f64ebba6",
   "metadata": {},
   "outputs": [
    {
     "name": "stdout",
     "output_type": "stream",
     "text": [
      "{'name': 'vagdevi', 'age': 21, 'place': 'avanigadda'}\n"
     ]
    }
   ],
   "source": [
    "dict1 = {'name':'vagdevi','age':22,'place':'avanigadda'}\n",
    "x = dict1.update({\"age\":21})\n",
    "print(dict1)"
   ]
  },
  {
   "cell_type": "markdown",
   "id": "ffd902b9-0051-46b8-9547-7d777d5ac9d0",
   "metadata": {},
   "source": [
    "## pop"
   ]
  },
  {
   "cell_type": "code",
   "execution_count": 59,
   "id": "18775400-5499-4154-9499-82984cbb8afd",
   "metadata": {},
   "outputs": [
    {
     "name": "stdout",
     "output_type": "stream",
     "text": [
      "{'name': 'vagdevi', 'place': 'avanigadda'}\n"
     ]
    }
   ],
   "source": [
    "dict1 = {'name':'vagdevi','age':22,'place':'avanigadda'}\n",
    "dict1.pop(\"age\")\n",
    "print(dict1)"
   ]
  },
  {
   "cell_type": "code",
   "execution_count": 61,
   "id": "4f5085b0-39a2-495a-9536-d5ad1fa22fb3",
   "metadata": {},
   "outputs": [
    {
     "name": "stdout",
     "output_type": "stream",
     "text": [
      "{'name': 'vagdevi', 'age': 22}\n"
     ]
    }
   ],
   "source": [
    "dict1 = {'name':'vagdevi','age':22,'place':'avanigadda'}\n",
    "dict1.popitem()\n",
    "print(dict1)"
   ]
  },
  {
   "cell_type": "markdown",
   "id": "b3fb4d19-7ae5-42f6-a179-7395d2393bf7",
   "metadata": {},
   "source": [
    "## Del"
   ]
  },
  {
   "cell_type": "code",
   "execution_count": 69,
   "id": "53e2d800-26be-4ff5-827a-f9f44aec8019",
   "metadata": {},
   "outputs": [
    {
     "name": "stdout",
     "output_type": "stream",
     "text": [
      "{'name': 'vagdevi', 'age': 22}\n"
     ]
    }
   ],
   "source": [
    "dict1 = {'name':'vagdevi','age':22,'place':'avanigadda'}\n",
    "del dict1['place']\n",
    "print(dict1)"
   ]
  },
  {
   "cell_type": "markdown",
   "id": "0d4b6902-a5b7-4426-be28-6aa01de4694f",
   "metadata": {},
   "source": [
    "## clear"
   ]
  },
  {
   "cell_type": "code",
   "execution_count": 70,
   "id": "af445257-7140-4162-8f45-17434172086f",
   "metadata": {},
   "outputs": [
    {
     "name": "stdout",
     "output_type": "stream",
     "text": [
      "{}\n"
     ]
    }
   ],
   "source": [
    "dict1 = {'name':'vagdevi','age':22,'place':'avanigadda'}\n",
    "dict1.clear()\n",
    "print(dict1)"
   ]
  },
  {
   "cell_type": "markdown",
   "id": "edb10b81-3fa6-4894-9d08-1ca419472b42",
   "metadata": {},
   "source": [
    "## using for loop"
   ]
  },
  {
   "cell_type": "code",
   "execution_count": 71,
   "id": "b135c0a3-f6aa-4fe5-824a-c35fe2037076",
   "metadata": {},
   "outputs": [
    {
     "name": "stdout",
     "output_type": "stream",
     "text": [
      "name\n",
      "age\n",
      "place\n"
     ]
    }
   ],
   "source": [
    "dict1 = {'name':'vagdevi','age':22,'place':'avanigadda'}\n",
    "for x in dict1:\n",
    "    print(x)"
   ]
  },
  {
   "cell_type": "code",
   "execution_count": 72,
   "id": "3cd5b6c3-2805-4c33-b6da-549e05f14b0d",
   "metadata": {},
   "outputs": [
    {
     "name": "stdout",
     "output_type": "stream",
     "text": [
      "vagdevi\n",
      "22\n",
      "avanigadda\n"
     ]
    }
   ],
   "source": [
    "dict1 = {'name':'vagdevi','age':22,'place':'avanigadda'}\n",
    "for x in dict1:\n",
    "    print (dict1[x])"
   ]
  },
  {
   "cell_type": "code",
   "execution_count": 75,
   "id": "629e7e32-13ae-45c5-a277-432d9ac5c8aa",
   "metadata": {},
   "outputs": [
    {
     "name": "stdout",
     "output_type": "stream",
     "text": [
      "name\n",
      "age\n",
      "place\n"
     ]
    }
   ],
   "source": [
    "dict1 = {'name':'vagdevi','age':22,'place':'avanigadda'}\n",
    "for x in dict1.keys():\n",
    "    print(x)"
   ]
  },
  {
   "cell_type": "code",
   "execution_count": 77,
   "id": "0d932974-30f1-41c9-becd-312f4dc93938",
   "metadata": {},
   "outputs": [
    {
     "name": "stdout",
     "output_type": "stream",
     "text": [
      "name vagdevi\n",
      "age 22\n",
      "place avanigadda\n"
     ]
    }
   ],
   "source": [
    "dict1 = {'name':'vagdevi','age':22,'place':'avanigadda'}\n",
    "for x,y in dict1.items():\n",
    "    print(x,y)"
   ]
  },
  {
   "cell_type": "markdown",
   "id": "3c88482f-48a7-4627-8b5e-4d33924631ed",
   "metadata": {},
   "source": [
    "## Copy"
   ]
  },
  {
   "cell_type": "code",
   "execution_count": 79,
   "id": "75cbfe44-315f-4a11-a1c1-f0c35b50acbc",
   "metadata": {},
   "outputs": [
    {
     "name": "stdout",
     "output_type": "stream",
     "text": [
      "{'name': 'vagdevi', 'age': 22, 'place': 'avanigadda'}\n"
     ]
    }
   ],
   "source": [
    "dict1 = {'name':'vagdevi','age':22,'place':'avanigadda'}\n",
    "dict2 = dict1.copy()\n",
    "print(dict2)"
   ]
  },
  {
   "cell_type": "code",
   "execution_count": 80,
   "id": "0d376ffd-3951-4a07-8004-c8f8ccc8d5d2",
   "metadata": {},
   "outputs": [
    {
     "name": "stdout",
     "output_type": "stream",
     "text": [
      "{'name': 'vagdevi', 'age': 22, 'place': 'avanigadda'}\n"
     ]
    }
   ],
   "source": [
    "dict1 = {'name':'vagdevi','age':22,'place':'avanigadda'}\n",
    "dict2 = dict(dict1)\n",
    "print(dict2)"
   ]
  },
  {
   "cell_type": "markdown",
   "id": "a2005e1d-f773-4bd3-a83e-f77a145fa28f",
   "metadata": {},
   "source": [
    "## Nested Dictionaries"
   ]
  },
  {
   "cell_type": "code",
   "execution_count": 82,
   "id": "23ad2f57-065c-4aef-aab4-1d978de8f643",
   "metadata": {},
   "outputs": [
    {
     "name": "stdout",
     "output_type": "stream",
     "text": [
      "{'child1': {'name': 'Email', 'year': 2004}, 'child2': {'name': 'Tobias', 'year': 2007}, 'child3': {'name': 'Linus', 'year': 2011}}\n"
     ]
    }
   ],
   "source": [
    "myfamily = {\n",
    "  \"child1\" : {\n",
    "    \"name\" : \"Email\",\n",
    "    \"year\" : 2004\n",
    "  },\n",
    "  \"child2\" : {\n",
    "    \"name\" : \"Tobias\",\n",
    "    \"year\" : 2007\n",
    "  },\n",
    "  \"child3\" : {\n",
    "    \"name\" : \"Linus\",\n",
    "    \"year\" : 2011\n",
    "  }\n",
    "}\n",
    "\n",
    "print(myfamily)"
   ]
  },
  {
   "cell_type": "code",
   "execution_count": null,
   "id": "c9a40c20-81d7-47ff-8fd7-5b12f30a797e",
   "metadata": {},
   "outputs": [],
   "source": [
    "str1 = \"vagdevi\"\n"
   ]
  }
 ],
 "metadata": {
  "kernelspec": {
   "display_name": "Python 3",
   "language": "python",
   "name": "python3"
  },
  "language_info": {
   "codemirror_mode": {
    "name": "ipython",
    "version": 3
   },
   "file_extension": ".py",
   "mimetype": "text/x-python",
   "name": "python",
   "nbconvert_exporter": "python",
   "pygments_lexer": "ipython3",
   "version": "3.8.8"
  }
 },
 "nbformat": 4,
 "nbformat_minor": 5
}
