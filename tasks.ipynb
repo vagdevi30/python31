{
 "cells": [
  {
   "cell_type": "code",
   "execution_count": 2,
   "id": "07b83f9f-b74e-4e09-8f3b-ce37720f1fe3",
   "metadata": {},
   "outputs": [
    {
     "name": "stdout",
     "output_type": "stream",
     "text": [
      "It's False\n",
      "It's True\n"
     ]
    }
   ],
   "source": [
    "list1 = [10,20,40,90,200]\n",
    "list2 = [10,20,90,20,30,10]\n",
    "if(list1[0]==list1[4]):\n",
    "    print(\"It's True\")\n",
    "else:\n",
    "    print(\"It's False\")\n",
    "\n",
    "if(list2[0]==list2[5]):\n",
    "    print(\"It's True\")\n",
    "else:\n",
    "    print(\"It's False\")"
   ]
  },
  {
   "cell_type": "code",
   "execution_count": 3,
   "id": "3fc4c007-107b-4cea-8a79-37f18b0072d8",
   "metadata": {},
   "outputs": [
    {
     "name": "stdout",
     "output_type": "stream",
     "text": [
      "It's False\n",
      "It's True\n"
     ]
    }
   ],
   "source": [
    "tup1 = (10,20,40,90,200)\n",
    "tup2 = (10,20,90,20,30,10)\n",
    "if(tup1[0]==tup1[4]):\n",
    "    print(\"It's True\")\n",
    "else:\n",
    "    print(\"It's False\")\n",
    "\n",
    "if(tup2[0]==tup2[5]):\n",
    "    print(\"It's True\")\n",
    "else:\n",
    "    print(\"It's False\")"
   ]
  },
  {
   "cell_type": "code",
   "execution_count": 76,
   "id": "bf1dfc58-e215-4e30-b4cf-79a4e900b95e",
   "metadata": {},
   "outputs": [
    {
     "name": "stdin",
     "output_type": "stream",
     "text": [
      "enter the string Hello World\n"
     ]
    },
    {
     "ename": "NameError",
     "evalue": "name 'str3' is not defined",
     "output_type": "error",
     "traceback": [
      "\u001b[1;31m---------------------------------------------------------------------------\u001b[0m",
      "\u001b[1;31mNameError\u001b[0m                                 Traceback (most recent call last)",
      "\u001b[1;32m<ipython-input-76-aef8c017059f>\u001b[0m in \u001b[0;36m<module>\u001b[1;34m\u001b[0m\n\u001b[0;32m      6\u001b[0m         \u001b[0mprint\u001b[0m\u001b[1;33m(\u001b[0m\u001b[1;34m'the upper case letters are:{}'\u001b[0m\u001b[1;33m.\u001b[0m\u001b[0mformat\u001b[0m\u001b[1;33m(\u001b[0m\u001b[0mstr2\u001b[0m\u001b[1;33m)\u001b[0m\u001b[1;33m)\u001b[0m\u001b[1;33m\u001b[0m\u001b[1;33m\u001b[0m\u001b[0m\n\u001b[0;32m      7\u001b[0m     \u001b[1;32melse\u001b[0m\u001b[1;33m:\u001b[0m\u001b[1;33m\u001b[0m\u001b[1;33m\u001b[0m\u001b[0m\n\u001b[1;32m----> 8\u001b[1;33m         \u001b[0mstr3\u001b[0m \u001b[1;33m=\u001b[0m \u001b[0mstr3\u001b[0m\u001b[1;33m+\u001b[0m\u001b[0mch1\u001b[0m\u001b[1;33m[\u001b[0m\u001b[0mi\u001b[0m\u001b[1;33m]\u001b[0m\u001b[1;33m\u001b[0m\u001b[1;33m\u001b[0m\u001b[0m\n\u001b[0m\u001b[0;32m      9\u001b[0m         \u001b[0mprint\u001b[0m\u001b[1;33m(\u001b[0m\u001b[1;34m'the lowercase letters are{}'\u001b[0m\u001b[1;33m.\u001b[0m\u001b[0mformat\u001b[0m\u001b[1;33m(\u001b[0m\u001b[0mstr3\u001b[0m\u001b[1;33m)\u001b[0m\u001b[1;33m)\u001b[0m\u001b[1;33m\u001b[0m\u001b[1;33m\u001b[0m\u001b[0m\n",
      "\u001b[1;31mNameError\u001b[0m: name 'str3' is not defined"
     ]
    }
   ],
   "source": [
    "str1 = (input(\"enter the string\"))\n",
    "ch1 = (input(\"enter the char\"))\n",
    "for i in range(len(str1)):\n",
    "    if(ch1[i]>='a' and ch1[i]<='z'):\n",
    "        str2 = str2+ch1[i]\n",
    "        print('the upper case letters are:{}'.format(str2))\n",
    "    else:\n",
    "        str3 = str3+ch1[i]\n",
    "        print('the lowercase letters are{}'.format(str3))"
   ]
  },
  {
   "cell_type": "code",
   "execution_count": 96,
   "id": "6decd5ee-375f-458f-a522-43e58b0aaee8",
   "metadata": {},
   "outputs": [
    {
     "name": "stdout",
     "output_type": "stream",
     "text": [
      "55\n"
     ]
    }
   ],
   "source": [
    "sum = 0\n",
    "for i in range(0,11):\n",
    "    sum = sum+i\n",
    "print(sum)    "
   ]
  },
  {
   "cell_type": "code",
   "execution_count": 89,
   "id": "facb4415-6853-40ae-add3-255a5cbe9f58",
   "metadata": {},
   "outputs": [
    {
     "name": "stdin",
     "output_type": "stream",
     "text": [
      "how many terms? 9\n"
     ]
    },
    {
     "name": "stdout",
     "output_type": "stream",
     "text": [
      "fibonacci sequence:\n",
      "0\n",
      "1\n",
      "1\n",
      "2\n",
      "3\n",
      "5\n",
      "8\n",
      "13\n",
      "21\n"
     ]
    }
   ],
   "source": [
    "num1 = int(input(\"how many terms?\"))\n",
    "n1=0\n",
    "n2=1\n",
    "count=0\n",
    "if(num1<=0):\n",
    "    print(\"enter  positive number\")\n",
    "elif(num1==1):\n",
    "    print(num1)\n",
    "    print(n1)\n",
    "else:\n",
    "    print(\"fibonacci sequence:\")\n",
    "    while count<num1:\n",
    "        print(n1)\n",
    "        n3=n1+n2\n",
    "        n1=n2\n",
    "        n2=n3\n",
    "        count=count+1    "
   ]
  },
  {
   "cell_type": "code",
   "execution_count": 2,
   "id": "247105a4-1677-4dff-878a-9375aba5ca98",
   "metadata": {},
   "outputs": [
    {
     "name": "stdin",
     "output_type": "stream",
     "text": [
      "enter a number: 9\n"
     ]
    },
    {
     "name": "stdout",
     "output_type": "stream",
     "text": [
      "9 is not a prime number\n"
     ]
    }
   ],
   "source": [
    "num = int(input(\"enter a number:\"))\n",
    "flag = False\n",
    "if num>1:\n",
    "    for i in range(2,num):\n",
    "        if(num%i==0):\n",
    "            flag = True\n",
    "            break\n",
    "if flag:\n",
    "    print(num,\"is not a prime number\")\n",
    "else:\n",
    "    print(num,\"is a prime number\")"
   ]
  },
  {
   "cell_type": "code",
   "execution_count": 97,
   "id": "e983e908-528a-432c-aa25-cfe426d0ee08",
   "metadata": {},
   "outputs": [
    {
     "name": "stdout",
     "output_type": "stream",
     "text": [
      "lowercase letters=  8\n",
      "uppercase letters=  2\n"
     ]
    }
   ],
   "source": [
    "str1 = \"Hello World\"\n",
    "lower = 0\n",
    "upper = 0\n",
    "for i in str1:\n",
    "    if(i > 'a' and i < 'z'):\n",
    "        lower+=1\n",
    "        \n",
    "    elif( i >'A' and i <'Z'):\n",
    "        upper+=1\n",
    "        \n",
    "print('lowercase letters= ',lower)    \n",
    "print('uppercase letters= ',upper)    "
   ]
  },
  {
   "cell_type": "code",
   "execution_count": 122,
   "id": "51884aab-0710-4e8d-a380-e63f64a07221",
   "metadata": {},
   "outputs": [
    {
     "name": "stdout",
     "output_type": "stream",
     "text": [
      "abcing\n",
      "stringly\n"
     ]
    }
   ],
   "source": [
    "str1 = \"abc\"\n",
    "str2 = \"string\"\n",
    "if(len(str1)>=3):\n",
    "       str3 = str1+'ing'        \n",
    "else:\n",
    "    str3 = str1+'ly'\n",
    "    \n",
    "if(len(str2)>=3):\n",
    "    str4 = str2+'ly'\n",
    "else:\n",
    "    str4 = str2+'ing'\n",
    "\n",
    "print(str3)\n",
    "print(str4)"
   ]
  },
  {
   "cell_type": "code",
   "execution_count": 130,
   "id": "46bf2802-ff24-4569-942e-f437757f9700",
   "metadata": {},
   "outputs": [],
   "source": [
    "def eveodd(man):\n",
    "    odd_number = []\n",
    "    even_number = []\n",
    "    for i in man:\n",
    "        if(i%2==0):\n",
    "            even_number.append(i)\n",
    "        else:\n",
    "            odd_number.append(i)\n",
    "    return(odd_number,even_number)    "
   ]
  },
  {
   "cell_type": "code",
   "execution_count": 131,
   "id": "a7215798-3962-4a06-8bab-2bb410ecf835",
   "metadata": {},
   "outputs": [
    {
     "data": {
      "text/plain": [
       "([1, 3, 5], [2, 4])"
      ]
     },
     "execution_count": 131,
     "metadata": {},
     "output_type": "execute_result"
    }
   ],
   "source": [
    "eveodd([1,2,3,4,5])"
   ]
  },
  {
   "cell_type": "code",
   "execution_count": 138,
   "id": "0126ab28-5bf9-4856-97fd-35b9a6e52419",
   "metadata": {},
   "outputs": [],
   "source": [
    "def flatt(list1):\n",
    "    for i in list1:\n",
    "        for j in i:\n",
    "            print(j, end=' ')"
   ]
  },
  {
   "cell_type": "code",
   "execution_count": 139,
   "id": "8adee523-6fec-4b4d-903c-7759088a41bb",
   "metadata": {},
   "outputs": [
    {
     "name": "stdout",
     "output_type": "stream",
     "text": [
      "1 2 3 4 5 6 7 8 "
     ]
    }
   ],
   "source": [
    "flatt([[1,2],[3,4,5],[6,7,8]])"
   ]
  },
  {
   "cell_type": "code",
   "execution_count": 155,
   "id": "511c5d37-f99b-4031-93ea-8a8816926ec6",
   "metadata": {},
   "outputs": [],
   "source": [
    "def compare_(list1,list2):\n",
    "    if(len(list1) != len(list2)):\n",
    "        return False\n",
    "    elif(list1 == list2):\n",
    "        return True\n",
    "    else:\n",
    "        return False"
   ]
  },
  {
   "cell_type": "code",
   "execution_count": 160,
   "id": "95baa8fa-76a1-4f11-bb93-5e6f23a92fa3",
   "metadata": {},
   "outputs": [
    {
     "data": {
      "text/plain": [
       "True"
      ]
     },
     "execution_count": 160,
     "metadata": {},
     "output_type": "execute_result"
    }
   ],
   "source": [
    "compare_([1,2,3,4,5],[1,2,3,4,5])"
   ]
  },
  {
   "cell_type": "code",
   "execution_count": 161,
   "id": "08ae198c-49b1-43be-a6e2-47a462ca59fe",
   "metadata": {},
   "outputs": [
    {
     "data": {
      "text/plain": [
       "False"
      ]
     },
     "execution_count": 161,
     "metadata": {},
     "output_type": "execute_result"
    }
   ],
   "source": [
    "compare_([1,2,3],[1,2,3,4,5])"
   ]
  },
  {
   "cell_type": "code",
   "execution_count": 162,
   "id": "6505781b-6e87-4e77-ab4f-3985bf74bbfe",
   "metadata": {},
   "outputs": [
    {
     "data": {
      "text/plain": [
       "False"
      ]
     },
     "execution_count": 162,
     "metadata": {},
     "output_type": "execute_result"
    }
   ],
   "source": [
    "compare_([1,2,3,4,5],[1,5,3,4,5])"
   ]
  },
  {
   "cell_type": "code",
   "execution_count": 10,
   "id": "463ef0de-efd4-4109-80e3-56747cc5ac18",
   "metadata": {},
   "outputs": [
    {
     "name": "stdin",
     "output_type": "stream",
     "text": [
      "enter the value of n 10\n"
     ]
    },
    {
     "name": "stdout",
     "output_type": "stream",
     "text": [
      "prime numbers between 1 and 10 are:\n",
      "2 3 5 7 "
     ]
    }
   ],
   "source": [
    "n = int(input(\"enter the value of n\"))\n",
    "print(\"prime numbers between 1 and {} are:\".format(n))\n",
    "for i in range(1,n+1):\n",
    "    if(i == 1):\n",
    "        continue\n",
    "    for j in range(2,i):\n",
    "        if(i%j==0):\n",
    "            break\n",
    "    else:\n",
    "        print(i,end=' ')\n",
    "        \n"
   ]
  },
  {
   "cell_type": "code",
   "execution_count": 53,
   "id": "0ab4f27f-ab25-48d3-aa79-4f9dcd39be1b",
   "metadata": {},
   "outputs": [
    {
     "name": "stdout",
     "output_type": "stream",
     "text": [
      "2 X 1 = 2\n",
      "2 X 2 = 4\n",
      "2 X 3 = 6\n",
      "2 X 4 = 8\n",
      "2 X 5 = 10\n",
      "2 X 6 = 12\n",
      "2 X 7 = 14\n",
      "2 X 8 = 16\n",
      "2 X 9 = 18\n",
      "2 X 10 = 20\n"
     ]
    }
   ],
   "source": [
    "num = 2\n",
    "for i in range(1,11):\n",
    "    print(num,'X',i,'=',num * i)"
   ]
  },
  {
   "cell_type": "code",
   "execution_count": 56,
   "id": "97f1c026-e323-47cd-ac03-3929d51572fa",
   "metadata": {},
   "outputs": [],
   "source": [
    "def mul_(val1,val2):\n",
    "    for i in range(1,11):\n",
    "            print(val1,'X',i,'=',val1*i)\n",
    "    for i in range(1,11):\n",
    "            print(val2,'X',i,'=',val2*i)    "
   ]
  },
  {
   "cell_type": "code",
   "execution_count": 57,
   "id": "985506fd-8114-4c50-9433-cdec95575c8d",
   "metadata": {},
   "outputs": [
    {
     "name": "stdout",
     "output_type": "stream",
     "text": [
      "2 X 1 = 2\n",
      "2 X 2 = 4\n",
      "2 X 3 = 6\n",
      "2 X 4 = 8\n",
      "2 X 5 = 10\n",
      "2 X 6 = 12\n",
      "2 X 7 = 14\n",
      "2 X 8 = 16\n",
      "2 X 9 = 18\n",
      "2 X 10 = 20\n",
      "3 X 1 = 3\n",
      "3 X 2 = 6\n",
      "3 X 3 = 9\n",
      "3 X 4 = 12\n",
      "3 X 5 = 15\n",
      "3 X 6 = 18\n",
      "3 X 7 = 21\n",
      "3 X 8 = 24\n",
      "3 X 9 = 27\n",
      "3 X 10 = 30\n"
     ]
    }
   ],
   "source": [
    "mul_(2,3)"
   ]
  },
  {
   "cell_type": "code",
   "execution_count": 24,
   "id": "d0f0f7da-daec-4e1d-8501-11cb4ad793dd",
   "metadata": {},
   "outputs": [
    {
     "name": "stdout",
     "output_type": "stream",
     "text": [
      "1  2  3  4  5  6  7  8  9  10  \n",
      "2  4  6  8  10  12  14  16  18  20  \n",
      "3  6  9  12  15  18  21  24  27  30  \n",
      "4  8  12  16  20  24  28  32  36  40  \n",
      "5  10  15  20  25  30  35  40  45  50  \n",
      "6  12  18  24  30  36  42  48  54  60  \n",
      "7  14  21  28  35  42  49  56  63  70  \n",
      "8  16  24  32  40  48  56  64  72  80  \n",
      "9  18  27  36  45  54  63  72  81  90  \n",
      "10  20  30  40  50  60  70  80  90  100  \n"
     ]
    }
   ],
   "source": [
    "for i in range(1,11):    \n",
    "    for j in range(1,11):\n",
    "        print(i * j,end='  ')\n",
    "    print( )    "
   ]
  },
  {
   "cell_type": "code",
   "execution_count": null,
   "id": "ba443b52-807c-4802-b510-6c488e614b72",
   "metadata": {},
   "outputs": [],
   "source": []
  }
 ],
 "metadata": {
  "kernelspec": {
   "display_name": "Python 3",
   "language": "python",
   "name": "python3"
  },
  "language_info": {
   "codemirror_mode": {
    "name": "ipython",
    "version": 3
   },
   "file_extension": ".py",
   "mimetype": "text/x-python",
   "name": "python",
   "nbconvert_exporter": "python",
   "pygments_lexer": "ipython3",
   "version": "3.8.8"
  }
 },
 "nbformat": 4,
 "nbformat_minor": 5
}
