{
 "cells": [
  {
   "cell_type": "markdown",
   "id": "fe701a0e-82b1-498c-84c7-9d64ee9cbf86",
   "metadata": {},
   "source": [
    "## max Number"
   ]
  },
  {
   "cell_type": "code",
   "execution_count": 18,
   "id": "56a1786d-2476-43b2-a766-710a3ae46c8c",
   "metadata": {},
   "outputs": [],
   "source": [
    "def max_(x,y):\n",
    "    if(x>y):\n",
    "        return x\n",
    "    return y"
   ]
  },
  {
   "cell_type": "code",
   "execution_count": 19,
   "id": "20293cbc-7728-4bfe-af62-04f0ef6194ec",
   "metadata": {},
   "outputs": [
    {
     "data": {
      "text/plain": [
       "2"
      ]
     },
     "execution_count": 19,
     "metadata": {},
     "output_type": "execute_result"
    }
   ],
   "source": [
    "max_(2,1)"
   ]
  },
  {
   "cell_type": "markdown",
   "id": "bc84f75c-7a79-49f0-8f06-56abd6f81155",
   "metadata": {},
   "source": [
    "## Add Number"
   ]
  },
  {
   "cell_type": "code",
   "execution_count": 21,
   "id": "28a10efa-0af4-456a-a4d7-79c19e798936",
   "metadata": {},
   "outputs": [],
   "source": [
    "def add_(*vagdevi):\n",
    "    sum_=0\n",
    "    for i in vagdevi:\n",
    "        sum_=sum_+i\n",
    "    return sum_"
   ]
  },
  {
   "cell_type": "code",
   "execution_count": 23,
   "id": "00d60496-d39c-4438-9502-59e4a7f0593e",
   "metadata": {},
   "outputs": [
    {
     "data": {
      "text/plain": [
       "20"
      ]
     },
     "execution_count": 23,
     "metadata": {},
     "output_type": "execute_result"
    }
   ],
   "source": [
    "add_(8,2,3,0,7)"
   ]
  },
  {
   "cell_type": "markdown",
   "id": "aeca4a53-2867-4bf6-9f59-ce15ef337ad8",
   "metadata": {},
   "source": [
    "## Multiplication"
   ]
  },
  {
   "cell_type": "code",
   "execution_count": 11,
   "id": "1def4f9c-bdc2-4fe7-92a2-a60abbd30fc4",
   "metadata": {},
   "outputs": [
    {
     "name": "stdout",
     "output_type": "stream",
     "text": [
      "-336\n"
     ]
    }
   ],
   "source": [
    "def multiply_(*numbers):\n",
    "    mul_=1\n",
    "    for i in numbers:\n",
    "        mul_=mul_*i\n",
    "print(multiply((8,2,3,-1,7)))"
   ]
  },
  {
   "cell_type": "code",
   "execution_count": 37,
   "id": "f3015730-6f67-47c4-9fd8-69f3115420ab",
   "metadata": {},
   "outputs": [
    {
     "name": "stdout",
     "output_type": "stream",
     "text": [
      "1\n"
     ]
    }
   ],
   "source": [
    "def string_reverse(str1):\n",
    "    str2 = ' '\n",
    "    index = len(str1)\n",
    "    while index>0:\n",
    "        str2= str1[index-1]\n",
    "        index = index-1\n",
    "    return str2   \n",
    "print(string_reverse(\"1,2,3,4,a,b,c,d\"))        "
   ]
  },
  {
   "cell_type": "markdown",
   "id": "dd9cba8f-e3cd-4f8d-b1fb-f27741ae8177",
   "metadata": {},
   "source": [
    "## Range "
   ]
  },
  {
   "cell_type": "code",
   "execution_count": 50,
   "id": "9b690f7a-08e5-43ff-9367-f7cfa51a4f43",
   "metadata": {},
   "outputs": [],
   "source": [
    "def range_(val1):\n",
    "        if val1 in range(1,10):\n",
    "            return (\"value exists in given range\")\n",
    "        else:\n",
    "            return(\"value does not exists\")"
   ]
  },
  {
   "cell_type": "code",
   "execution_count": 51,
   "id": "79760edb-9b56-4e7e-ad6d-d3b0e5e651f1",
   "metadata": {},
   "outputs": [
    {
     "data": {
      "text/plain": [
       "'value does not exists'"
      ]
     },
     "execution_count": 51,
     "metadata": {},
     "output_type": "execute_result"
    }
   ],
   "source": [
    "range_(11)"
   ]
  },
  {
   "cell_type": "code",
   "execution_count": 52,
   "id": "63512a78-1b5e-4f61-80b9-f8d7a15a0ed5",
   "metadata": {},
   "outputs": [
    {
     "data": {
      "text/plain": [
       "'value exists in given range'"
      ]
     },
     "execution_count": 52,
     "metadata": {},
     "output_type": "execute_result"
    }
   ],
   "source": [
    "range_(3)"
   ]
  },
  {
   "cell_type": "markdown",
   "id": "cc4fb615-102c-471c-9943-ecf7ecbe2a95",
   "metadata": {},
   "source": [
    "## Fibonnaci"
   ]
  },
  {
   "cell_type": "code",
   "execution_count": 65,
   "id": "737fbba5-2af2-40d7-9f1a-3019a06c7dfd",
   "metadata": {},
   "outputs": [],
   "source": [
    "def fibonnaci_(n):\n",
    "    if(n<=1):\n",
    "        return n\n",
    "    else:\n",
    "        return(fibonnaci_(n-1)+fibonnaci_(n-2))"
   ]
  },
  {
   "cell_type": "code",
   "execution_count": 75,
   "id": "c9fac4e1-21df-4790-9823-78a232b34fb8",
   "metadata": {},
   "outputs": [
    {
     "name": "stdin",
     "output_type": "stream",
     "text": [
      "enter the number 9\n"
     ]
    },
    {
     "name": "stdout",
     "output_type": "stream",
     "text": [
      "fibonacci series: \n",
      "0 1 1 2 3 5 8 13 21 34 "
     ]
    }
   ],
   "source": [
    "n = int(input(\"enter the number\"))\n",
    "if(n < 0):\n",
    "    print(\"enter the positive number\")\n",
    "else:\n",
    "    print(\"fibonacci series: \")\n",
    "    for i in range(n+1):\n",
    "        print(fibonnaci_(i),end = ' ')"
   ]
  },
  {
   "cell_type": "code",
   "execution_count": 74,
   "id": "10011fb4-5426-4c52-a8f3-78ba318f3d65",
   "metadata": {},
   "outputs": [
    {
     "data": {
      "text/plain": [
       "34"
      ]
     },
     "execution_count": 74,
     "metadata": {},
     "output_type": "execute_result"
    }
   ],
   "source": [
    "fibonnaci_(9)"
   ]
  },
  {
   "cell_type": "markdown",
   "id": "4f61762f-68cc-4180-b168-5c5e1dd73f26",
   "metadata": {},
   "source": [
    "## Upper case"
   ]
  },
  {
   "cell_type": "code",
   "execution_count": 79,
   "id": "0255970b-6594-473b-988d-4f70f675e169",
   "metadata": {},
   "outputs": [
    {
     "name": "stdin",
     "output_type": "stream",
     "text": [
      "enter the string resource\n"
     ]
    },
    {
     "data": {
      "text/plain": [
       "'RESOURCE'"
      ]
     },
     "execution_count": 79,
     "metadata": {},
     "output_type": "execute_result"
    }
   ],
   "source": [
    "str1 = input(\"enter the string\")\n",
    "str1.upper()"
   ]
  },
  {
   "cell_type": "markdown",
   "id": "1380586b-2892-41b3-833f-a483ff0622ab",
   "metadata": {},
   "source": [
    "## Addition"
   ]
  },
  {
   "cell_type": "code",
   "execution_count": 110,
   "id": "a38df096-1985-4546-b9c0-2199705314b8",
   "metadata": {},
   "outputs": [],
   "source": [
    "def add_(*vagdevi):\n",
    "    sum_=0\n",
    "    for i in vagdevi:\n",
    "        sum_=sum_+i\n",
    "    return sum_"
   ]
  },
  {
   "cell_type": "code",
   "execution_count": 111,
   "id": "9e06ba5d-c466-4bb1-820c-413a3347928c",
   "metadata": {},
   "outputs": [
    {
     "data": {
      "text/plain": [
       "55"
      ]
     },
     "execution_count": 111,
     "metadata": {},
     "output_type": "execute_result"
    }
   ],
   "source": [
    "add_(1,2,3,4,5,6,7,8,9,10)"
   ]
  },
  {
   "cell_type": "markdown",
   "id": "d5828bde-e4aa-4fee-ba0d-39b034e58994",
   "metadata": {},
   "source": [
    "## String Reverse"
   ]
  },
  {
   "cell_type": "code",
   "execution_count": 88,
   "id": "352b4574-498f-4c2e-9896-fb4ceeee22ac",
   "metadata": {},
   "outputs": [
    {
     "name": "stdin",
     "output_type": "stream",
     "text": [
      "enter the string abcd1234\n"
     ]
    },
    {
     "data": {
      "text/plain": [
       "'4321dcba'"
      ]
     },
     "execution_count": 88,
     "metadata": {},
     "output_type": "execute_result"
    }
   ],
   "source": [
    "str1 = input(\"enter the string\")\n",
    "str1[::-1]"
   ]
  },
  {
   "cell_type": "code",
   "execution_count": 105,
   "id": "f2d7baa8-aaa7-454a-aa54-b0e97a970f2f",
   "metadata": {},
   "outputs": [],
   "source": [
    "def string_reverse(str1):\n",
    "    return str1[::-1]"
   ]
  },
  {
   "cell_type": "code",
   "execution_count": 106,
   "id": "9590c083-c4c7-46e1-88ab-c0674753845a",
   "metadata": {},
   "outputs": [
    {
     "data": {
      "text/plain": [
       "'dcba4321'"
      ]
     },
     "execution_count": 106,
     "metadata": {},
     "output_type": "execute_result"
    }
   ],
   "source": [
    "string_reverse(\"1234abcd\")"
   ]
  },
  {
   "cell_type": "markdown",
   "id": "ef76febb-5f12-4116-99c2-d994d0a11255",
   "metadata": {},
   "source": [
    "## Factorial"
   ]
  },
  {
   "cell_type": "code",
   "execution_count": 134,
   "id": "57dc5d01-c6bf-4da9-b1e7-613f68a65352",
   "metadata": {},
   "outputs": [],
   "source": [
    "def fact_(n):\n",
    "    if(n==0):\n",
    "        return 1\n",
    "    else:\n",
    "        return(n*fact_(n-1))"
   ]
  },
  {
   "cell_type": "code",
   "execution_count": 136,
   "id": "e05665ff-2916-43af-b537-6d782404b7d7",
   "metadata": {},
   "outputs": [
    {
     "data": {
      "text/plain": [
       "120"
      ]
     },
     "execution_count": 136,
     "metadata": {},
     "output_type": "execute_result"
    }
   ],
   "source": [
    "fact_(5)"
   ]
  },
  {
   "cell_type": "markdown",
   "id": "f5dac406-2657-44db-8b66-80a02b8b8a9e",
   "metadata": {},
   "source": [
    "## Palindrome"
   ]
  },
  {
   "cell_type": "code",
   "execution_count": 137,
   "id": "ddb4f614-f1ea-4a23-81a1-338800feef0d",
   "metadata": {},
   "outputs": [],
   "source": [
    "def palin_(str1):\n",
    "    if(str1[:]==str1[::-1]):\n",
    "        return(\"The string is palindrome\")\n",
    "    else:\n",
    "        return(\"The string is not a palindrome\")"
   ]
  },
  {
   "cell_type": "code",
   "execution_count": 139,
   "id": "182f7877-6ba8-447b-8c49-513ed8c4622e",
   "metadata": {},
   "outputs": [
    {
     "data": {
      "text/plain": [
       "'The string is palindrome'"
      ]
     },
     "execution_count": 139,
     "metadata": {},
     "output_type": "execute_result"
    }
   ],
   "source": [
    "palin_(\"madam\")"
   ]
  },
  {
   "cell_type": "code",
   "execution_count": 140,
   "id": "76b2ab83-ce14-425f-9152-0f735fe9c3cd",
   "metadata": {},
   "outputs": [
    {
     "data": {
      "text/plain": [
       "'The string is not a palindrome'"
      ]
     },
     "execution_count": 140,
     "metadata": {},
     "output_type": "execute_result"
    }
   ],
   "source": [
    "palin_(\"vagdevi\")"
   ]
  },
  {
   "cell_type": "markdown",
   "id": "9b4a9b5d-28cc-46f2-a8a4-3f677e3d95eb",
   "metadata": {},
   "source": [
    "## Unique elements"
   ]
  },
  {
   "cell_type": "code",
   "execution_count": 144,
   "id": "28083a67-2db9-441b-bb55-c75f00e803ce",
   "metadata": {},
   "outputs": [],
   "source": [
    "def list_(list1):\n",
    "    list2 = set(list1)\n",
    "    list3 = list(list2)\n",
    "    return list3"
   ]
  },
  {
   "cell_type": "code",
   "execution_count": 145,
   "id": "4989d005-ae25-4446-9fef-97d0bb98b91c",
   "metadata": {},
   "outputs": [
    {
     "data": {
      "text/plain": [
       "[1, 2, 3, 4, 5]"
      ]
     },
     "execution_count": 145,
     "metadata": {},
     "output_type": "execute_result"
    }
   ],
   "source": [
    "list_([1,2,3,3,3,3,4,5])"
   ]
  },
  {
   "cell_type": "markdown",
   "id": "51a4908b-98b3-41b8-9497-b43285a5c98f",
   "metadata": {},
   "source": [
    "## Square"
   ]
  },
  {
   "cell_type": "code",
   "execution_count": 6,
   "id": "01d10498-62e5-4758-8791-bd63cd4631c4",
   "metadata": {},
   "outputs": [],
   "source": [
    "def square_(list1):\n",
    "    list2 = []\n",
    "    for i in list1:\n",
    "        list2.append(i*i)\n",
    "    return list2"
   ]
  },
  {
   "cell_type": "code",
   "execution_count": 7,
   "id": "8f9f0b3c-02eb-4aa1-b44e-1d082ee58b20",
   "metadata": {},
   "outputs": [
    {
     "data": {
      "text/plain": [
       "[4, 16, 36, 64]"
      ]
     },
     "execution_count": 7,
     "metadata": {},
     "output_type": "execute_result"
    }
   ],
   "source": [
    "square_([2,4,6,8])"
   ]
  },
  {
   "cell_type": "markdown",
   "id": "aa79612c-5b07-4316-819f-fe5288539a1d",
   "metadata": {},
   "source": [
    "## Lambda Functions"
   ]
  },
  {
   "cell_type": "code",
   "execution_count": 16,
   "id": "414303eb-c74f-43f0-97f2-28a762625e52",
   "metadata": {},
   "outputs": [
    {
     "data": {
      "text/plain": [
       "[25, 9]"
      ]
     },
     "execution_count": 16,
     "metadata": {},
     "output_type": "execute_result"
    }
   ],
   "source": [
    "l = [5,2,3]\n",
    "list(filter(lambda x:x%2!=0,map(lambda x:x**2,l)))"
   ]
  },
  {
   "cell_type": "code",
   "execution_count": 20,
   "id": "7e67a10b-c9b0-49ca-8ada-e01682d7bdd3",
   "metadata": {},
   "outputs": [
    {
     "name": "stdin",
     "output_type": "stream",
     "text": [
      "Enter the amount 10000\n",
      "enter the intrest 3.5\n",
      "enter the no.of years 7\n"
     ]
    },
    {
     "name": "stdout",
     "output_type": "stream",
     "text": [
      "12722.792627665729\n"
     ]
    }
   ],
   "source": [
    "amt = int (input(\"Enter the amount\"))\n",
    "intr = float(input(\"enter the intrest\"))\n",
    "years = int(input(\"enter the no.of years\"))\n",
    "p_amt = amt*((1+(0.01*intr))**years)\n",
    "print(p_amt)"
   ]
  },
  {
   "cell_type": "code",
   "execution_count": 1,
   "id": "7cc2ba24-5165-4416-9b04-fe090bb9bb92",
   "metadata": {},
   "outputs": [
    {
     "name": "stdout",
     "output_type": "stream",
     "text": [
      "15\n"
     ]
    }
   ],
   "source": [
    "x = lambda a:a+10\n",
    "print(x(5))"
   ]
  },
  {
   "cell_type": "code",
   "execution_count": 2,
   "id": "fea687e5-9321-4192-a084-ca1cbb8237b3",
   "metadata": {},
   "outputs": [
    {
     "name": "stdout",
     "output_type": "stream",
     "text": [
      "75\n"
     ]
    }
   ],
   "source": [
    "x = lambda a,b:a*b\n",
    "print(x(15,5))"
   ]
  },
  {
   "cell_type": "code",
   "execution_count": 10,
   "id": "52975f26-be75-4073-87f1-2366a30e8a30",
   "metadata": {},
   "outputs": [
    {
     "name": "stdout",
     "output_type": "stream",
     "text": [
      "30\n",
      "45\n",
      "60\n",
      "75\n"
     ]
    }
   ],
   "source": [
    "def myfunc_(n):\n",
    "    return lambda a:a*n\n",
    "mydoubler = myfunc_(2)\n",
    "print(mydoubler(15))\n",
    "def myfunc_(n):\n",
    "    return lambda a:a*n\n",
    "mytripler = myfunc_(3)\n",
    "print(mytripler(15))\n",
    "def myfunc_(n):\n",
    "    return lambda a:a*n\n",
    "myquadruple = myfunc_(4)\n",
    "print(myquadruple(15))\n",
    "def myfunc_(n):\n",
    "    return lambda a:a*n\n",
    "myquintuple = myfunc_(5)\n",
    "print(myquintuple(15))"
   ]
  },
  {
   "cell_type": "code",
   "execution_count": 12,
   "id": "97d6d9b2-f98c-4a44-b3cf-ce359e0b1743",
   "metadata": {},
   "outputs": [
    {
     "name": "stdout",
     "output_type": "stream",
     "text": [
      "[('socialsciences', 82), ('english', 88), ('science', 90), ('maths', 97)]\n"
     ]
    }
   ],
   "source": [
    "marks = [('english',88),('science',90),('maths',97),('socialsciences',82)]\n",
    "marks.sort(key = lambda x:x[1])\n",
    "print(marks)"
   ]
  },
  {
   "cell_type": "markdown",
   "id": "26752aa1-7466-4d99-8c97-803a42637d9e",
   "metadata": {},
   "source": [
    "## List Comprehension"
   ]
  },
  {
   "cell_type": "code",
   "execution_count": 14,
   "id": "2c14fbbf-c834-4b68-a20d-cfd40691d209",
   "metadata": {},
   "outputs": [
    {
     "name": "stdout",
     "output_type": "stream",
     "text": [
      "['apple', 'banana', 'grapes']\n"
     ]
    }
   ],
   "source": [
    "fruits = [\"apple\",\"banana\",\"grapes\",\"cherry\"]\n",
    "newlist = [x for x in fruits if \"a\" in x]\n",
    "print (newlist)"
   ]
  },
  {
   "cell_type": "code",
   "execution_count": 15,
   "id": "17b7eb6b-31b6-43d3-85c0-3b9db041c20e",
   "metadata": {},
   "outputs": [
    {
     "name": "stdout",
     "output_type": "stream",
     "text": [
      "['banana', 'grapes', 'cherry']\n"
     ]
    }
   ],
   "source": [
    "fruits = [\"apple\",\"banana\",\"grapes\",\"cherry\"]\n",
    "newlist = [x for x in fruits if x!=\"apple\"]\n",
    "print(newlist)"
   ]
  },
  {
   "cell_type": "code",
   "execution_count": 17,
   "id": "70b465d1-dbb7-43ab-8f5a-34c1c62e1bba",
   "metadata": {},
   "outputs": [
    {
     "name": "stdout",
     "output_type": "stream",
     "text": [
      "[0, 1, 2, 3, 4, 5, 6, 7, 8, 9]\n"
     ]
    }
   ],
   "source": [
    "newlist = [x for x in range(10)]\n",
    "print (newlist)"
   ]
  },
  {
   "cell_type": "code",
   "execution_count": 18,
   "id": "7a43ddc1-20bd-4130-9273-f4dfd4f54aa7",
   "metadata": {},
   "outputs": [
    {
     "name": "stdout",
     "output_type": "stream",
     "text": [
      "[0, 1, 2, 3, 4]\n"
     ]
    }
   ],
   "source": [
    "newlist = [x for x in range(10) if x < 5]\n",
    "print (newlist)"
   ]
  },
  {
   "cell_type": "code",
   "execution_count": 19,
   "id": "a8b736ed-7053-4465-b047-8e95276e11be",
   "metadata": {},
   "outputs": [
    {
     "name": "stdout",
     "output_type": "stream",
     "text": [
      "['APPLE', 'BANANA', 'MANGO', 'CHERRY', 'KIWI']\n"
     ]
    }
   ],
   "source": [
    "fruits = [\"apple\",\"banana\",\"mango\",\"cherry\",\"kiwi\"]\n",
    "newlist = [x.upper() for x in fruits]\n",
    "print(newlist)"
   ]
  },
  {
   "cell_type": "code",
   "execution_count": 22,
   "id": "dd3c4be6-bb0d-4171-aca9-99cc4c7c0c3a",
   "metadata": {},
   "outputs": [
    {
     "name": "stdout",
     "output_type": "stream",
     "text": [
      "['apple', 'banana', 'mango', 'cherry', 'kiwi']\n"
     ]
    }
   ],
   "source": [
    "fruits = [\"APPLE\",\"BANANA\",\"MANGO\",\"CHERRY\",\"KIWI\"]\n",
    "newlist = [x.lower() for x in fruits]\n",
    "print(newlist)"
   ]
  },
  {
   "cell_type": "code",
   "execution_count": 24,
   "id": "6f67de19-335f-4339-9ae5-b7ec2b3fb35d",
   "metadata": {},
   "outputs": [
    {
     "name": "stdout",
     "output_type": "stream",
     "text": [
      "['vagdevi', 'vagdevi', 'vagdevi', 'vagdevi']\n"
     ]
    }
   ],
   "source": [
    "fruits = [\"apple\",\"banana\",\"mango\",\"kiwi\"]\n",
    "newlist = ['vagdevi' for x in fruits]\n",
    "print(newlist)"
   ]
  },
  {
   "cell_type": "code",
   "execution_count": 30,
   "id": "abcf295f-c637-4281-a040-eb9bcac70c92",
   "metadata": {},
   "outputs": [
    {
     "name": "stdout",
     "output_type": "stream",
     "text": [
      "['apple', 'orange', 'mango', 'kiwi']\n"
     ]
    }
   ],
   "source": [
    "fruits = [\"apple\",\"banana\",\"mango\",\"kiwi\"]\n",
    "newlist = [x if x!= \"banana\" else \"orange\" for x in fruits]\n",
    "print(newlist)"
   ]
  },
  {
   "cell_type": "code",
   "execution_count": 1,
   "id": "9d9b70ad-3d1c-420a-b783-f71e5a8c113f",
   "metadata": {},
   "outputs": [
    {
     "name": "stdout",
     "output_type": "stream",
     "text": [
      "stack elements: \n",
      "[10, 20, 30]\n",
      "Stack elements after push opration...\n",
      "[10, 20, 30, 40, 50]\n",
      "50  is removed/popped...\n",
      "40  is removed/popped...\n",
      "30  is removed/popped...\n",
      "Stack elements after pop operation...\n",
      "[10, 20]\n"
     ]
    }
   ],
   "source": [
    "stack = [10, 20, 30]\n",
    "print (\"stack elements: \");\n",
    "print (stack)\n",
    "\n",
    "# push operation \n",
    "stack.append(40)\n",
    "stack.append(50)\n",
    "print (\"Stack elements after push opration...\");\n",
    "print (stack)\n",
    "\n",
    "# push operation \n",
    "print (stack.pop (), \" is removed/popped...\")\n",
    "print (stack.pop (), \" is removed/popped...\")\n",
    "print (stack.pop (), \" is removed/popped...\")\n",
    "print (\"Stack elements after pop operation...\");\n",
    "print (stack)"
   ]
  },
  {
   "cell_type": "code",
   "execution_count": 2,
   "id": "cf342063-a484-4755-b90c-0f87b4ca7d2b",
   "metadata": {},
   "outputs": [
    {
     "name": "stdout",
     "output_type": "stream",
     "text": [
      "The length of Queue:  4\n"
     ]
    }
   ],
   "source": [
    "class Queue:  \n",
    "  \n",
    "  def __init__(self):  \n",
    "      self.queue = list()  \n",
    "  \n",
    "  def add_element(self,val):  \n",
    "# Insert method to add element  \n",
    "      if val not in self.queue:  \n",
    "          self.queue.insert(0,val)  \n",
    "          return True  \n",
    "      return False  \n",
    "  \n",
    "  def size(self):  \n",
    "      return len(self.queue)  \n",
    "  \n",
    "TheQueue = Queue()  \n",
    "TheQueue.add_element(\"Apple\")  \n",
    "TheQueue.add_element(\"Mango\")  \n",
    "TheQueue.add_element(\"Guava\")  \n",
    "TheQueue.add_element(\"Papaya\")  \n",
    "  \n",
    "print(\"The length of Queue: \",TheQueue.size())  \n"
   ]
  },
  {
   "cell_type": "markdown",
   "id": "a9248341-2347-4ca3-8c5e-5f38771a3282",
   "metadata": {},
   "source": [
    "## single linkedlist"
   ]
  },
  {
   "cell_type": "code",
   "execution_count": 3,
   "id": "7e1a275f-f6f5-4dea-81cd-a7dac05645aa",
   "metadata": {},
   "outputs": [],
   "source": [
    "class Node:\n",
    "    def __init__(self,data, next=None):\n",
    "        self.data = data\n",
    "        self.next = next\n",
    "    # defining getter and setter for data and next\n",
    "    def getData(self):\n",
    "        return self.data\n",
    "    def setData(self, data):\n",
    "        self.data = data\n",
    "    def getNextNode(self):\n",
    "        return self.next\n",
    "    def setNextNode(self, node):\n",
    "        self.next = node\n",
    "    # class Linked List\n",
    "class LinkedList:\n",
    "    def __init__(self, head=None):\n",
    "        self.head = head\n",
    "        self.size = 0\n",
    "    def getSize(self):\n",
    "        return self.size\n",
    "    def addNode(self, data):\n",
    "        node = Node(data, self.head)\n",
    "        self.head = node\n",
    "        # incrementing the size of the linked list\n",
    "        self.size += 1\n",
    "        return True\n",
    "        # delete a node from linked list\n",
    "    def removeNode(self, value):\n",
    "        prev = None\n",
    "        curr = self.head\n",
    "        while curr:\n",
    "            if curr.getData() == value:\n",
    "                if prev:\n",
    "                    prev.setNextNode(curr.getNextNode())\n",
    "                else:\n",
    "                    self.head = curr.getNextNode()\n",
    "            return True\n",
    "        prev = curr\n",
    "        curr = curr.getNextNode()\n",
    "        return False\n",
    "    def findNode(self,value):\n",
    "        curr = self.head\n",
    "        while curr:\n",
    "            if(curr.getData() == value):\n",
    "                return True\n",
    "            else:\n",
    "                curr = curr.getNextNode()\n",
    "        return False\n",
    "        # print the linked list\n",
    "    def printLL(self):\n",
    "        curr = self.head\n",
    "        while curr:\n",
    "            print(curr.data)\n",
    "            curr = curr.getNextNode()"
   ]
  },
  {
   "cell_type": "code",
   "execution_count": 4,
   "id": "95b5e0b2-d3ff-4db0-8bd0-c3b00c35be3e",
   "metadata": {},
   "outputs": [
    {
     "name": "stdout",
     "output_type": "stream",
     "text": [
      "Inserting\n",
      "True\n",
      "True\n",
      "True\n",
      "25\n",
      "15\n",
      "5\n",
      "3\n",
      "True\n",
      "True\n",
      "15\n",
      "5\n"
     ]
    }
   ],
   "source": [
    "myList = LinkedList()\n",
    "print(\"Inserting\")\n",
    "print(myList.addNode(5))\n",
    "print(myList.addNode(15))\n",
    "print(myList.addNode(25))\n",
    "myList.printLL()\n",
    "print(myList.getSize())\n",
    "print(myList.findNode(25))\n",
    "print(myList.removeNode(25))\n",
    "myList.printLL()"
   ]
  },
  {
   "cell_type": "markdown",
   "id": "e10f7b7f-26dc-4179-aba7-c6c9c8c8899a",
   "metadata": {},
   "source": [
    "## Queue"
   ]
  },
  {
   "cell_type": "code",
   "execution_count": 5,
   "id": "05be7baa-16f0-4bc5-8ca5-86dffa6fc1b1",
   "metadata": {},
   "outputs": [],
   "source": [
    "# Queue implementation in Python\n",
    "class Queue:\n",
    "    def __init__(self):\n",
    "        self.queue = []\n",
    "# Add an element\n",
    "    def enqueue(self, item):\n",
    "        self.queue.append(item)\n",
    "# Remove an element\n",
    "    def dequeue(self):\n",
    "        if len(self.queue) < 1:\n",
    "            return None\n",
    "        return self.queue.pop(2)\n",
    "# Display the queue\n",
    "    def display(self):\n",
    "        print(self.queue)\n",
    "    def size(self):\n",
    "        return len(self.queue)"
   ]
  },
  {
   "cell_type": "code",
   "execution_count": 6,
   "id": "fd183499-4c0e-4be2-9c4a-61a7a82f4970",
   "metadata": {},
   "outputs": [
    {
     "name": "stdout",
     "output_type": "stream",
     "text": [
      "[1, 2, 3, 4, 5]\n"
     ]
    }
   ],
   "source": [
    "q = Queue()\n",
    "q.enqueue(1)\n",
    "q.enqueue(2)\n",
    "q.enqueue(3)\n",
    "q.enqueue(4)\n",
    "q.enqueue(5)\n",
    "q.display()"
   ]
  },
  {
   "cell_type": "markdown",
   "id": "0c144ccf-5c78-4b4f-96cd-607c5bbf1e66",
   "metadata": {},
   "source": [
    "## Binary search"
   ]
  },
  {
   "cell_type": "code",
   "execution_count": 7,
   "id": "974b5da5-1776-4a3c-b10d-26b657d48c0f",
   "metadata": {},
   "outputs": [],
   "source": [
    "# Returns index of x in arr if present, else -1\n",
    "def binary_search(arr, low, high, x):\n",
    "    # Check base case\n",
    "    if high >= low:\n",
    "        mid = (high + low) // 2\n",
    "        # If element is present at the middle itself\n",
    "        if arr[mid] == x:\n",
    "            return mid\n",
    "            # If element is smaller than mid, then it can only\n",
    "            # be present in left subarray\n",
    "        elif arr[mid] > x:\n",
    "            return binary_search(arr, low, mid - 1, x)\n",
    "            # Else the element can only be present in right subarray\n",
    "        else:\n",
    "            return binary_search(arr, mid + 1, high, x)\n",
    "    else:\n",
    "        # Element is not present in the array\n",
    "        return -1"
   ]
  },
  {
   "cell_type": "code",
   "execution_count": 8,
   "id": "99e562d3-7d74-4c09-91aa-e98628a59bc9",
   "metadata": {},
   "outputs": [
    {
     "name": "stdout",
     "output_type": "stream",
     "text": [
      "Element is present at index 3\n"
     ]
    }
   ],
   "source": [
    "# Test array\n",
    "arr = [ 2, 3, 4, 10, 40 ]\n",
    "x = 10\n",
    "# Function call\n",
    "result = binary_search(arr, 0, len(arr)-1, x)\n",
    "if result != -1:\n",
    "    print(\"Element is present at index\", str(result))\n",
    "else:\n",
    "    print(\"Element is not present in array\")\n"
   ]
  },
  {
   "cell_type": "markdown",
   "id": "64503d2c-bffc-4fdd-b022-a6184839cc06",
   "metadata": {},
   "source": [
    "## Linear search"
   ]
  },
  {
   "cell_type": "code",
   "execution_count": 9,
   "id": "e7b0bbe3-e93d-4a90-a3cd-c8edcff5294e",
   "metadata": {},
   "outputs": [],
   "source": [
    "def linearsearch(arr, x):\n",
    "    for i in range(len(arr)):\n",
    "        if arr[i] == x:\n",
    "            return i\n",
    "    return 'element not found'"
   ]
  },
  {
   "cell_type": "code",
   "execution_count": 11,
   "id": "4b8c79b3-defd-47b9-8f51-73a17f1429ec",
   "metadata": {},
   "outputs": [
    {
     "name": "stdout",
     "output_type": "stream",
     "text": [
      "element found at index :6\n"
     ]
    }
   ],
   "source": [
    "arr = ['t','u','t','o','r','i','a','l']\n",
    "x = 'a'\n",
    "print(\"element found at index :\"+str(linearsearch(arr,x)))"
   ]
  },
  {
   "cell_type": "markdown",
   "id": "61a1e657-7439-43d3-9330-09a5f5843224",
   "metadata": {},
   "source": [
    "## Bubble sort"
   ]
  },
  {
   "cell_type": "code",
   "execution_count": 12,
   "id": "3f80f755-8ee6-4dad-a7fd-1d2b50b53886",
   "metadata": {},
   "outputs": [],
   "source": [
    "def bubbleSort(arr):\n",
    "    n = len(arr)\n",
    "    # Traverse through all array elements\n",
    "    for i in range(n-1):\n",
    "    # range(n) also work but outer loop will repeat one time more than needed.\n",
    "    # Last i elements are already in place\n",
    "        for j in range(0, n-i-1):\n",
    "        # traverse the array from 0 to n-i-1\n",
    "        # Swap if the element found is greater# than the next element\n",
    "            if arr[j] > arr[j + 1] :\n",
    "                arr[j], arr[j + 1] = arr[j + 1], arr[j]"
   ]
  },
  {
   "cell_type": "code",
   "execution_count": 13,
   "id": "3b8a1960-1ab2-44fb-8d7c-e41ff29d625b",
   "metadata": {},
   "outputs": [
    {
     "name": "stdout",
     "output_type": "stream",
     "text": [
      "Sorted array is:\n",
      " 11  12  22  25  34  64  90 "
     ]
    }
   ],
   "source": [
    "arr = [64, 34, 25, 12, 22, 11, 90]\n",
    "bubbleSort(arr)\n",
    "print (\"Sorted array is:\")\n",
    "for i in range(len(arr)):\n",
    "    print (\"% d\" % arr[i], end = ' ')"
   ]
  },
  {
   "cell_type": "markdown",
   "id": "1fc48845-3d6c-4cdf-b28e-851d306b8966",
   "metadata": {},
   "source": [
    "## Insertion sort"
   ]
  },
  {
   "cell_type": "code",
   "execution_count": 14,
   "id": "290e3270-1344-4e5f-919d-b436ed274081",
   "metadata": {},
   "outputs": [],
   "source": [
    "def insertionSort(arr):# Traverse through 1 to len(arr)\n",
    "    for i in range(1, len(arr)):\n",
    "        key = arr[i]\n",
    "        # Move elements of arr[0..i-1], that are\n",
    "        # greater than key, to one position ahead\n",
    "        # of their current position\n",
    "        j = i-1\n",
    "        while j >=0 and key < arr[j] :\n",
    "            arr[j+1] = arr[j]\n",
    "            j -= 1\n",
    "            arr[j+1] = key"
   ]
  },
  {
   "cell_type": "code",
   "execution_count": 15,
   "id": "11e6b651-1d53-499e-a521-96e8e2954a49",
   "metadata": {},
   "outputs": [
    {
     "name": "stdout",
     "output_type": "stream",
     "text": [
      "Sorted array is:\n",
      "5\n",
      "6\n",
      "11\n",
      "12\n",
      "13\n"
     ]
    }
   ],
   "source": [
    "arr = [12, 11, 13, 5, 6]\n",
    "insertionSort(arr)\n",
    "print (\"Sorted array is:\")\n",
    "for i in range(len(arr)):\n",
    "    print (\"%d\" %arr[i])"
   ]
  },
  {
   "cell_type": "markdown",
   "id": "ccf77c5a-7c9d-4788-b7c1-b7d67213c394",
   "metadata": {},
   "source": [
    "## Selection sort"
   ]
  },
  {
   "cell_type": "code",
   "execution_count": 16,
   "id": "9b765bf8-ba9f-438c-9118-89dcc544a5b3",
   "metadata": {},
   "outputs": [],
   "source": [
    "import sys\n",
    "A = [64, 25, 12, 22, 11]\n",
    "# Traverse through all array elements\n",
    "for i in range(len(A)):\n",
    "    # Find the minimum element in remaining\n",
    "    # unsorted array\n",
    "    min_idx = i\n",
    "    for j in range(i+1, len(A)):\n",
    "        if A[min_idx] > A[j]:\n",
    "            min_idx = j\n",
    "    # Swap the found minimum element with\n",
    "    # the first element\n",
    "    A[i], A[min_idx] = A[min_idx], A[i]"
   ]
  },
  {
   "cell_type": "code",
   "execution_count": 17,
   "id": "7c899d38-860e-41e8-b5de-53aab3b90519",
   "metadata": {},
   "outputs": [
    {
     "name": "stdout",
     "output_type": "stream",
     "text": [
      "Sorted array\n",
      "11\n",
      "12\n",
      "22\n",
      "25\n",
      "64\n"
     ]
    }
   ],
   "source": [
    "print (\"Sorted array\")\n",
    "for i in range(len(A)):\n",
    "    print(\"%d\" %A[i])"
   ]
  },
  {
   "cell_type": "code",
   "execution_count": null,
   "id": "133d89d7-bbc3-489f-ab54-35ff29f25ca2",
   "metadata": {},
   "outputs": [],
   "source": []
  }
 ],
 "metadata": {
  "kernelspec": {
   "display_name": "Python 3",
   "language": "python",
   "name": "python3"
  },
  "language_info": {
   "codemirror_mode": {
    "name": "ipython",
    "version": 3
   },
   "file_extension": ".py",
   "mimetype": "text/x-python",
   "name": "python",
   "nbconvert_exporter": "python",
   "pygments_lexer": "ipython3",
   "version": "3.8.8"
  }
 },
 "nbformat": 4,
 "nbformat_minor": 5
}
