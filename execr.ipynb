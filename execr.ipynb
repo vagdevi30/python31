{
 "cells": [
  {
   "cell_type": "code",
   "execution_count": 2,
   "id": "4ffb2ff0-ff71-464a-836d-69b5032e707b",
   "metadata": {},
   "outputs": [
    {
     "data": {
      "text/plain": [
       "3"
      ]
     },
     "execution_count": 2,
     "metadata": {},
     "output_type": "execute_result"
    }
   ],
   "source": [
    "str1 = [\"apple\",\"banana\",\"cherry\"]\n",
    "len (str1)"
   ]
  },
  {
   "cell_type": "code",
   "execution_count": 3,
   "id": "a1320eab-6499-476c-b775-8ddcdf53e411",
   "metadata": {},
   "outputs": [
    {
     "data": {
      "text/plain": [
       "7"
      ]
     },
     "execution_count": 3,
     "metadata": {},
     "output_type": "execute_result"
    }
   ],
   "source": [
    "str1 = \"vagdevi\"\n",
    "len (str1)"
   ]
  },
  {
   "cell_type": "code",
   "execution_count": 7,
   "id": "12ff18d0-74af-44bb-92db-fc335f18557c",
   "metadata": {},
   "outputs": [
    {
     "data": {
      "text/plain": [
       "9"
      ]
     },
     "execution_count": 7,
     "metadata": {},
     "output_type": "execute_result"
    }
   ],
   "source": [
    "list1 = [\"apple\",\"exercises\",\"cherry\"]\n",
    "len (list1[1])"
   ]
  },
  {
   "cell_type": "code",
   "execution_count": 33,
   "id": "02c13fca-48db-46ca-b6a6-d2804af93e50",
   "metadata": {},
   "outputs": [
    {
     "ename": "NameError",
     "evalue": "name 'key' is not defined",
     "output_type": "error",
     "traceback": [
      "\u001b[1;31m---------------------------------------------------------------------------\u001b[0m",
      "\u001b[1;31mNameError\u001b[0m                                 Traceback (most recent call last)",
      "\u001b[1;32m<ipython-input-33-9865ebfed575>\u001b[0m in \u001b[0;36m<module>\u001b[1;34m\u001b[0m\n\u001b[0;32m      1\u001b[0m \u001b[0mlist1\u001b[0m \u001b[1;33m=\u001b[0m\u001b[1;33m[\u001b[0m\u001b[1;33m(\u001b[0m\u001b[1;36m2\u001b[0m\u001b[1;33m,\u001b[0m\u001b[1;36m5\u001b[0m\u001b[1;33m)\u001b[0m\u001b[1;33m,\u001b[0m\u001b[1;33m(\u001b[0m\u001b[1;36m1\u001b[0m\u001b[1;33m,\u001b[0m\u001b[1;36m2\u001b[0m\u001b[1;33m)\u001b[0m\u001b[1;33m,\u001b[0m\u001b[1;33m(\u001b[0m\u001b[1;36m4\u001b[0m\u001b[1;33m,\u001b[0m\u001b[1;36m4\u001b[0m\u001b[1;33m)\u001b[0m\u001b[1;33m,\u001b[0m\u001b[1;33m(\u001b[0m\u001b[1;36m2\u001b[0m\u001b[1;33m,\u001b[0m\u001b[1;36m3\u001b[0m\u001b[1;33m)\u001b[0m\u001b[1;33m,\u001b[0m\u001b[1;33m(\u001b[0m\u001b[1;36m2\u001b[0m\u001b[1;33m,\u001b[0m\u001b[1;36m1\u001b[0m\u001b[1;33m)\u001b[0m\u001b[1;33m]\u001b[0m\u001b[1;33m\u001b[0m\u001b[1;33m\u001b[0m\u001b[0m\n\u001b[1;32m----> 2\u001b[1;33m \u001b[0mlist1\u001b[0m\u001b[1;33m.\u001b[0m\u001b[0msort\u001b[0m\u001b[1;33m(\u001b[0m\u001b[0mkey\u001b[0m\u001b[1;33m)\u001b[0m\u001b[1;33m\u001b[0m\u001b[1;33m\u001b[0m\u001b[0m\n\u001b[0m\u001b[0;32m      3\u001b[0m \u001b[0mprint\u001b[0m\u001b[1;33m(\u001b[0m\u001b[0mlist1\u001b[0m\u001b[1;33m)\u001b[0m\u001b[1;33m\u001b[0m\u001b[1;33m\u001b[0m\u001b[0m\n",
      "\u001b[1;31mNameError\u001b[0m: name 'key' is not defined"
     ]
    }
   ],
   "source": [
    "list1 =[(2,5),(1,2),(4,4),(2,3),(2,1)]\n",
    "list1.sort\n",
    "print(list1)"
   ]
  },
  {
   "cell_type": "code",
   "execution_count": 15,
   "id": "d8ab88dd-443b-4080-8f2f-41f7e0c1f225",
   "metadata": {},
   "outputs": [
    {
     "name": "stdin",
     "output_type": "stream",
     "text": [
      "enter the string abc\n",
      "enter the string xyz\n"
     ]
    },
    {
     "name": "stdout",
     "output_type": "stream",
     "text": [
      "xyc\n",
      "abz\n"
     ]
    }
   ],
   "source": [
    "str1 = str(input(\"enter the string\"))\n",
    "str2 = str(input(\"enter the string\"))\n",
    "x = str2[:2]+str1[2:]\n",
    "y = str1[:2]+str2[2:]\n",
    "print(x)\n",
    "print(y)"
   ]
  },
  {
   "cell_type": "code",
   "execution_count": 37,
   "id": "f3343da5-df28-42dd-a044-46531f033ae7",
   "metadata": {},
   "outputs": [
    {
     "name": "stdout",
     "output_type": "stream",
     "text": [
      "{1, 2, 3, 4}\n"
     ]
    }
   ],
   "source": [
    "list1 =[1,2,3,4,4,3,2,1]\n",
    "list2 = set(list1)\n",
    "print(list2)"
   ]
  },
  {
   "cell_type": "code",
   "execution_count": 38,
   "id": "2972e46d-10f5-4feb-9342-a8916014bf6c",
   "metadata": {},
   "outputs": [
    {
     "name": "stdout",
     "output_type": "stream",
     "text": [
      "[1, 2, 3, 4, 5, 6]\n"
     ]
    }
   ],
   "source": [
    "list1 = [1,2,3,4,5,6]\n",
    "list2 = list1.copy()\n",
    "print(list2)"
   ]
  },
  {
   "cell_type": "code",
   "execution_count": 42,
   "id": "28820356-7605-4b37-9e72-2417e9ce685e",
   "metadata": {},
   "outputs": [
    {
     "name": "stdout",
     "output_type": "stream",
     "text": [
      "list is empty\n"
     ]
    }
   ],
   "source": [
    "list1 = []\n",
    "if not list1:\n",
    "    print(\"list is empty\")\n",
    "else:\n",
    "    print(\"list is not empty\")"
   ]
  },
  {
   "cell_type": "code",
   "execution_count": 43,
   "id": "7fbbb603-ea89-4d8a-801b-a55a8652cbc4",
   "metadata": {},
   "outputs": [
    {
     "name": "stdout",
     "output_type": "stream",
     "text": [
      "('apple', 'banana', 'cherry', 'strawberry')\n"
     ]
    }
   ],
   "source": [
    "str1 = (\"apple\",\"banana\",\"cherry\",\"strawberry\")\n",
    "print(str1)"
   ]
  },
  {
   "cell_type": "code",
   "execution_count": 46,
   "id": "df6e3d49-4c45-4a31-b6ff-91665fddc03e",
   "metadata": {},
   "outputs": [
    {
     "name": "stdout",
     "output_type": "stream",
     "text": [
      "('apple', 1, 2.3, 'cherry', 'true')\n"
     ]
    }
   ],
   "source": [
    "str1 = (\"apple\",1,2.3,\"cherry\",\"true\")\n",
    "print(str1)"
   ]
  },
  {
   "cell_type": "code",
   "execution_count": 49,
   "id": "f1982bce-b2f0-423e-84cb-aea0b11a084a",
   "metadata": {},
   "outputs": [
    {
     "data": {
      "text/plain": [
       "3"
      ]
     },
     "execution_count": 49,
     "metadata": {},
     "output_type": "execute_result"
    }
   ],
   "source": [
    "tup1 = (1,2,3,4,5)\n",
    "tup2 = list(tup1)\n",
    "tup2[2]"
   ]
  },
  {
   "cell_type": "code",
   "execution_count": 55,
   "id": "0a083e72-6e2a-49e6-9eca-3a4a942bfb42",
   "metadata": {},
   "outputs": [
    {
     "name": "stdout",
     "output_type": "stream",
     "text": [
      "apple\n",
      "banana\n",
      "cherry\n"
     ]
    }
   ],
   "source": [
    "fruits = (\"apple\",\"banana\",\"cherry\")\n",
    "(a,b,c) = fruits\n",
    "print(a)\n",
    "print(b)\n",
    "print(c)"
   ]
  },
  {
   "cell_type": "code",
   "execution_count": 59,
   "id": "118d429f-79ec-462e-997d-c524abda35b9",
   "metadata": {},
   "outputs": [
    {
     "name": "stdout",
     "output_type": "stream",
     "text": [
      "(1, 2, 3, 4, 5, 6, 7)\n"
     ]
    }
   ],
   "source": [
    "tup1 = (1,2,3,4,5,6)\n",
    "tup2 = list(tup1)\n",
    "tup2.append(7)\n",
    "tup1 = tuple(tup2)\n",
    "print(tup1)"
   ]
  },
  {
   "cell_type": "code",
   "execution_count": 65,
   "id": "c9abbdda-5607-4855-9995-aaddef00c16b",
   "metadata": {},
   "outputs": [
    {
     "data": {
      "text/plain": [
       "'(1, 2, 3, 4, 5)'"
      ]
     },
     "execution_count": 65,
     "metadata": {},
     "output_type": "execute_result"
    }
   ],
   "source": [
    "tup1 = (1,2,3,4,5)\n",
    "tup2 = str(tup1)\n",
    "tup2"
   ]
  },
  {
   "cell_type": "code",
   "execution_count": 77,
   "id": "f5d0908b-5b58-4b3a-b638-22c7779ebd9c",
   "metadata": {},
   "outputs": [
    {
     "name": "stdout",
     "output_type": "stream",
     "text": [
      "strawberry\n"
     ]
    },
    {
     "data": {
      "text/plain": [
       "'w'"
      ]
     },
     "execution_count": 77,
     "metadata": {},
     "output_type": "execute_result"
    }
   ],
   "source": [
    "tup1 = (\"apple\",\"banana\",\"cherry\",\"strawberry\",\"mango\")\n",
    "tup2 = list(tup1)\n",
    "print(tup2[3])\n",
    "tup2[3][4]"
   ]
  },
  {
   "cell_type": "code",
   "execution_count": 75,
   "id": "b4e173b0-8038-4417-92d5-05adb7ce62ae",
   "metadata": {},
   "outputs": [
    {
     "name": "stdout",
     "output_type": "stream",
     "text": [
      "1\n"
     ]
    }
   ],
   "source": [
    "tuple1 = (1,2,3,4,2,5,6,4,4,3)\n",
    "x = tuple1.count(1)\n",
    "print(x)"
   ]
  },
  {
   "cell_type": "code",
   "execution_count": 78,
   "id": "72810750-3e03-4663-b1f8-65b5170e14d7",
   "metadata": {},
   "outputs": [
    {
     "name": "stdout",
     "output_type": "stream",
     "text": [
      "{1, 2, 3, 4, 5}\n"
     ]
    }
   ],
   "source": [
    "set1 = {1,2,3,4,5}\n",
    "print(set1)"
   ]
  },
  {
   "cell_type": "code",
   "execution_count": 80,
   "id": "b085c85a-1177-48d7-a6ab-46d5fed7e6a9",
   "metadata": {},
   "outputs": [
    {
     "data": {
      "text/plain": [
       "{1, 2, 3, 4, 5, 6}"
      ]
     },
     "execution_count": 80,
     "metadata": {},
     "output_type": "execute_result"
    }
   ],
   "source": [
    "set1 = {1,2,3,4,5}\n",
    "set1.add(6)\n",
    "set1"
   ]
  },
  {
   "cell_type": "code",
   "execution_count": 85,
   "id": "2a0ac891-ad93-4f9b-ad7d-9d7e4a2641c9",
   "metadata": {},
   "outputs": [
    {
     "data": {
      "text/plain": [
       "{1, 2, 3, 5}"
      ]
     },
     "execution_count": 85,
     "metadata": {},
     "output_type": "execute_result"
    }
   ],
   "source": [
    "set1 = {1,2,3,4,5}\n",
    "set1.remove(4)\n",
    "set1"
   ]
  },
  {
   "cell_type": "code",
   "execution_count": 87,
   "id": "e29bb7d6-d843-463c-8ad3-0243b18c51bc",
   "metadata": {},
   "outputs": [
    {
     "data": {
      "text/plain": [
       "{2, 4, 5}"
      ]
     },
     "execution_count": 87,
     "metadata": {},
     "output_type": "execute_result"
    }
   ],
   "source": [
    "set1 = {1,2,3,4,5}\n",
    "set2 = {2,7,4,5,10}\n",
    "set1.intersection(set2)"
   ]
  },
  {
   "cell_type": "code",
   "execution_count": 88,
   "id": "8de91399-c57c-405d-8105-fc7375b734d4",
   "metadata": {},
   "outputs": [
    {
     "data": {
      "text/plain": [
       "{1, 2, 3, 4, 5, 6, 7, 8, 9, 10}"
      ]
     },
     "execution_count": 88,
     "metadata": {},
     "output_type": "execute_result"
    }
   ],
   "source": [
    "set1 = {1,2,3,4,5}\n",
    "set2 = {6,7,8,9,10}\n",
    "set1.union(set2)"
   ]
  },
  {
   "cell_type": "code",
   "execution_count": 89,
   "id": "36424350-7d3a-480e-9849-68bec70fc403",
   "metadata": {},
   "outputs": [
    {
     "name": "stdout",
     "output_type": "stream",
     "text": [
      "{1, 2, 3, 4, 5}\n"
     ]
    }
   ],
   "source": [
    "set1 = {1,2,3,4,5}\n",
    "set2 = {6,7,8,9,10}\n",
    "set3 = set1.difference(set2)\n",
    "print(set3)"
   ]
  },
  {
   "cell_type": "code",
   "execution_count": 90,
   "id": "0eeea159-5828-43c0-a455-d77a238a0759",
   "metadata": {},
   "outputs": [
    {
     "name": "stdout",
     "output_type": "stream",
     "text": [
      "{1, 3, 7, 10}\n"
     ]
    }
   ],
   "source": [
    "set1 = {1,2,3,4,5}\n",
    "set2 = {2,7,4,5,10}\n",
    "set3 = set1.symmetric_difference(set2)\n",
    "print(set3)"
   ]
  },
  {
   "cell_type": "code",
   "execution_count": 94,
   "id": "27ec1cc1-62a0-4a68-8463-a1a9d4545119",
   "metadata": {},
   "outputs": [
    {
     "name": "stdout",
     "output_type": "stream",
     "text": [
      "True\n"
     ]
    }
   ],
   "source": [
    "x = {\"a\",\"b\",\"c\",\"d\"}\n",
    "y = {\"e\",\"f\",\"g\",\"h\",\"a\",\"b\",\"c\",\"d\"}\n",
    "z = x.issubset(y)\n",
    "print(z)"
   ]
  },
  {
   "cell_type": "code",
   "execution_count": 106,
   "id": "5a8a883a-0ad3-475b-bea5-c35008bc5436",
   "metadata": {},
   "outputs": [
    {
     "name": "stdout",
     "output_type": "stream",
     "text": [
      "1\n",
      "2\n",
      "3\n",
      "4\n",
      "5\n",
      "l\n",
      "s\n",
      "w\n",
      "3\n",
      "h\n",
      "c\n",
      "o\n"
     ]
    }
   ],
   "source": [
    "setn = {1,2,3,4,5}\n",
    "for x in setn:\n",
    "    print(x)\n",
    "setc = set(\"w3schools\")\n",
    "for y in setc:\n",
    "    print(y)"
   ]
  },
  {
   "cell_type": "code",
   "execution_count": 7,
   "id": "b82ca6b4-6ee0-4720-ac09-e80ff6fe3067",
   "metadata": {},
   "outputs": [
    {
     "name": "stdout",
     "output_type": "stream",
     "text": [
      "lowercase letters=  8\n",
      "uppercase letters=  2\n"
     ]
    }
   ],
   "source": [
    "str1 = \"Hello World\"\n",
    "lower = 0\n",
    "upper = 0\n",
    "for i in str1:\n",
    "    if(i > 'a' and i < 'z'):\n",
    "        lower+=1\n",
    "        \n",
    "    elif( i >'A' and i <'Z'):\n",
    "        upper+=1\n",
    "        \n",
    "print('lowercase letters= ',lower)    \n",
    "print('uppercase letters= ',upper)    "
   ]
  },
  {
   "cell_type": "code",
   "execution_count": 25,
   "id": "6a33106f-120b-4872-8174-f0553c18439a",
   "metadata": {},
   "outputs": [
    {
     "name": "stdout",
     "output_type": "stream",
     "text": [
      "{0: 20}\n",
      "{0: 20, 2: 30}\n"
     ]
    }
   ],
   "source": [
    "dict1 = {0:10,0:20}\n",
    "print(dict1)\n",
    "dict1.update({2:30})\n",
    "print(dict1)"
   ]
  },
  {
   "cell_type": "code",
   "execution_count": null,
   "id": "9a8051b6-431a-4126-906d-2ddae0f7c184",
   "metadata": {},
   "outputs": [],
   "source": []
  }
 ],
 "metadata": {
  "kernelspec": {
   "display_name": "Python 3",
   "language": "python",
   "name": "python3"
  },
  "language_info": {
   "codemirror_mode": {
    "name": "ipython",
    "version": 3
   },
   "file_extension": ".py",
   "mimetype": "text/x-python",
   "name": "python",
   "nbconvert_exporter": "python",
   "pygments_lexer": "ipython3",
   "version": "3.8.8"
  }
 },
 "nbformat": 4,
 "nbformat_minor": 5
}
