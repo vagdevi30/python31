{
 "cells": [
  {
   "cell_type": "markdown",
   "id": "b91c374a-5820-4173-bad7-48601b7b3794",
   "metadata": {},
   "source": [
    "## Functional Programming"
   ]
  },
  {
   "cell_type": "code",
   "execution_count": 3,
   "id": "79081704-0d1b-416a-9b29-934bd1029696",
   "metadata": {},
   "outputs": [],
   "source": [
    "def eveodd(man):\n",
    "    odd_number = []\n",
    "    even_number = []\n",
    "    for i in man:\n",
    "        if(i%2==0):\n",
    "            even_number.append(i)\n",
    "        else:\n",
    "            odd_number.append(i)\n",
    "    return(odd_number,even_number)    "
   ]
  },
  {
   "cell_type": "code",
   "execution_count": 4,
   "id": "f9c3d2cd-4528-4c94-84fc-a8651f77288f",
   "metadata": {},
   "outputs": [
    {
     "data": {
      "text/plain": [
       "([1, 3, 9], [2, 4])"
      ]
     },
     "execution_count": 4,
     "metadata": {},
     "output_type": "execute_result"
    }
   ],
   "source": [
    "eveodd([1,2,3,4,9])"
   ]
  },
  {
   "cell_type": "code",
   "execution_count": 5,
   "id": "828a1bc0-79f4-413b-af17-a47c0aa813af",
   "metadata": {},
   "outputs": [],
   "source": [
    "def flatt(list1):\n",
    "    for i in list1:\n",
    "        for j in i:\n",
    "            print(j, end=' ')"
   ]
  },
  {
   "cell_type": "code",
   "execution_count": 6,
   "id": "94481b29-679e-43b4-9815-e99f9e703f79",
   "metadata": {},
   "outputs": [
    {
     "name": "stdout",
     "output_type": "stream",
     "text": [
      "1 2 2 3 4 5 6 7 9 "
     ]
    }
   ],
   "source": [
    "flatt([[1,2],[2,3,4,5],[6,7,9]])"
   ]
  },
  {
   "cell_type": "markdown",
   "id": "fe11eeba-59a9-4243-87b0-88c35bc2c753",
   "metadata": {},
   "source": [
    "## String Compare"
   ]
  },
  {
   "cell_type": "code",
   "execution_count": 10,
   "id": "f73d159b-ab00-4a86-b005-80bee289d0cd",
   "metadata": {},
   "outputs": [],
   "source": [
    "def compare_(list1,list2):\n",
    "    if(len(list1) != len(list2)):\n",
    "        return (\"check the list\")\n",
    "    elif(list1 == list2):\n",
    "        return True\n",
    "    else:\n",
    "        return False"
   ]
  },
  {
   "cell_type": "code",
   "execution_count": 7,
   "id": "3b1e63aa-e23a-4f11-8940-60ae12457bfa",
   "metadata": {},
   "outputs": [
    {
     "data": {
      "text/plain": [
       "True"
      ]
     },
     "execution_count": 7,
     "metadata": {},
     "output_type": "execute_result"
    }
   ],
   "source": [
    "compare_([1,2,3,4],[1,2,3,4])"
   ]
  },
  {
   "cell_type": "code",
   "execution_count": 11,
   "id": "0f61fedf-cc82-46fe-bea6-c5bfddbe3442",
   "metadata": {},
   "outputs": [
    {
     "data": {
      "text/plain": [
       "'check the list'"
      ]
     },
     "execution_count": 11,
     "metadata": {},
     "output_type": "execute_result"
    }
   ],
   "source": [
    "compare_([1,2,3],[1,2,3,4])"
   ]
  },
  {
   "cell_type": "code",
   "execution_count": 12,
   "id": "2fa44c5d-fd3f-4548-83ef-fe2c0c900173",
   "metadata": {},
   "outputs": [
    {
     "data": {
      "text/plain": [
       "False"
      ]
     },
     "execution_count": 12,
     "metadata": {},
     "output_type": "execute_result"
    }
   ],
   "source": [
    "compare_([1,2,3,4],[2,2,3,4])"
   ]
  },
  {
   "cell_type": "markdown",
   "id": "d2bbdca1-90cf-4529-bb2b-a387abccee66",
   "metadata": {},
   "source": [
    "## ADD"
   ]
  },
  {
   "cell_type": "code",
   "execution_count": 31,
   "id": "fbf990aa-902c-44e4-a6ae-74c1ea7c0969",
   "metadata": {},
   "outputs": [],
   "source": [
    "def add_(a,b,c):\n",
    "    return a+b+c"
   ]
  },
  {
   "cell_type": "code",
   "execution_count": 32,
   "id": "5a13ddbc-a1dd-47fe-aa38-805894d8cae0",
   "metadata": {},
   "outputs": [
    {
     "data": {
      "text/plain": [
       "6"
      ]
     },
     "execution_count": 32,
     "metadata": {},
     "output_type": "execute_result"
    }
   ],
   "source": [
    "add_(1,2,3)"
   ]
  },
  {
   "cell_type": "code",
   "execution_count": 36,
   "id": "0592bdf8-33f9-4f97-8de6-67a488fe940f",
   "metadata": {},
   "outputs": [],
   "source": [
    "def add_(*venkat):\n",
    "    sum_= 0\n",
    "    for i in venkat:\n",
    "        sum_ =sum_+i\n",
    "    return sum_    "
   ]
  },
  {
   "cell_type": "code",
   "execution_count": 34,
   "id": "7dd4967e-258e-46c6-b4d0-96ff6ddcd1c2",
   "metadata": {},
   "outputs": [
    {
     "data": {
      "text/plain": [
       "<function __main__.add_(*venkat)>"
      ]
     },
     "execution_count": 34,
     "metadata": {},
     "output_type": "execute_result"
    }
   ],
   "source": [
    "add_"
   ]
  },
  {
   "cell_type": "code",
   "execution_count": 37,
   "id": "d41482fe-ccbe-40e7-84e5-3556a536f1f4",
   "metadata": {},
   "outputs": [
    {
     "data": {
      "text/plain": [
       "10"
      ]
     },
     "execution_count": 37,
     "metadata": {},
     "output_type": "execute_result"
    }
   ],
   "source": [
    "add_(1,2,3,4)"
   ]
  },
  {
   "cell_type": "markdown",
   "id": "55c2634e-4b29-4eca-a2fe-c6fce78e4986",
   "metadata": {},
   "source": [
    "## Lamda function"
   ]
  },
  {
   "cell_type": "code",
   "execution_count": 39,
   "id": "8bdc4da7-b487-49e3-a1e3-216733c7e5cd",
   "metadata": {},
   "outputs": [
    {
     "data": {
      "text/plain": [
       "3"
      ]
     },
     "execution_count": 39,
     "metadata": {},
     "output_type": "execute_result"
    }
   ],
   "source": [
    "add_ = lambda x,y:x+y\n",
    "add_(1,2)    "
   ]
  },
  {
   "cell_type": "code",
   "execution_count": 34,
   "id": "ff18ff3a-1de1-45ea-bbb5-f7737a18a40c",
   "metadata": {},
   "outputs": [],
   "source": [
    "def add_(*name1_):\n",
    "    sum = 0    \n",
    "    for i in name1_:\n",
    "        sum = sum + i\n",
    "    return(sum)    "
   ]
  },
  {
   "cell_type": "code",
   "execution_count": 36,
   "id": "5374ade3-0ad8-4d2c-928b-a2f3f05361ad",
   "metadata": {},
   "outputs": [
    {
     "data": {
      "text/plain": [
       "15"
      ]
     },
     "execution_count": 36,
     "metadata": {},
     "output_type": "execute_result"
    }
   ],
   "source": [
    "add_(1,2,3,4,5)"
   ]
  },
  {
   "cell_type": "code",
   "execution_count": 7,
   "id": "45d6fbfc-163f-4375-89cf-9ac9a0d9fd14",
   "metadata": {},
   "outputs": [],
   "source": [
    "def greet_(name,msg1=\"\"):\n",
    "    print(name+' '+msg1)"
   ]
  },
  {
   "cell_type": "code",
   "execution_count": 9,
   "id": "dcf639e4-c476-4c9a-8b0d-9b2d0f8470bd",
   "metadata": {},
   "outputs": [
    {
     "name": "stdout",
     "output_type": "stream",
     "text": [
      "vagdevi goodmorning\n"
     ]
    }
   ],
   "source": [
    "greet_('vagdevi','goodmorning')"
   ]
  },
  {
   "cell_type": "code",
   "execution_count": 50,
   "id": "5bd2e296-1a29-40f2-972e-b7f0376b323a",
   "metadata": {},
   "outputs": [],
   "source": [
    "def my_function(*kids):\n",
    "  print(\"The youngest child is \" + kids)"
   ]
  },
  {
   "cell_type": "code",
   "execution_count": 51,
   "id": "3d024501-5fd5-41a8-80e9-82608d1e696c",
   "metadata": {},
   "outputs": [
    {
     "name": "stdout",
     "output_type": "stream",
     "text": [
      "the youngest kid isc\n"
     ]
    }
   ],
   "source": [
    "add_(\"vagdevi\",\"umesh\",\"c\",\"a\")"
   ]
  },
  {
   "cell_type": "markdown",
   "id": "80d09ac8-1d4f-453e-b673-232d02d11a0b",
   "metadata": {},
   "source": [
    "## Keyword arguments"
   ]
  },
  {
   "cell_type": "code",
   "execution_count": 57,
   "id": "85694c58-3acf-49f8-b069-2b61b1ef106b",
   "metadata": {},
   "outputs": [],
   "source": [
    "def sort_(child3,child2,child1):\n",
    "    print(\"The youngest child is\" + child2)"
   ]
  },
  {
   "cell_type": "code",
   "execution_count": 58,
   "id": "ba9c304b-07ea-49e1-8dc5-2dea7b68d8bc",
   "metadata": {},
   "outputs": [
    {
     "name": "stdout",
     "output_type": "stream",
     "text": [
      "The youngest child istobias\n"
     ]
    }
   ],
   "source": [
    "sort_(child1 = \"vagdevi\",child2 = \"tobias\",child3 = \"linus\")"
   ]
  },
  {
   "cell_type": "markdown",
   "id": "36fb8fe7-bb61-4890-be35-c2c35546d85c",
   "metadata": {},
   "source": [
    "## **Kwargs"
   ]
  },
  {
   "cell_type": "code",
   "execution_count": 60,
   "id": "8554cd25-ab22-43fc-99a8-84de336b5610",
   "metadata": {},
   "outputs": [],
   "source": [
    "def my_function(**kid):\n",
    "  print(\"His last name is \" + kid[\"lname\"])"
   ]
  },
  {
   "cell_type": "code",
   "execution_count": 61,
   "id": "43aac7fc-d834-48f3-a407-c391ae329fac",
   "metadata": {},
   "outputs": [
    {
     "name": "stdout",
     "output_type": "stream",
     "text": [
      "His last name is Refsnes\n"
     ]
    }
   ],
   "source": [
    "my_function(fname = \"Tobias\", lname = \"Refsnes\")"
   ]
  },
  {
   "cell_type": "markdown",
   "id": "d8db6c9a-c66c-4c1d-926f-6b63cf50ae42",
   "metadata": {},
   "source": [
    "## Default parameter value"
   ]
  },
  {
   "cell_type": "code",
   "execution_count": 67,
   "id": "e9127c0d-ed56-4a72-bebe-d1de895515ee",
   "metadata": {},
   "outputs": [],
   "source": [
    "def dfunc_(country = \"india\"):\n",
    "    print(\"I am from \" +country)"
   ]
  },
  {
   "cell_type": "code",
   "execution_count": 68,
   "id": "ce864981-f7b6-4251-85eb-3539541fcc2d",
   "metadata": {},
   "outputs": [
    {
     "name": "stdout",
     "output_type": "stream",
     "text": [
      "I am from india\n",
      "I am from sweden\n"
     ]
    }
   ],
   "source": [
    "dfunc_()\n",
    "dfunc_(\"sweden\")"
   ]
  },
  {
   "cell_type": "markdown",
   "id": "f004da30-2dd2-44d1-8ca2-6d95992fc641",
   "metadata": {},
   "source": [
    "## Passing list as an argument"
   ]
  },
  {
   "cell_type": "code",
   "execution_count": 71,
   "id": "eaa368bf-2a97-4117-ad9e-62fdc0a0f482",
   "metadata": {},
   "outputs": [],
   "source": [
    "def func_(food):\n",
    "    for x in food:\n",
    "        print(x)\n",
    "fruits=['apple','banana','mango']\n",
    "        "
   ]
  },
  {
   "cell_type": "code",
   "execution_count": 72,
   "id": "3f43049a-dbdd-41cb-bb6a-1af86497d284",
   "metadata": {},
   "outputs": [
    {
     "name": "stdout",
     "output_type": "stream",
     "text": [
      "apple\n",
      "banana\n",
      "mango\n"
     ]
    }
   ],
   "source": [
    "func_(fruits)"
   ]
  },
  {
   "cell_type": "code",
   "execution_count": 73,
   "id": "d8d18578-ec68-4a57-a6d3-1676b9f42f31",
   "metadata": {},
   "outputs": [],
   "source": [
    "def func_(food):\n",
    "    for x in food:\n",
    "        print(x)\n",
    "ffood=['panipuri','noodles','dahipuri']        "
   ]
  },
  {
   "cell_type": "code",
   "execution_count": 74,
   "id": "f5249fcc-41a8-48c9-be7b-051cb49c958a",
   "metadata": {},
   "outputs": [
    {
     "name": "stdout",
     "output_type": "stream",
     "text": [
      "panipuri\n",
      "noodles\n",
      "dahipuri\n"
     ]
    }
   ],
   "source": [
    "func_(ffood)"
   ]
  },
  {
   "cell_type": "markdown",
   "id": "bd8e7aeb-f3e8-4e39-9aca-bca7235fe293",
   "metadata": {},
   "source": [
    "## Return values"
   ]
  },
  {
   "cell_type": "code",
   "execution_count": 81,
   "id": "3cd9c3fc-5aa3-4ef1-a62a-c5c94876e2ea",
   "metadata": {},
   "outputs": [
    {
     "name": "stdout",
     "output_type": "stream",
     "text": [
      "25\n",
      "30\n",
      "35\n"
     ]
    }
   ],
   "source": [
    "def mul1_(val1):\n",
    "    return 5*val1\n",
    "print(mul1_(5))\n",
    "print(mul1_(6))\n",
    "print(mul1_(7))"
   ]
  },
  {
   "cell_type": "code",
   "execution_count": null,
   "id": "a85e94f3-15a7-4132-a807-0d10789d3335",
   "metadata": {},
   "outputs": [],
   "source": []
  }
 ],
 "metadata": {
  "kernelspec": {
   "display_name": "Python 3",
   "language": "python",
   "name": "python3"
  },
  "language_info": {
   "codemirror_mode": {
    "name": "ipython",
    "version": 3
   },
   "file_extension": ".py",
   "mimetype": "text/x-python",
   "name": "python",
   "nbconvert_exporter": "python",
   "pygments_lexer": "ipython3",
   "version": "3.8.8"
  }
 },
 "nbformat": 4,
 "nbformat_minor": 5
}
